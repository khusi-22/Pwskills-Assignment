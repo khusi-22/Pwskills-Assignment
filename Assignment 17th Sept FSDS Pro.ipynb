{
 "cells": [
  {
   "cell_type": "markdown",
   "id": "f0447ad8-2d97-45fc-ba60-a1cddc5c9898",
   "metadata": {},
   "source": [
    "### For Loop-"
   ]
  },
  {
   "cell_type": "markdown",
   "id": "ea6fb4a3-9539-4607-ba3e-51dfe6414a27",
   "metadata": {},
   "source": [
    "1. Write a Python program to print numbers from 1 to 10 using a for loop."
   ]
  },
  {
   "cell_type": "code",
   "execution_count": 2,
   "id": "366b5ab2-765a-4c94-9301-7ce4fcd72a4f",
   "metadata": {},
   "outputs": [
    {
     "name": "stdout",
     "output_type": "stream",
     "text": [
      "1\n",
      "2\n",
      "3\n",
      "4\n",
      "5\n",
      "6\n",
      "7\n",
      "8\n",
      "9\n",
      "10\n"
     ]
    }
   ],
   "source": [
    "for i in range(1,11):\n",
    "    print(i)\n"
   ]
  },
  {
   "cell_type": "markdown",
   "id": "c936307f-677b-4523-bade-59a89ac0c01c",
   "metadata": {},
   "source": [
    "2. Explain the difference between a for loop and a while loop in Python.\n"
   ]
  },
  {
   "cell_type": "markdown",
   "id": "e3fe90a7-e40c-4f9e-82eb-95eea6acc3d1",
   "metadata": {},
   "source": [
    " For loop is used to iterate a sequence of items whereas while loop is used to execute a block of code till a condition is satisfied."
   ]
  },
  {
   "cell_type": "markdown",
   "id": "2d819509-5063-4c1d-8cdf-0e0df789fded",
   "metadata": {},
   "source": [
    "3. Write a Python program to calculate the sum of all numbers from 1 to 100 using a for loop."
   ]
  },
  {
   "cell_type": "code",
   "execution_count": 1,
   "id": "bab3a3bf-5718-432d-bf9c-0c9d9445975a",
   "metadata": {},
   "outputs": [
    {
     "name": "stdout",
     "output_type": "stream",
     "text": [
      "The sum of all numbers from 1 to 100 is : 5050\n"
     ]
    }
   ],
   "source": [
    "sum=0\n",
    "for i in range(1,101):\n",
    "    sum+=i\n",
    "print(\"The sum of all numbers from 1 to 100 is :\",sum)"
   ]
  },
  {
   "cell_type": "markdown",
   "id": "2e5a96d8-6774-4e97-91fa-8f8bbd8e1765",
   "metadata": {},
   "source": [
    "4. How do you iterate through a list using a for loop in Python?"
   ]
  },
  {
   "cell_type": "code",
   "execution_count": 1,
   "id": "9d65f1e2-75a5-42e3-8f85-bb892a949e54",
   "metadata": {},
   "outputs": [
    {
     "name": "stdout",
     "output_type": "stream",
     "text": [
      "1\n",
      "2\n",
      "3\n",
      "4\n",
      "5\n"
     ]
    }
   ],
   "source": [
    "le=[1,2,3,4,5]\n",
    "for i in le:\n",
    "    print(i)"
   ]
  },
  {
   "cell_type": "markdown",
   "id": "f329fe1c-e802-41c4-8f48-ada8b128f8a0",
   "metadata": {},
   "source": [
    "5. Write a Python program to find the product of all elements in a list using a for loop."
   ]
  },
  {
   "cell_type": "code",
   "execution_count": 4,
   "id": "aa424cc6-81eb-4825-be68-2e371aae8101",
   "metadata": {},
   "outputs": [
    {
     "name": "stdout",
     "output_type": "stream",
     "text": [
      "The product of all elements in a list : 120\n"
     ]
    }
   ],
   "source": [
    "l5=[1,2,3,4,5]\n",
    "product=1\n",
    "for i in l5:\n",
    "    product=product*i\n",
    "print(f\"The product of all elements in a list : {product}\")"
   ]
  },
  {
   "cell_type": "markdown",
   "id": "47d68037-5651-467d-ac40-c155bc08d13d",
   "metadata": {},
   "source": [
    "6. Create a Python program that prints all even numbers from 1 to 20 using a for loop."
   ]
  },
  {
   "cell_type": "code",
   "execution_count": 7,
   "id": "db8f70c0-bd5e-4ce0-83b2-fd3dc05926ee",
   "metadata": {},
   "outputs": [
    {
     "name": "stdout",
     "output_type": "stream",
     "text": [
      "2\n",
      "4\n",
      "6\n",
      "8\n",
      "10\n",
      "12\n",
      "14\n",
      "16\n",
      "18\n",
      "20\n"
     ]
    }
   ],
   "source": [
    "for i in range(1,21):\n",
    "    if i%2==0:\n",
    "        print(f\"{i}\")"
   ]
  },
  {
   "cell_type": "markdown",
   "id": "04c1ce44-ab71-40b4-a7a8-5e6fb6cb09ae",
   "metadata": {},
   "source": [
    "7. Write a Python program that calculates the factorial of a number using a for loop."
   ]
  },
  {
   "cell_type": "code",
   "execution_count": 9,
   "id": "b5d60ffd-d5cc-4704-a38d-6f6beaed9561",
   "metadata": {},
   "outputs": [
    {
     "name": "stdin",
     "output_type": "stream",
     "text": [
      "Enter the number : 5\n"
     ]
    },
    {
     "name": "stdout",
     "output_type": "stream",
     "text": [
      "Factorial of 5 is: 120\n"
     ]
    }
   ],
   "source": [
    "n=int(input(\"Enter the number :\"))\n",
    "mult=1\n",
    "for i in range(1,n+1):\n",
    "    mult=mult*i\n",
    "print(f\"Factorial of {n} is: {mult}\")"
   ]
  },
  {
   "cell_type": "markdown",
   "id": "436512b3-b842-485a-8f92-437c84eaacbe",
   "metadata": {},
   "source": [
    "8. How can you iterate through the characters of a string using a for loop in Python?"
   ]
  },
  {
   "cell_type": "code",
   "execution_count": 12,
   "id": "4fcafc41-e613-491f-a6bd-485d351c01c7",
   "metadata": {},
   "outputs": [
    {
     "name": "stdin",
     "output_type": "stream",
     "text": [
      "Enter the string : hey morning\n"
     ]
    },
    {
     "name": "stdout",
     "output_type": "stream",
     "text": [
      "The characters of the string are given below : \n",
      "h\n",
      "e\n",
      "y\n",
      " \n",
      "m\n",
      "o\n",
      "r\n",
      "n\n",
      "i\n",
      "n\n",
      "g\n"
     ]
    }
   ],
   "source": [
    "str8=input(\"Enter the string :\")\n",
    "print(\"The characters of the string are given below : \")\n",
    "for i in str8:\n",
    "    print(i)"
   ]
  },
  {
   "cell_type": "markdown",
   "id": "287dbe22-8573-468a-9070-1f774e852a31",
   "metadata": {},
   "source": [
    "9. Write a Python program to find the largest number in a list using a for loop."
   ]
  },
  {
   "cell_type": "code",
   "execution_count": 16,
   "id": "5db8c184-0e89-4134-90ea-4b59a1ce166f",
   "metadata": {},
   "outputs": [
    {
     "name": "stdout",
     "output_type": "stream",
     "text": [
      "The largest number in the list is : 91\n"
     ]
    }
   ],
   "source": [
    "l9=[91,2,38,42,5,6]\n",
    "m=l9[0]\n",
    "for i in range(1,len(l9)):\n",
    "    if m<l9[i]:\n",
    "        m=l9[i]\n",
    "\n",
    "print(f\"The largest number in the list is : {m}\")"
   ]
  },
  {
   "cell_type": "markdown",
   "id": "e2aadc67-d273-4110-9e54-b502da2eac7b",
   "metadata": {},
   "source": [
    "10. Create a Python program that prints the Fibonacci sequence up to a specified limit using a for loop."
   ]
  },
  {
   "cell_type": "code",
   "execution_count": 26,
   "id": "cc6db103-85d2-40ac-81a5-1aa448c7a50e",
   "metadata": {},
   "outputs": [
    {
     "name": "stdin",
     "output_type": "stream",
     "text": [
      "Enter the number:  85\n",
      "Enter the limit 25\n"
     ]
    },
    {
     "name": "stdout",
     "output_type": "stream",
     "text": [
      "Fibonacci sequence upto 25 is : [0, 1, 1, 2, 3, 5, 8, 13, 21]\n"
     ]
    }
   ],
   "source": [
    "n=int(input(\"Enter the number: \"))\n",
    "limit=int(input(\"Enter the limit\"))\n",
    "l10=[0,1]\n",
    "for i in range(n+1):\n",
    "    next=l10[-2]+l10[-1]\n",
    "    if next<limit:\n",
    "        l10.append(next)\n",
    "print(f\"Fibonacci sequence upto {limit} is : {l10}\")\n"
   ]
  },
  {
   "cell_type": "markdown",
   "id": "11bfa425-cfc8-4d42-9f07-9b7b3cb2a94c",
   "metadata": {},
   "source": [
    "11. Write a Python program to count the number of vowels in a given string using a for loop."
   ]
  },
  {
   "cell_type": "code",
   "execution_count": 3,
   "id": "a9f8c2ff-ec8a-4d8f-a524-d0dc7e78762e",
   "metadata": {},
   "outputs": [
    {
     "name": "stdin",
     "output_type": "stream",
     "text": [
      "Enter the string: GoOD MORNING\n"
     ]
    },
    {
     "name": "stdout",
     "output_type": "stream",
     "text": [
      "The number of vowels in string is : 4\n"
     ]
    }
   ],
   "source": [
    "vowels=\"aeiouAEIOU\"\n",
    "str11=input(\"Enter the string:\")\n",
    "s=0\n",
    "for i in str11:\n",
    "    if i in vowels:\n",
    "        s+=1\n",
    "print(f\"The number of vowels in string is : {s}\")"
   ]
  },
  {
   "cell_type": "markdown",
   "id": "4737e9b8-9f33-41dd-be29-42667ffe41f7",
   "metadata": {},
   "source": [
    "12. Create a Python program that generates a multiplication table for a given number using a for loop."
   ]
  },
  {
   "cell_type": "code",
   "execution_count": 5,
   "id": "077acf56-1f84-4dc1-8c0b-7b5af836a78d",
   "metadata": {},
   "outputs": [
    {
     "name": "stdin",
     "output_type": "stream",
     "text": [
      "Enter the number : 5\n"
     ]
    },
    {
     "name": "stdout",
     "output_type": "stream",
     "text": [
      "Multiple table for 5 :\n",
      "5*1=5\n",
      "5*2=10\n",
      "5*3=15\n",
      "5*4=20\n",
      "5*5=25\n",
      "5*6=30\n",
      "5*7=35\n",
      "5*8=40\n",
      "5*9=45\n",
      "5*10=50\n"
     ]
    }
   ],
   "source": [
    "n=int(input(\"Enter the number :\"))\n",
    "print(f\"Multiple table for {n} :\")\n",
    "for i in range(1,11):\n",
    "    print(f\"{n}*{i}={n*i}\")"
   ]
  },
  {
   "cell_type": "markdown",
   "id": "251d685c-be57-4a76-a2d3-a58736d66718",
   "metadata": {},
   "source": [
    "13. Write a Python program to reverse a list using a for loop."
   ]
  },
  {
   "cell_type": "code",
   "execution_count": 3,
   "id": "360ff754-5ddd-4345-832a-a4d026117919",
   "metadata": {},
   "outputs": [
    {
     "name": "stdout",
     "output_type": "stream",
     "text": [
      "The reversed list is : ['b', 'a', 4, 2, 1]\n"
     ]
    }
   ],
   "source": [
    "l13=[1,2,4,'a','b']\n",
    "l13.reverse()\n",
    "print(f\"The reversed list is : {l13}\")"
   ]
  },
  {
   "cell_type": "markdown",
   "id": "9ee40849-c922-4060-a46b-d8817a9dfa46",
   "metadata": {},
   "source": [
    "14. Write a Python program to find the common elements between two lists using a for loop."
   ]
  },
  {
   "cell_type": "code",
   "execution_count": 7,
   "id": "cfea8fa5-c373-44ce-86aa-0776a928dfa3",
   "metadata": {},
   "outputs": [
    {
     "name": "stdout",
     "output_type": "stream",
     "text": [
      "The common elements are : ['a', 'b']\n"
     ]
    }
   ],
   "source": [
    "l14a=[1,2,3,'a','b',4]\n",
    "l14b=['a','b','c','d']\n",
    "l14=[i for i in l14a for j in l14b if i==j]\n",
    "print(f\"The common elements are : {l14}\")"
   ]
  },
  {
   "cell_type": "markdown",
   "id": "e83eabbb-ec29-46eb-8c02-543d260304ab",
   "metadata": {},
   "source": [
    "15. Explain how to use a for loop to iterate through the keys and values of a dictionary in Python"
   ]
  },
  {
   "cell_type": "code",
   "execution_count": 4,
   "id": "7e9ac95c-0be1-42f1-a3b9-aefdbc86c49a",
   "metadata": {},
   "outputs": [
    {
     "name": "stdout",
     "output_type": "stream",
     "text": [
      "a:1\n",
      "b:2\n",
      "c:3\n",
      "d:4\n",
      "e:5\n"
     ]
    }
   ],
   "source": [
    "# we can use built-in method dict.items() to find the keys and value of a dictionary.\n",
    "d1={'a':1,'b':2,'c':3,'d':4,'e':5}\n",
    "for key,value in d1.items():\n",
    "    print(f\"{key}:{value}\")"
   ]
  },
  {
   "cell_type": "markdown",
   "id": "c433d5e1-e430-46ec-85cc-e22a72a9dec2",
   "metadata": {},
   "source": [
    "16. Write a Python program to find the GCD (Greatest Common Divisor) of two numbers using a for loop."
   ]
  },
  {
   "cell_type": "code",
   "execution_count": 1,
   "id": "9e2af198-9bc9-4854-8c82-1ce4601641f5",
   "metadata": {},
   "outputs": [
    {
     "name": "stdout",
     "output_type": "stream",
     "text": [
      "The gcd of 60 and 48 is: 12\n"
     ]
    }
   ],
   "source": [
    "gcd = lambda a, b: a if b == 0 else gcd(b, a % b)\n",
    "\n",
    "print(\"The gcd of 60 and 48 is:\", gcd(60,48))"
   ]
  },
  {
   "cell_type": "markdown",
   "id": "49bb8b68-d69a-4316-bc94-e8c45beeb6a6",
   "metadata": {},
   "source": [
    "17. Create a Python program that checks if a string is a palindrome using a for loop."
   ]
  },
  {
   "cell_type": "code",
   "execution_count": 22,
   "id": "8b3a29f4-98da-4af0-a819-6edc6177a54f",
   "metadata": {},
   "outputs": [
    {
     "name": "stdin",
     "output_type": "stream",
     "text": [
      "Enter the string : level\n"
     ]
    },
    {
     "name": "stdout",
     "output_type": "stream",
     "text": [
      "The string is Palindrome.\n"
     ]
    }
   ],
   "source": [
    "str17=input(\"Enter the string :\")\n",
    "def string(str17):\n",
    "    n=len(str17)\n",
    "    for i in range(0,n):\n",
    "        if str(i)==str(n-i-1):\n",
    "            return True\n",
    "        return True\n",
    "    \n",
    "    \n",
    "if string(str17):\n",
    "    print(\"The string is Palindrome.\")\n",
    "else:\n",
    "    print(\"The string isn't Palindrome.\")"
   ]
  },
  {
   "cell_type": "markdown",
   "id": "4be07e87-9032-4a3a-ba1b-e14e4c67cd83",
   "metadata": {},
   "source": [
    "18. Write a Python program to remove duplicates from a list using a for loop."
   ]
  },
  {
   "cell_type": "code",
   "execution_count": 24,
   "id": "82979662-5a5a-4aa8-ab22-cf05a457819a",
   "metadata": {},
   "outputs": [
    {
     "name": "stdout",
     "output_type": "stream",
     "text": [
      "The unique list is : [1, 2, 4, 5]\n"
     ]
    }
   ],
   "source": [
    "l18=[1,2,4,1,4,1,2,5,1,4,1,4,2,4,1]\n",
    "l18_u=[]\n",
    "l18_e=[]\n",
    "for i in l18:\n",
    "    if i not in l18_u:\n",
    "        l18_u.append(i)\n",
    "print(f\"The unique list is : {l18_u}\")        "
   ]
  },
  {
   "cell_type": "markdown",
   "id": "09e86d80-6d12-4732-b45c-fc4898ee001a",
   "metadata": {},
   "source": [
    "19. Create a Python program that counts the number of words in a sentence using a for loop."
   ]
  },
  {
   "cell_type": "code",
   "execution_count": 28,
   "id": "d0ed95de-b2ea-4ca7-a14d-e245bec06eb4",
   "metadata": {},
   "outputs": [
    {
     "name": "stdin",
     "output_type": "stream",
     "text": [
      "Enter the sentence : hey have a nice day\n"
     ]
    },
    {
     "name": "stdout",
     "output_type": "stream",
     "text": [
      "The number of words are : 5\n"
     ]
    }
   ],
   "source": [
    "str19=input(\"Enter the sentence :\")\n",
    "l19=str19.split()\n",
    "s=0\n",
    "for i in l19:\n",
    "    s+=1\n",
    "print(f\"The number of words are : {s}\")"
   ]
  },
  {
   "cell_type": "markdown",
   "id": "f6c507a6-d2e0-4efd-b9f7-f00f29c86f94",
   "metadata": {},
   "source": [
    "20. Write a Python program to find the sum of all odd numbers from 1 to 50 using a for loop."
   ]
  },
  {
   "cell_type": "code",
   "execution_count": 34,
   "id": "aa1691d7-e804-41fa-96f8-4f982f6afac1",
   "metadata": {},
   "outputs": [
    {
     "name": "stdout",
     "output_type": "stream",
     "text": [
      "The sum of all odd numbers are : 625\n"
     ]
    }
   ],
   "source": [
    "l20=[i for i in range(1,51) if i%2!=0]\n",
    "print(f\"The sum of all odd numbers are : {sum(l20)}\")"
   ]
  },
  {
   "cell_type": "markdown",
   "id": "362cf62d-8179-400b-b400-3744768fec50",
   "metadata": {},
   "source": [
    "21. Write a Python program that checks if a given year is a leap year using a for loop."
   ]
  },
  {
   "cell_type": "code",
   "execution_count": 36,
   "id": "8c730fd9-73d2-4504-88ee-54f9ecdc6791",
   "metadata": {},
   "outputs": [
    {
     "name": "stdin",
     "output_type": "stream",
     "text": [
      "Enter the year : 2000\n"
     ]
    },
    {
     "name": "stdout",
     "output_type": "stream",
     "text": [
      "The year is a leap year.\n"
     ]
    }
   ],
   "source": [
    "yr=int(input(\"Enter the year :\"))\n",
    "if yr%4==0:\n",
    "    print(\"The year is a leap year.\")\n",
    "else:\n",
    "    print(\"The year isn't a leap year.\")"
   ]
  },
  {
   "cell_type": "markdown",
   "id": "8d84ec7d-9635-4bc4-838c-6a7f89a45e77",
   "metadata": {},
   "source": [
    "22. Create a Python program that calculates the square root of a number using a for loop."
   ]
  },
  {
   "cell_type": "code",
   "execution_count": 38,
   "id": "a598a5a7-7fd5-4113-8344-22fb6c4f2733",
   "metadata": {},
   "outputs": [
    {
     "name": "stdin",
     "output_type": "stream",
     "text": [
      "Enter the number 25\n"
     ]
    },
    {
     "name": "stdout",
     "output_type": "stream",
     "text": [
      "5\n"
     ]
    }
   ],
   "source": [
    "def countSquares(x):\n",
    "    sqrt = x**0.5\n",
    "    result = int(sqrt)\n",
    "    return result\n",
    "\n",
    "x = int(input(\"Enter the number\"))\n",
    "print(countSquares(x))"
   ]
  },
  {
   "cell_type": "markdown",
   "id": "a156668d-0564-4e07-80b8-4f8261dd7afe",
   "metadata": {},
   "source": [
    "23. Write a Python program to find the LCM (Least Common Multiple) of two numbers using a for loop."
   ]
  },
  {
   "cell_type": "code",
   "execution_count": 41,
   "id": "a2e83204-e761-4bf7-a0fd-0fe32335f5ff",
   "metadata": {},
   "outputs": [
    {
     "name": "stdout",
     "output_type": "stream",
     "text": [
      "LCM of 15 and 20 is: 60.0\n"
     ]
    }
   ],
   "source": [
    "x = 15\n",
    "y = 20\n",
    "if x > y:\n",
    "    x, y = y, x\n",
    "for i in range(1,x+1):\n",
    "    if x%i == 0 and y%i == 0:\n",
    "        gcd = i\n",
    "\n",
    "lcm = (x*y)/gcd\n",
    "\n",
    "print(\"LCM of\", x, \"and\", y, \"is:\", lcm)"
   ]
  },
  {
   "cell_type": "markdown",
   "id": "f65a63df-dc65-4f94-998f-88225dbf15a3",
   "metadata": {},
   "source": [
    "### If else :"
   ]
  },
  {
   "cell_type": "markdown",
   "id": "694cb02b-0ac3-4b02-a26b-df88e107459b",
   "metadata": {},
   "source": [
    "1. Write a Python program to check if a number is positive, negative, or zero using an if-else statement."
   ]
  },
  {
   "cell_type": "code",
   "execution_count": 42,
   "id": "f58e2d23-383b-4961-93ac-669086e86956",
   "metadata": {},
   "outputs": [
    {
     "name": "stdin",
     "output_type": "stream",
     "text": [
      "Enter the number : 4\n"
     ]
    },
    {
     "name": "stdout",
     "output_type": "stream",
     "text": [
      "The number is positive.\n"
     ]
    }
   ],
   "source": [
    "num=int(input(\"Enter the number :\"))\n",
    "if num <0:\n",
    "    print(\"The number is negative.\")\n",
    "elif num==0:\n",
    "    print(\"The number is zero.\")\n",
    "else:\n",
    "    print(\"The number is positive.\")"
   ]
  },
  {
   "cell_type": "markdown",
   "id": "b203a6e8-9070-4847-95f2-6e7906b604a9",
   "metadata": {},
   "source": [
    "2. Create a Python program that checks if a given number is even or odd using an if-else statement."
   ]
  },
  {
   "cell_type": "code",
   "execution_count": 43,
   "id": "18fe442a-d547-4fc6-82ec-46810fe41b0b",
   "metadata": {},
   "outputs": [
    {
     "name": "stdin",
     "output_type": "stream",
     "text": [
      "Enter the number : 84\n"
     ]
    },
    {
     "name": "stdout",
     "output_type": "stream",
     "text": [
      "The number is even.\n"
     ]
    }
   ],
   "source": [
    "num=int(input(\"Enter the number :\"))\n",
    "if num % 2 ==0:\n",
    "    print(\"The number is even.\")\n",
    "else:\n",
    "    print(\"The number is odd.\")"
   ]
  },
  {
   "cell_type": "markdown",
   "id": "f2cd1b08-6758-42f9-8d7b-238ba7be547b",
   "metadata": {},
   "source": [
    "3. How can you use nested if-else statements in Python, and provide an example?"
   ]
  },
  {
   "cell_type": "code",
   "execution_count": 5,
   "id": "b5a967da-7a3a-4b69-bf25-ecc087976a75",
   "metadata": {},
   "outputs": [
    {
     "name": "stdout",
     "output_type": "stream",
     "text": [
      "45 is greatest one.\n"
     ]
    }
   ],
   "source": [
    "# Nested if-else condition is used when inner if-condtion is used only when outer if-condition is satisfied.\n",
    "m,n,p=12,45,32\n",
    "if m>n:\n",
    "    if m>p:\n",
    "        print(f\"{m} is greatest one.\")\n",
    "    else:\n",
    "        print(f\"{p} is the greatest one.\")\n",
    "else:\n",
    "    if n>p:\n",
    "        print(f\"{n} is greatest one.\")"
   ]
  },
  {
   "cell_type": "markdown",
   "id": "f09135ad-6046-4a27-85bd-b97d5080ff27",
   "metadata": {},
   "source": [
    "4. Write a Python program to determine the largest of three numbers using if-else."
   ]
  },
  {
   "cell_type": "code",
   "execution_count": 44,
   "id": "cb6d162f-b61c-45ec-b757-3472b183650e",
   "metadata": {},
   "outputs": [
    {
     "name": "stdin",
     "output_type": "stream",
     "text": [
      "Enter the number 84\n",
      "Enter the number 45\n",
      "Enter the number 35\n"
     ]
    },
    {
     "name": "stdout",
     "output_type": "stream",
     "text": [
      "84 is largest one.\n"
     ]
    }
   ],
   "source": [
    "m,n,o=int(input(\"Enter the number\")),int(input(\"Enter the number\")),int(input(\"Enter the number\"))\n",
    "if m>n and m>o:\n",
    "    print(f\"{m} is largest one.\")\n",
    "elif n>m and n>o:\n",
    "    print(f\"{n} is largest one.\")\n",
    "else:\n",
    "    print(f\"{o} is largest one.\")"
   ]
  },
  {
   "cell_type": "markdown",
   "id": "01e1fdd9-2dff-455b-b1a0-477e852a4436",
   "metadata": {},
   "source": [
    "5. Write a Python program that calculates the absolute value of a number using if-else."
   ]
  },
  {
   "cell_type": "code",
   "execution_count": 47,
   "id": "e01f8afd-8c61-48f2-91ed-b9b54f3746ad",
   "metadata": {},
   "outputs": [
    {
     "name": "stdin",
     "output_type": "stream",
     "text": [
      "Enter the number : -5\n"
     ]
    },
    {
     "name": "stdout",
     "output_type": "stream",
     "text": [
      "The absolute value of -5 is 5.\n"
     ]
    }
   ],
   "source": [
    "n=int(input(\"Enter the number :\"))\n",
    "if n>0:\n",
    "    print(f\"The absolute value of {n} is {n}.\")\n",
    "else:\n",
    "    print(f\"The absolute value of {n} is {-n}.\")"
   ]
  },
  {
   "cell_type": "markdown",
   "id": "232195b8-9d4e-4953-a2f1-9e799e8e4db5",
   "metadata": {},
   "source": [
    "6. Create a Python program that checks if a given character is a vowel or consonant using if-else."
   ]
  },
  {
   "cell_type": "code",
   "execution_count": 48,
   "id": "7c6bbd3d-7eb0-4b12-948b-60eaaf5b4577",
   "metadata": {},
   "outputs": [
    {
     "name": "stdin",
     "output_type": "stream",
     "text": [
      "Enter a character : a\n"
     ]
    },
    {
     "name": "stdout",
     "output_type": "stream",
     "text": [
      "The character is a vowel.\n"
     ]
    }
   ],
   "source": [
    "char=input(\"Enter a character :\")\n",
    "vowels=\"aeiouAEIOU\"\n",
    "if char in vowels:\n",
    "    print(\"The character is a vowel.\")\n",
    "else:\n",
    "    print(\"The character is a consonant.\")"
   ]
  },
  {
   "cell_type": "markdown",
   "id": "99de7218-7694-411a-8ba3-c7049a0c9edb",
   "metadata": {},
   "source": [
    "7. Write a Python program to determine if a user is eligible to vote based on their age using if-else."
   ]
  },
  {
   "cell_type": "code",
   "execution_count": 1,
   "id": "a6d0c9ff-06d8-4c4b-86e0-e40ab1a8e127",
   "metadata": {},
   "outputs": [
    {
     "name": "stdin",
     "output_type": "stream",
     "text": [
      "Enter the age : 18\n"
     ]
    },
    {
     "name": "stdout",
     "output_type": "stream",
     "text": [
      "The user is eligible to vote.\n"
     ]
    }
   ],
   "source": [
    "age=int(input(\"Enter the age :\"))\n",
    "if age >= 18 :\n",
    "    print(\"The user is eligible to vote.\")\n",
    "else:\n",
    "    print(\"The user isn't eligible to vote.\")"
   ]
  },
  {
   "cell_type": "markdown",
   "id": "950e7587-ae5b-42fd-90b3-a583ac544a9e",
   "metadata": {},
   "source": [
    "8. Create a Python program that calculates the discount amount based on the purchase amount\n",
    "using if-else."
   ]
  },
  {
   "cell_type": "code",
   "execution_count": 3,
   "id": "da6049ba-a3bc-4fcf-b26c-da565923c05b",
   "metadata": {},
   "outputs": [
    {
     "name": "stdin",
     "output_type": "stream",
     "text": [
      "Enter Sale Amount:  10000\n"
     ]
    },
    {
     "name": "stdout",
     "output_type": "stream",
     "text": [
      "Discount :  1200.0\n",
      "Net Pay  :  8800.0\n"
     ]
    }
   ],
   "source": [
    "amount = int(input(\"Enter Sale Amount: \"))\n",
    "if(amount>0):\n",
    "    if amount<=5000:\n",
    "        disc = amount*0.05\n",
    "    elif amount<=15000:\n",
    "        disc=amount*0.12\n",
    "    elif amount<=25000:\n",
    "        disc=0.2 * amount\n",
    "    else:\n",
    "         disc=0.3 * amount\n",
    "\n",
    "    print(\"Discount : \",disc)\n",
    "    print(\"Net Pay  : \",amount-disc)\n",
    "else:\n",
    "    print(\"Invalid Amount\")"
   ]
  },
  {
   "cell_type": "markdown",
   "id": "83bd9b73-e5cc-4a37-b25e-b79b9cfb53b2",
   "metadata": {},
   "source": [
    "9. Write a Python program to check if a number is within a specified range using if-else."
   ]
  },
  {
   "cell_type": "code",
   "execution_count": 5,
   "id": "3619df45-eafe-4c5f-9767-2dfba486beb8",
   "metadata": {},
   "outputs": [
    {
     "name": "stdin",
     "output_type": "stream",
     "text": [
      "Enter the number : 102\n"
     ]
    },
    {
     "name": "stdout",
     "output_type": "stream",
     "text": [
      "The number 102 is within the range of -100.\n"
     ]
    }
   ],
   "source": [
    "num=int(input(\"Enter the number :\"))\n",
    "if 0<=num<=50:\n",
    "    print(f\"The number {num} is within the range of {0} to {50}.\")\n",
    "elif 50<num<=100:\n",
    "    print(f\"The number {num} is within the range of {50-100}.\")\n",
    "elif 100 < num <= 200:\n",
    "    print(f\"The number {num} is within the range of {100-200}.\")\n",
    "elif 200< num <=300:\n",
    "    print(f\"The number {num} is within the range of {200-300}.\")\n",
    "elif 300 < num <=400:\n",
    "    print(f\"The number {num} is within the range of {300-400}.\")\n",
    "elif 400<num<=500:\n",
    "    print(f\"The number {num} is within the range of {400-500}.\")\n",
    "else:\n",
    "    print(f\"The number {num} is greater than {500}.\")"
   ]
  },
  {
   "cell_type": "markdown",
   "id": "1471510b-3206-4e10-818a-fac09b3351e1",
   "metadata": {},
   "source": [
    "10. Create a Python program that determines the grade of a student based on their score using if-else."
   ]
  },
  {
   "cell_type": "code",
   "execution_count": 1,
   "id": "05fc4f2c-9a20-4fed-9a7b-854e36b8c659",
   "metadata": {},
   "outputs": [
    {
     "name": "stdin",
     "output_type": "stream",
     "text": [
      "Enter the score: 54\n"
     ]
    },
    {
     "name": "stdout",
     "output_type": "stream",
     "text": [
      "The student has 'D' grade. \n"
     ]
    }
   ],
   "source": [
    "n=int(input(\"Enter the score:\"))\n",
    "if n>=90:\n",
    "    print(f\"The student has 'A' grade. \")\n",
    "elif n>=80:\n",
    "    print(f\"The student has 'B' grade. \")\n",
    "elif n>=70:\n",
    "    print(f\"The student has 'C' grade. \")\n",
    "elif n>=50:\n",
    "    print(f\"The student has 'D' grade. \")\n",
    "elif n>=30:\n",
    "    print(f\"The student has 'E' grade. \")\n",
    "else:\n",
    "    print(f\"The student failed\")"
   ]
  },
  {
   "cell_type": "markdown",
   "id": "5da62315-08f5-4ef2-80e4-32c53ce2189d",
   "metadata": {},
   "source": [
    "11. Write a Python program to check if a string is empty or not using if-else."
   ]
  },
  {
   "cell_type": "code",
   "execution_count": 3,
   "id": "ee544868-7310-44aa-893c-d0a82ca4ac2d",
   "metadata": {},
   "outputs": [
    {
     "name": "stdin",
     "output_type": "stream",
     "text": [
      "Enter the string :  \n"
     ]
    },
    {
     "name": "stdout",
     "output_type": "stream",
     "text": [
      "The string is empty.\n"
     ]
    }
   ],
   "source": [
    "str11=input(\"Enter the string :\")\n",
    "if str11==' ':\n",
    "    print(\"The string is empty.\")\n",
    "else:\n",
    "    print(\"The string isn't empty.\")"
   ]
  },
  {
   "cell_type": "markdown",
   "id": "9ad590e2-2f09-484f-ab61-e272ffe92e35",
   "metadata": {},
   "source": [
    "12. Create a Python program that identifies the type of a triangle (e.g., equilateral, isosceles, or scalene) based on input values using if-else."
   ]
  },
  {
   "cell_type": "code",
   "execution_count": 4,
   "id": "a058cb81-513d-4481-bc29-8e20c813031f",
   "metadata": {},
   "outputs": [
    {
     "name": "stdin",
     "output_type": "stream",
     "text": [
      "Enter the length of side1: 7\n",
      "Enter the length of side2: 8\n",
      "Enter the length of side3: 5\n"
     ]
    },
    {
     "name": "stdout",
     "output_type": "stream",
     "text": [
      "The triangle is scalene\n"
     ]
    }
   ],
   "source": [
    "s1,s2,s3=int(input(\"Enter the length of side1:\")),int(input(\"Enter the length of side2:\")),int(input(\"Enter the length of side3:\"))\n",
    "if s1==s2:\n",
    "    if s2==s3:\n",
    "        print(\"The triangle is equilateral.\")\n",
    "    else:\n",
    "        print(\"The triangle is isosceles.\")\n",
    "else:\n",
    "    print(\"The triangle is scalene\")"
   ]
  },
  {
   "cell_type": "markdown",
   "id": "d59a5bd5-47e7-45cd-9a00-aeca3496e8b9",
   "metadata": {},
   "source": [
    "13. Write a Python program to determine the day of the week based on a user-provided number using if-else."
   ]
  },
  {
   "cell_type": "code",
   "execution_count": 5,
   "id": "b03dda94-6979-4bfa-a491-fd795eb589bb",
   "metadata": {},
   "outputs": [
    {
     "name": "stdin",
     "output_type": "stream",
     "text": [
      "Enter the number : 4\n"
     ]
    },
    {
     "name": "stdout",
     "output_type": "stream",
     "text": [
      "4 - Thursday\n"
     ]
    }
   ],
   "source": [
    "n=int(input(\"Enter the number :\"))\n",
    "if n==1:\n",
    "    print(f\"{n} - Monday\")\n",
    "elif n==2:\n",
    "    print(f\"{n} - Tuesday\")\n",
    "elif n==3:\n",
    "    print(f\"{n} - Wednesday\")\n",
    "elif n==4:\n",
    "    print(f\"{n} - Thursday\")\n",
    "elif n==5:\n",
    "    print(f\"{n} - Friday\")\n",
    "elif n==6:\n",
    "    print(f\"{n} - Saturday\")\n",
    "elif n==7:\n",
    "    print(f\"{n} - Sunday\")\n",
    "else:\n",
    "    print(f\"{n} - 'Invalid'\")"
   ]
  },
  {
   "cell_type": "markdown",
   "id": "d719636e-1925-4595-8c41-dae74249f86c",
   "metadata": {},
   "source": [
    "14. Create a Python program that checks if a given year is a leap year using both if-else and a function."
   ]
  },
  {
   "cell_type": "code",
   "execution_count": 6,
   "id": "70702c20-33f4-44c5-89d0-f418f1393225",
   "metadata": {},
   "outputs": [
    {
     "name": "stdin",
     "output_type": "stream",
     "text": [
      "Enter the year: 2014\n"
     ]
    },
    {
     "name": "stdout",
     "output_type": "stream",
     "text": [
      "The given year 2014 isn't a leap year\n"
     ]
    }
   ],
   "source": [
    "n=int(input(\"Enter the year:\"))\n",
    "if n%4==0:\n",
    "    print(f\"The given year {n} is a leap year\")\n",
    "else:\n",
    "    print(f\"The given year {n} isn't a leap year\")"
   ]
  },
  {
   "cell_type": "markdown",
   "id": "17cb4fc8-814d-44c5-8b04-5866fd2d0a81",
   "metadata": {},
   "source": [
    "15. How do you use the \"assert\" statement in Python to add debugging checks within if-else blocks?"
   ]
  },
  {
   "cell_type": "markdown",
   "id": "7f1891e8-12d4-470b-90e9-fc8c79d09bbe",
   "metadata": {},
   "source": [
    "In simpler terms, we can say that assertion is the boolean expression that checks if the statement is True or False. If the statement is true then it does nothing and continues the execution, but if the statement is False then it stops the execution of the program and throws an error."
   ]
  },
  {
   "cell_type": "code",
   "execution_count": 7,
   "id": "ce65d421-bf0e-427b-839e-5e661d1fac24",
   "metadata": {},
   "outputs": [
    {
     "name": "stdout",
     "output_type": "stream",
     "text": [
      "The value of a / b is : \n",
      "1.0\n"
     ]
    }
   ],
   "source": [
    "a = 4\n",
    "b = 4\n",
    "\n",
    "print(\"The value of a / b is : \")\n",
    "assert b != 0, \"Zero Division Error\"\n",
    "print(a / b)"
   ]
  },
  {
   "cell_type": "markdown",
   "id": "fbb4fae7-c4a6-48ac-8944-b0c6f6479ebb",
   "metadata": {},
   "source": [
    "17. Write a Python program to categorize a given character as uppercase, lowercase, or neither\n",
    "using if-else."
   ]
  },
  {
   "cell_type": "code",
   "execution_count": 1,
   "id": "384d9283-434e-4aae-a5a4-9292d1b15aa6",
   "metadata": {},
   "outputs": [
    {
     "name": "stdin",
     "output_type": "stream",
     "text": [
      "Enter the character : l\n"
     ]
    },
    {
     "name": "stdout",
     "output_type": "stream",
     "text": [
      "The character is lowercase.\n"
     ]
    }
   ],
   "source": [
    "char=input(\"Enter the character :\")\n",
    "if char.isupper()==True:\n",
    "    print(\"The character is uppercase.\")\n",
    "elif char.islower()==True:\n",
    "    print(\"The character is lowercase.\")\n",
    "else:\n",
    "    print(\"The character is neither uppercase nor lowercase.\")"
   ]
  },
  {
   "cell_type": "markdown",
   "id": "7c458a1b-e9db-486b-bcbd-9fd546863fb4",
   "metadata": {},
   "source": [
    "18. Write a Python program to determine the roots of a quadratic equation using if-else."
   ]
  },
  {
   "cell_type": "code",
   "execution_count": 2,
   "id": "324ac03e-b59a-429e-8f2a-9f5646eb3df6",
   "metadata": {},
   "outputs": [
    {
     "name": "stdin",
     "output_type": "stream",
     "text": [
      "Enter the 1st coefficient:  1\n",
      "Enter the 2nd coefficient:  3\n",
      "Enter the 3rd coefficient:  2\n"
     ]
    },
    {
     "name": "stdout",
     "output_type": "stream",
     "text": [
      "The roots are real and different\n",
      "The roots are : -1.0 and  -2.0  \n"
     ]
    }
   ],
   "source": [
    "import math\n",
    "a,b,c=int(input(\"Enter the 1st coefficient: \")),int(input(\"Enter the 2nd coefficient: \")),int(input(\"Enter the 3rd coefficient: \"))\n",
    "D=b**2-4*a*c\n",
    "d=math.sqrt(abs(D))\n",
    "if D>0:\n",
    "    print(\"The roots are real and different\")\n",
    "    print(f\"The roots are : {(-b+d)/2*a} and  {(-b-d)/2*a}  \")\n",
    "elif D==0:\n",
    "    print(\"Roots are real and same\")\n",
    "    print(f\"The roots are : {-b/2*a} \")\n",
    "else:\n",
    "    print(\"Roots are complex\")"
   ]
  },
  {
   "cell_type": "markdown",
   "id": "483e4ca3-9414-45a3-bbce-9d0cca8cd629",
   "metadata": {},
   "source": [
    "19. Create a Python program that checks if a given year is a century year or not using if-else."
   ]
  },
  {
   "cell_type": "code",
   "execution_count": 4,
   "id": "cf075097-2b15-4c4c-a347-886f84a31ff3",
   "metadata": {},
   "outputs": [
    {
     "name": "stdin",
     "output_type": "stream",
     "text": [
      "Enter the year : 2010\n"
     ]
    },
    {
     "name": "stdout",
     "output_type": "stream",
     "text": [
      "The year 2010 isn't a century year.\n"
     ]
    }
   ],
   "source": [
    "yr=int(input(\"Enter the year :\"))\n",
    "if yr % 100==0:\n",
    "    print(f\"The year {yr} is a century year.\")\n",
    "else:\n",
    "    print(f\"The year {yr} isn't a century year.\")"
   ]
  },
  {
   "cell_type": "markdown",
   "id": "13898a2f-499c-49f0-bda6-80077381aac2",
   "metadata": {},
   "source": [
    "20. Write a Python program to determine if a given number is a perfect square using if-else."
   ]
  },
  {
   "cell_type": "code",
   "execution_count": 6,
   "id": "31f9f998-c0b6-415a-942f-9b5bd64d0263",
   "metadata": {},
   "outputs": [
    {
     "name": "stdin",
     "output_type": "stream",
     "text": [
      "Enter the numer : 9\n"
     ]
    },
    {
     "name": "stdout",
     "output_type": "stream",
     "text": [
      "The number 9 is a perfect square.\n"
     ]
    }
   ],
   "source": [
    "import math\n",
    "num=int(input(\"Enter the numer :\"))\n",
    "s=math.sqrt(num)\n",
    "if s*s==num:\n",
    "    print(f\"The number {num} is a perfect square.\")\n",
    "else:\n",
    "    print(f\"The number {num} isn't a perfect square.\")"
   ]
  },
  {
   "cell_type": "markdown",
   "id": "ead79b54-d42c-4de4-9bf6-e360304f7a11",
   "metadata": {},
   "source": [
    "21. Explain the purpose of the \"continue\" and \"break\" statements within if-else loops."
   ]
  },
  {
   "cell_type": "markdown",
   "id": "190a1fc9-9a22-4d6c-b486-2c8257d6003a",
   "metadata": {},
   "source": [
    "\"Continue\" statement forces to execute the iteration of the loop. When the \"continue\" statement executed, the code following the continue statement will be skipped and the next iteration will perform.\n",
    "\"break\" statement terminates the loop when condition is satisfied and go to the next statemnt."
   ]
  },
  {
   "cell_type": "markdown",
   "id": "9370c551-d3e7-4691-a94e-827d857c7241",
   "metadata": {},
   "source": [
    "22. Create a Python program that calculates the BMI (Body Mass Index) of a person based on their weight and height using if-else."
   ]
  },
  {
   "cell_type": "code",
   "execution_count": 7,
   "id": "f65c22dd-4ada-42c8-a22f-961d933b6c0e",
   "metadata": {},
   "outputs": [
    {
     "name": "stdin",
     "output_type": "stream",
     "text": [
      "Enter the weight in kg : 120\n",
      "Enter the height in m: 33\n"
     ]
    },
    {
     "name": "stdout",
     "output_type": "stream",
     "text": [
      "You are underweight.\n"
     ]
    }
   ],
   "source": [
    "w=float(input(\"Enter the weight in kg :\"))\n",
    "h=float(input(\"Enter the height in m:\"))\n",
    "bmi=w/h**2\n",
    "if bmi <= 18.5: \n",
    "    print(\"You are underweight.\") \n",
    "elif 18.5 < bmi <= 24.9: \n",
    "    print(\"Your weight is normal.\") \n",
    "elif 25 < bmi <= 29.29: \n",
    "    print(\"You are overweight.\") \n",
    "else: \n",
    "    print(\"You are obese.\")"
   ]
  },
  {
   "cell_type": "markdown",
   "id": "2325576a-b8fd-4124-a1d4-0d167ac3bc10",
   "metadata": {},
   "source": [
    "23. How can you use the \"filter()\" function with if-else statements to filter elements from a list?"
   ]
  },
  {
   "cell_type": "code",
   "execution_count": 8,
   "id": "fdb38e34-6fa4-4d00-9a8c-41091837206d",
   "metadata": {},
   "outputs": [
    {
     "name": "stdout",
     "output_type": "stream",
     "text": [
      "The filtered letters are:\n",
      "e\n",
      "e\n",
      "o\n",
      "a\n"
     ]
    }
   ],
   "source": [
    "def fun(variable):\n",
    "    letters = ['a', 'e', 'i', 'o', 'u']\n",
    "    if (variable in letters):\n",
    "        return True\n",
    "    else:\n",
    "        return False\n",
    "sequence = ['l', 'e', 'e', 'o', 'k', 's', 'a', 'r']\n",
    "\n",
    "filtered = filter(fun, sequence)\n",
    " \n",
    "print('The filtered letters are:')\n",
    "for s in filtered:\n",
    "    print(s)      "
   ]
  },
  {
   "cell_type": "markdown",
   "id": "01a2089a-f0ed-4189-9b6e-30026d16c7db",
   "metadata": {},
   "source": [
    "\"filter()\" method fiters the sequence with the help of a function that tests each element in the sequence to be true or not."
   ]
  },
  {
   "cell_type": "markdown",
   "id": "1202ba2c-a6e4-4494-9cc6-edf16241a255",
   "metadata": {},
   "source": [
    "24. Write a Python program to determine if a given number is prime or not using if-else."
   ]
  },
  {
   "cell_type": "code",
   "execution_count": 10,
   "id": "2bb16cd1-0cb6-4073-99ca-d2c9117a7747",
   "metadata": {},
   "outputs": [
    {
     "name": "stdin",
     "output_type": "stream",
     "text": [
      "Enter the number : 11\n"
     ]
    },
    {
     "name": "stdout",
     "output_type": "stream",
     "text": [
      "The number is prime.\n"
     ]
    }
   ],
   "source": [
    "num=int(input(\"Enter the number :\"))\n",
    "def prime(num):\n",
    "    for i in range(2,int(num//2)+1):\n",
    "        if num%i==0:\n",
    "            return False\n",
    "        return True\n",
    "if prime(num):\n",
    "    print(\"The number is prime.\")\n",
    "else:\n",
    "    print(\"The number isn't prime.\")"
   ]
  },
  {
   "cell_type": "markdown",
   "id": "c793e21c-8b68-43a1-b96f-1fcd86a0652e",
   "metadata": {},
   "source": [
    "### Map-"
   ]
  },
  {
   "cell_type": "markdown",
   "id": "93a4d59a-9723-48d8-979b-b455912f27a6",
   "metadata": {},
   "source": [
    "1. Explain the purpose of the `map()` function in Python and provide an example of how it can be used to apply a function to each element of an iterable."
   ]
  },
  {
   "cell_type": "code",
   "execution_count": 10,
   "id": "592c489d-99d6-4557-b6f2-3a3ee5a1be9d",
   "metadata": {},
   "outputs": [
    {
     "data": {
      "text/plain": [
       "(2, 4, 6, 8, 10)"
      ]
     },
     "execution_count": 10,
     "metadata": {},
     "output_type": "execute_result"
    }
   ],
   "source": [
    "# map() function returns a map object(which is an iterator) of the results after applying the given function to each item of a given iterable (list, tuple etc.)\n",
    "def add(n):\n",
    "    return 2*n\n",
    "num=(1,2,3,4,5)\n",
    "tuple(map(add,num))"
   ]
  },
  {
   "cell_type": "markdown",
   "id": "e993e71e-3194-4239-9bb8-d53737e00f70",
   "metadata": {},
   "source": [
    "2. Write a Python program that uses the `map()` function to square each element of a list of numbers."
   ]
  },
  {
   "cell_type": "code",
   "execution_count": 14,
   "id": "5ff78ec7-c50c-4745-8bec-0fe33eb4b1bf",
   "metadata": {},
   "outputs": [
    {
     "name": "stdout",
     "output_type": "stream",
     "text": [
      "[1, 4, 9, 16, 25]\n"
     ]
    }
   ],
   "source": [
    "l2=[1,2,3,4,5]\n",
    "squrd=map(lambda i :i**2 ,l2)\n",
    "print(list(squrd))"
   ]
  },
  {
   "cell_type": "markdown",
   "id": "6b223f75-4204-4440-83ee-ba7f64eb43f4",
   "metadata": {},
   "source": [
    "3. How does the `map()` function differ from a list comprehension in Python, and when would you\n",
    "choose one over the other?"
   ]
  },
  {
   "cell_type": "markdown",
   "id": "631360ab-a373-4929-b7dc-69e13f265f01",
   "metadata": {},
   "source": [
    "List comprehension are used when a list of results is required as map only returns a map object and does not return any list.\n",
    "\n",
    "List comprehension is faster than map when we need to evaluate expressions that are too long or complicated to express.\n",
    "\n",
    "List comprehension allows filtering. In map, we have no such facility"
   ]
  },
  {
   "cell_type": "markdown",
   "id": "b5c05220-ed1e-44f4-9f05-238e79cb4c69",
   "metadata": {},
   "source": [
    "4. Create a Python program that uses the `map()` function to convert a list of names to uppercase."
   ]
  },
  {
   "cell_type": "code",
   "execution_count": 19,
   "id": "efabc671-6173-44c9-8947-1d342b5a8384",
   "metadata": {},
   "outputs": [
    {
     "name": "stdout",
     "output_type": "stream",
     "text": [
      "['A', 'B', 'C', 'D', 'E']\n"
     ]
    }
   ],
   "source": [
    "l4=['a','b','c','d','e']\n",
    "u=map(lambda i:i.upper(),l4)\n",
    "print(list(u))"
   ]
  },
  {
   "cell_type": "markdown",
   "id": "9fee7c31-48dc-4866-ba32-47dc9d9d1581",
   "metadata": {},
   "source": [
    "5. Write a Python program that uses the `map()` function to calculate the length of each word in a list of strings."
   ]
  },
  {
   "cell_type": "code",
   "execution_count": 21,
   "id": "506fa74a-31a2-4a9c-bae4-2b8fda02c09f",
   "metadata": {},
   "outputs": [
    {
     "name": "stdout",
     "output_type": "stream",
     "text": [
      "[5, 6, 3, 5, 3]\n"
     ]
    }
   ],
   "source": [
    "l5=['apple','banana','toy','hello','hey']\n",
    "l=map(lambda i:len(i),l5)\n",
    "print(list(l))"
   ]
  },
  {
   "cell_type": "markdown",
   "id": "a3a905d8-6248-4467-9af9-8446abf80408",
   "metadata": {},
   "source": [
    "6. How can you use the `map()` function to apply a custom function to elements of multiple lists\n",
    "simultaneously in Python?"
   ]
  },
  {
   "cell_type": "markdown",
   "id": "add88c87-19cc-45a2-9014-806c89d67a62",
   "metadata": {},
   "source": [
    "map() methods take two arguments: iterables and functions and returns a map object. We use list() to convert the map object to a list."
   ]
  },
  {
   "cell_type": "markdown",
   "id": "1434d1b5-7d5c-4394-99e9-a64b2179709a",
   "metadata": {},
   "source": [
    "7. Create a Python program that uses `map()` to convert a list of temperatures from Celsius to Fahrenheit."
   ]
  },
  {
   "cell_type": "code",
   "execution_count": 2,
   "id": "c5ffbd90-c2ef-4576-b629-6f40554630d7",
   "metadata": {},
   "outputs": [
    {
     "name": "stdout",
     "output_type": "stream",
     "text": [
      "[33.8, 35.6, 37.4, 39.2, 41.0, 116.60000000000001]\n"
     ]
    }
   ],
   "source": [
    "l7=[1,2,3,4,5,47]\n",
    "l7_far=map(lambda i:(i * 1.8) + 32 , l7)\n",
    "print(list(l7_far))"
   ]
  },
  {
   "cell_type": "markdown",
   "id": "b00a47b5-3711-4d29-9950-a6b2ffde0c2f",
   "metadata": {},
   "source": [
    "8. Write a Python program that uses the `map()` function to round each element of a list of floating-point numbers to the nearest integer."
   ]
  },
  {
   "cell_type": "code",
   "execution_count": 4,
   "id": "423dc502-1aa1-48f9-9b78-3199a5655a3a",
   "metadata": {},
   "outputs": [
    {
     "name": "stdout",
     "output_type": "stream",
     "text": [
      "[3, 4, 5, 8, 10, 4]\n"
     ]
    }
   ],
   "source": [
    "l8=[3.4,4.1,5,7.9,9.5,3.6]\n",
    "l8_r=map(lambda i:round(i),l8)\n",
    "print(list(l8_r))"
   ]
  },
  {
   "cell_type": "markdown",
   "id": "3a1cf8bc-bb4f-4367-8a02-15fbdb994976",
   "metadata": {},
   "source": [
    "### Reduce -"
   ]
  },
  {
   "cell_type": "markdown",
   "id": "f0f7d1ac-e0a6-4d7e-94cd-3234d70c4c32",
   "metadata": {},
   "source": [
    "1. What is the `reduce()` function in Python, and what module should you import to use it? Provide an example of its basic usage."
   ]
  },
  {
   "cell_type": "code",
   "execution_count": 5,
   "id": "4f3ef2b5-c662-453f-a5e6-68fc20f38d75",
   "metadata": {},
   "outputs": [
    {
     "name": "stdout",
     "output_type": "stream",
     "text": [
      "The sum of the list is: 15\n"
     ]
    }
   ],
   "source": [
    "#The reduce(fun,seq) function is used to apply a particular function passed in its argument to all of the list elements mentioned in the sequence passed along.\n",
    "# \"functools\" module is used to import.\n",
    "from functools import reduce\n",
    "l1=[1,2,3,4,5]\n",
    "print(f'The sum of the list is: {reduce(lambda a,b:a+b,l1)}')"
   ]
  },
  {
   "cell_type": "markdown",
   "id": "22d07f45-6edb-4310-b6a6-2c31099ce649",
   "metadata": {},
   "source": [
    "2. Write a Python program that uses the `reduce()` function to find the product of all elements in a list."
   ]
  },
  {
   "cell_type": "code",
   "execution_count": 13,
   "id": "8742542d-ff24-4288-8c58-e4ac5cfc9b3a",
   "metadata": {},
   "outputs": [
    {
     "name": "stdout",
     "output_type": "stream",
     "text": [
      "The product of all elements in list :120\n"
     ]
    }
   ],
   "source": [
    "from functools import reduce\n",
    "l2=[1,2,3,4,5]\n",
    "print(f\"The product of all elements in list :{reduce(lambda a,b:a*b,l2)}\")"
   ]
  },
  {
   "cell_type": "markdown",
   "id": "2106d67f-dc17-40f1-a3ec-83f650399196",
   "metadata": {},
   "source": [
    "3. Create a Python program that uses `reduce()` to find the maximum element in a list of numbers."
   ]
  },
  {
   "cell_type": "code",
   "execution_count": 14,
   "id": "6c788a5e-2346-47b9-be0a-4980dfff046b",
   "metadata": {},
   "outputs": [
    {
     "name": "stdout",
     "output_type": "stream",
     "text": [
      "The maximum element in a list : 85\n"
     ]
    }
   ],
   "source": [
    "from functools import reduce\n",
    "l3=[1,24,85,32,65,15]\n",
    "print(f\"The maximum element in a list : {reduce(max,l3)}\")"
   ]
  },
  {
   "cell_type": "markdown",
   "id": "18ace468-3775-4339-b9f9-092c34b37dc0",
   "metadata": {},
   "source": [
    "4. How can you use the `reduce()` function to concatenate a list of strings into a single string?"
   ]
  },
  {
   "cell_type": "code",
   "execution_count": 28,
   "id": "921e7bee-42a7-4530-a6e2-9728af5905d0",
   "metadata": {},
   "outputs": [
    {
     "data": {
      "text/plain": [
       "['a d', 'b e']"
      ]
     },
     "execution_count": 28,
     "metadata": {},
     "output_type": "execute_result"
    }
   ],
   "source": [
    "l4_a=['a','b','c']\n",
    "l4_b=['d','e']\n",
    "reduce(lambda res, l: res + [l[0] + \" \" + l[1]], zip(l4_a, l4_b), [])"
   ]
  },
  {
   "cell_type": "markdown",
   "id": "1eb14271-4a70-419a-b06a-0911c442d694",
   "metadata": {},
   "source": [
    "5. Write a Python program that calculates the factorial of a number using the `reduce()` function."
   ]
  },
  {
   "cell_type": "code",
   "execution_count": 38,
   "id": "7570b3eb-d78b-46df-8b1b-8a2f0a98b45d",
   "metadata": {},
   "outputs": [
    {
     "name": "stdin",
     "output_type": "stream",
     "text": [
      "Enter the number : 5\n"
     ]
    },
    {
     "name": "stdout",
     "output_type": "stream",
     "text": [
      "the factorial of 5 is 120\n"
     ]
    }
   ],
   "source": [
    "n=int(input(\"Enter the number :\"))\n",
    "fact=reduce(lambda x,y: x*y, range(1,n+1))\n",
    "print(f\"the factorial of {n} is {fact}\")"
   ]
  },
  {
   "cell_type": "markdown",
   "id": "321ddfa6-26ff-424f-b7aa-03c934b4068e",
   "metadata": {},
   "source": [
    "6. Create a Python program that uses `reduce()` to find the GCD (Greatest Common Divisor) of a list of numbers."
   ]
  },
  {
   "cell_type": "code",
   "execution_count": 6,
   "id": "db951d22-1915-466f-ae18-0cb5520930b5",
   "metadata": {},
   "outputs": [
    {
     "name": "stdout",
     "output_type": "stream",
     "text": [
      "The GCD of list of numbers are- 3\n"
     ]
    }
   ],
   "source": [
    "from functools import reduce\n",
    "l6=[12, 24, 27, 30, 36]\n",
    "gcd = lambda a,b:a if b==0 else gcd(b,a%b)  \n",
    "print(f\"The GCD of list of numbers are- {reduce(lambda x,y:gcd(x,y),l6)}\")"
   ]
  },
  {
   "cell_type": "markdown",
   "id": "75da4f81-288b-4c72-8743-e116dbd780ab",
   "metadata": {},
   "source": [
    "7. Write a Python program that uses the `reduce()` function to find the sum of the digits of a given\n",
    "number."
   ]
  },
  {
   "cell_type": "code",
   "execution_count": 7,
   "id": "93f9a484-6b12-4e95-8175-d3a4bf137843",
   "metadata": {},
   "outputs": [
    {
     "name": "stdin",
     "output_type": "stream",
     "text": [
      "Enter the number : 57\n"
     ]
    },
    {
     "name": "stdout",
     "output_type": "stream",
     "text": [
      "The sum of the digits of 57 is : 12\n"
     ]
    }
   ],
   "source": [
    "from functools import reduce\n",
    "num=input(\"Enter the number :\")\n",
    "l7=list(map(int,num.strip()))\n",
    "print(f\"The sum of the digits of {num} is : {reduce(lambda a,b:a+b,l7)}\")\n"
   ]
  },
  {
   "cell_type": "markdown",
   "id": "9c3fdd93-2fb9-4d1d-be6c-6e5afbc3c9d2",
   "metadata": {},
   "source": [
    "### Filter -"
   ]
  },
  {
   "cell_type": "markdown",
   "id": "0cc90901-9957-4fec-87a1-6614b215990d",
   "metadata": {},
   "source": [
    "1. Explain the purpose of the `filter()` function in Python and provide an example of how it can be used to filter elements from an iterable."
   ]
  },
  {
   "cell_type": "markdown",
   "id": "61f076c9-af81-4242-90fc-51c0ffe8e689",
   "metadata": {},
   "source": [
    "The filter() method filters the given sequence with the help of a function that tests each element in the sequence to be true or not. "
   ]
  },
  {
   "cell_type": "code",
   "execution_count": 13,
   "id": "c3cea3df-f9b9-493c-97b4-e33ac7b8fd4f",
   "metadata": {},
   "outputs": [
    {
     "name": "stdout",
     "output_type": "stream",
     "text": [
      "The odd numbers from l1a : [1, 3, 5]\n"
     ]
    }
   ],
   "source": [
    "l1a=[1,2,3,4,5,6]\n",
    "print(f\"The odd numbers from l1a : {list(filter(lambda i:i%2!=0,l1a))}\")"
   ]
  },
  {
   "cell_type": "markdown",
   "id": "5810b192-5977-45da-b921-b31bd8523ebc",
   "metadata": {},
   "source": [
    "2. Write a Python program that uses the `filter()` function to select even numbers from a list of integers."
   ]
  },
  {
   "cell_type": "code",
   "execution_count": 15,
   "id": "d9cbe63b-2ef3-442e-8cc9-ab672768aba9",
   "metadata": {},
   "outputs": [
    {
     "name": "stdout",
     "output_type": "stream",
     "text": [
      "The even numbers from list : [2, 4, 6, 8]\n"
     ]
    }
   ],
   "source": [
    "l2a=[1,2,3,4,5,6,7,8]\n",
    "print(f\"The even numbers from list : {list(filter(lambda x:x%2==0,l2a))}\")"
   ]
  },
  {
   "cell_type": "markdown",
   "id": "6fa3856f-7cce-49a7-aec7-c3816a1f5e0a",
   "metadata": {},
   "source": [
    "3. Create a Python program that uses the `filter()` function to select names that start with a specific letter from a list of strings."
   ]
  },
  {
   "cell_type": "code",
   "execution_count": 23,
   "id": "2cae8fa0-1183-4ed3-b6be-ab9ff0b436a1",
   "metadata": {},
   "outputs": [
    {
     "name": "stdin",
     "output_type": "stream",
     "text": [
      "Enter the letter: s\n"
     ]
    },
    {
     "name": "stdout",
     "output_type": "stream",
     "text": [
      "The names startswith s is ['strawberry']\n"
     ]
    }
   ],
   "source": [
    "l3=[\"apple\",\"banana\",\"grapes\",\"toy\",\"strawberry\"]\n",
    "s=input(\"Enter the letter:\")\n",
    "print(f\"The names startswith {s} is {list(filter(lambda x : x.startswith(s),l3))}\")"
   ]
  },
  {
   "cell_type": "markdown",
   "id": "830558bd-f824-4686-ba06-33ffa73eefe8",
   "metadata": {},
   "source": [
    "4. Write a Python program that uses the `filter()` function to select prime numbers from a list of integers."
   ]
  },
  {
   "cell_type": "code",
   "execution_count": 27,
   "id": "76b4b491-fc9c-4fda-ba2f-e7a1988d7c26",
   "metadata": {},
   "outputs": [
    {
     "data": {
      "text/plain": [
       "[2, 3, 5, 7, 11, 31]"
      ]
     },
     "execution_count": 27,
     "metadata": {},
     "output_type": "execute_result"
    }
   ],
   "source": [
    "def is_prime(n):\n",
    "    if n==1 or n==0:\n",
    "        return False\n",
    "    for i in range(2,int(n//2)+1):\n",
    "        if n%i==0:\n",
    "            return False\n",
    "    return True\n",
    "l4=[2,3,4,5,6,7,8,9,10,11,31]\n",
    "list(filter(is_prime,l4))"
   ]
  },
  {
   "cell_type": "markdown",
   "id": "389c3ceb-2085-4bbc-9461-26dea9f32e78",
   "metadata": {},
   "source": [
    "5. How can you use the `filter()` function to remove None values from a list in Python?"
   ]
  },
  {
   "cell_type": "code",
   "execution_count": 31,
   "id": "f040b47d-87d0-4f04-ac2f-588fbb383c9f",
   "metadata": {},
   "outputs": [
    {
     "name": "stdout",
     "output_type": "stream",
     "text": [
      "The removed list is [1, 4, 5, 8, False]\n"
     ]
    }
   ],
   "source": [
    "l5= [1, None, 4, None, None, 5, 8, None, False]\n",
    "ls=list(filter(lambda i: i!=None ,l5))\n",
    "print(f\"The removed list is {ls}\")"
   ]
  },
  {
   "cell_type": "markdown",
   "id": "282e7334-bd66-4587-8d57-6b5b93b38899",
   "metadata": {},
   "source": [
    "6. Create a Python program that uses `filter()` to select words longer than a certain length from a list of strings."
   ]
  },
  {
   "cell_type": "code",
   "execution_count": 33,
   "id": "92bf4636-e340-4b43-adcf-e956bec45087",
   "metadata": {},
   "outputs": [
    {
     "name": "stdin",
     "output_type": "stream",
     "text": [
      "Enter the length : 4\n"
     ]
    },
    {
     "name": "stdout",
     "output_type": "stream",
     "text": [
      "The words longer than length 4 are ['apple', 'banana', 'grapes', 'strawberry']\n"
     ]
    }
   ],
   "source": [
    "l6a=[\"apple\",\"banana\",\"grapes\",\"toy\",\"strawberry\",\"good\"]\n",
    "length=int(input(\"Enter the length :\"))\n",
    "ls6=list(filter(lambda i : len(i)>length,l6a))\n",
    "print(f'The words longer than length {length} are {ls6}')"
   ]
  },
  {
   "cell_type": "markdown",
   "id": "f792377a-384d-4480-9aa0-a5b5dd06da63",
   "metadata": {},
   "source": [
    "7. Write a Python program that uses the `filter()` function to select elements greater than a\n",
    "specified threshold from a list of values."
   ]
  },
  {
   "cell_type": "code",
   "execution_count": 35,
   "id": "f6ef3110-aef7-40ae-9d66-62f2470916af",
   "metadata": {},
   "outputs": [
    {
     "name": "stdin",
     "output_type": "stream",
     "text": [
      "Enter the length : 6\n"
     ]
    },
    {
     "name": "stdout",
     "output_type": "stream",
     "text": [
      "The elements greater than a specified 6 are ['banana', 'grapes', 'strawberry']\n"
     ]
    }
   ],
   "source": [
    "l7a=[\"apple\",\"banana\",\"grapes\",\"toy\",\"strawberry\",\"good\"]\n",
    "thres=int(input(\"Enter the length :\"))\n",
    "ls7=list(filter(lambda i : len(i)>=thres,l7a))\n",
    "print(f'The elements greater than a specified {thres} are {ls7}')"
   ]
  },
  {
   "cell_type": "markdown",
   "id": "70035315-e5fc-4aab-8e34-0a0deed0da3a",
   "metadata": {},
   "source": [
    "### Recursion-"
   ]
  },
  {
   "cell_type": "markdown",
   "id": "54d267b4-0080-454a-97dd-3ab20d545cb3",
   "metadata": {},
   "source": [
    "1. Explain the concept of recursion in Python. How does it differ from iteration?"
   ]
  },
  {
   "cell_type": "markdown",
   "id": "5e677321-b3a4-41c3-8ad2-516fd50aa4c9",
   "metadata": {},
   "source": [
    "Recursion means when the function calls itself to solve the problem whereas in Iteration, there is a loop to solve the probelm."
   ]
  },
  {
   "cell_type": "markdown",
   "id": "adb1ee60-4f43-412a-9046-754e6b9abaff",
   "metadata": {},
   "source": [
    "2. Write a Python program to calculate the factorial of a number using recursion."
   ]
  },
  {
   "cell_type": "code",
   "execution_count": 17,
   "id": "d2190984-ea3e-4132-b9cf-3ab81977d21a",
   "metadata": {},
   "outputs": [
    {
     "name": "stdin",
     "output_type": "stream",
     "text": [
      "Enter the number : 5\n"
     ]
    },
    {
     "name": "stdout",
     "output_type": "stream",
     "text": [
      "The factorial of 5 is : 120\n"
     ]
    }
   ],
   "source": [
    "n=int(input(\"Enter the number :\"))\n",
    "def fact(n):\n",
    "    if n==1 or n==0:\n",
    "        return 1\n",
    "    else:\n",
    "        return n*fact(n-1)\n",
    "\n",
    "print(f\"The factorial of {n} is : {fact(n)}\")"
   ]
  },
  {
   "cell_type": "markdown",
   "id": "08805736-7d5c-42b7-afd1-d0d5df29e00a",
   "metadata": {},
   "source": [
    "3. Create a recursive Python function to find the nth Fibonacci number."
   ]
  },
  {
   "cell_type": "code",
   "execution_count": 24,
   "id": "0f5bd420-f032-4788-83e8-51bb7735088a",
   "metadata": {},
   "outputs": [
    {
     "name": "stdin",
     "output_type": "stream",
     "text": [
      "Enter the number 5\n"
     ]
    },
    {
     "data": {
      "text/plain": [
       "3"
      ]
     },
     "execution_count": 24,
     "metadata": {},
     "output_type": "execute_result"
    }
   ],
   "source": [
    "n=int(input(\"Enter the number\"))\n",
    "def fib(n):\n",
    "    if n<=0:\n",
    "        print(\"Invalid input.\")\n",
    "    elif n==1:\n",
    "        return 0\n",
    "    elif n==2:\n",
    "        return 1\n",
    "    else:\n",
    "        return fib(n-1)+fib(n-2)\n",
    "\n",
    "fib(n) "
   ]
  },
  {
   "cell_type": "markdown",
   "id": "33b9772a-e7c6-452c-8706-ab63e85b0368",
   "metadata": {},
   "source": [
    "4. Write a recursive Python function to calculate the sum of all elements in a list."
   ]
  },
  {
   "cell_type": "code",
   "execution_count": 36,
   "id": "1b12c856-5ff9-40ac-bb3a-9eaa05919a0c",
   "metadata": {},
   "outputs": [
    {
     "name": "stdout",
     "output_type": "stream",
     "text": [
      "The sum of all elements is : 15\n"
     ]
    }
   ],
   "source": [
    "l4=[1,2,3,4,5]\n",
    "def add(l4):\n",
    "    if len(l4)==1:\n",
    "        return l4[0]\n",
    "    else:\n",
    "        return l4[0]+add(l4[1:])\n",
    "print(f\"The sum of all elements is : {add(l4)}\")"
   ]
  },
  {
   "cell_type": "markdown",
   "id": "3523c0bd-da3d-464e-b2a6-1edcb4b53d64",
   "metadata": {},
   "source": [
    "5. How can you prevent a recursive function from running indefinitely, causing a stack overflow error?"
   ]
  },
  {
   "cell_type": "code",
   "execution_count": null,
   "id": "271dd132-847d-4442-b786-6eccd2be01ff",
   "metadata": {},
   "outputs": [],
   "source": [
    "6. Create a recursive Python function to find the greatest common divisor (GCD) of two numbers\n",
    "using the Euclidean algorithm."
   ]
  },
  {
   "cell_type": "markdown",
   "id": "b2f32555-57e9-479a-b1b9-6e48b6fa16fa",
   "metadata": {},
   "source": [
    "7. Write a recursive Python function to reverse a string."
   ]
  },
  {
   "cell_type": "code",
   "execution_count": 38,
   "id": "cad6effa-8653-498b-a15a-61d6de3666ee",
   "metadata": {},
   "outputs": [
    {
     "name": "stdin",
     "output_type": "stream",
     "text": [
      "Enter the string : hey good morning\n"
     ]
    },
    {
     "name": "stdout",
     "output_type": "stream",
     "text": [
      "The reversed string is :gninrom doog yeh\n"
     ]
    }
   ],
   "source": [
    "str7=input(\"Enter the string :\")\n",
    "def rev_str7(str7):\n",
    "    if str7 == \"\":\n",
    "        return str7\n",
    "    else:\n",
    "        return rev_str7(str7[1:]) + str7[0]\n",
    "print(\"The reversed string is :\"+rev_str7(str7))        "
   ]
  },
  {
   "cell_type": "markdown",
   "id": "4fbc88e3-90fb-48ea-b4e5-34b66b667ef4",
   "metadata": {},
   "source": [
    "8. Create a recursive Python function to calculate the power of a number (x^n)."
   ]
  },
  {
   "cell_type": "code",
   "execution_count": 41,
   "id": "67c5f02c-a42a-410c-bc38-ffa5dbeb1f71",
   "metadata": {},
   "outputs": [
    {
     "name": "stdin",
     "output_type": "stream",
     "text": [
      "Enter the number: 5\n",
      "Enter the power : 3\n"
     ]
    },
    {
     "name": "stdout",
     "output_type": "stream",
     "text": [
      "The power of 5 is 125\n"
     ]
    }
   ],
   "source": [
    "n=int(input(\"Enter the number:\"))\n",
    "p=int(input(\"Enter the power :\"))\n",
    "def power(n,p):\n",
    "    if p==0:\n",
    "        return 1\n",
    "    return n*power(n,p-1)\n",
    "print(f\"The power of {n} is {power(n,p)}\")"
   ]
  },
  {
   "cell_type": "markdown",
   "id": "122f5d93-d304-46eb-ae55-0d4615ae77cf",
   "metadata": {},
   "source": [
    "9. Write a recursive Python function to find all permutations of a given string."
   ]
  },
  {
   "cell_type": "code",
   "execution_count": 1,
   "id": "b7c1e72c-d9d7-4430-8b79-5b3013d84976",
   "metadata": {},
   "outputs": [
    {
     "name": "stdout",
     "output_type": "stream",
     "text": [
      "['abc', 'acb', 'bac', 'bca', 'cab', 'cba']\n"
     ]
    }
   ],
   "source": [
    "def find_permutations(s):\n",
    "    if len(s) == 1:\n",
    "        return [s]\n",
    "    else:\n",
    "        perms = []\n",
    "        for i, c in enumerate(s):\n",
    "            for perm in find_permutations(s[:i] + s[i+1:]):\n",
    "                perms.append(c + perm)\n",
    "        return perms\n",
    " \n",
    "s = 'abc'\n",
    "print(find_permutations(s))"
   ]
  },
  {
   "cell_type": "markdown",
   "id": "7f8eff17-e223-4a7e-a924-e0d5b0d155dd",
   "metadata": {},
   "source": [
    "10. Write a recursive Python function to check if a string is a palindrome."
   ]
  },
  {
   "cell_type": "code",
   "execution_count": 48,
   "id": "ed932825-45f4-4b9e-999d-d5ef22071b81",
   "metadata": {},
   "outputs": [
    {
     "name": "stdin",
     "output_type": "stream",
     "text": [
      "Enter the string: lvele\n"
     ]
    },
    {
     "name": "stdout",
     "output_type": "stream",
     "text": [
      "The string is n't palindrome.\n"
     ]
    }
   ],
   "source": [
    "str10=input(\"Enter the string:\")\n",
    "def rev(str10):\n",
    "    if str10==\"\":\n",
    "        return str10\n",
    "    return rev(str10[1:])+str10[0]\n",
    "if str10==rev(str10):\n",
    "    print(\"the string is palindrome.\")\n",
    "else:\n",
    "    print(\"The string is n't palindrome.\")"
   ]
  },
  {
   "cell_type": "markdown",
   "id": "a1356012-5565-4c1e-b75b-6c7366f31c2c",
   "metadata": {},
   "source": [
    "11. Create a recursive Python function to generate all possible combinations of a list of elements.\n"
   ]
  },
  {
   "cell_type": "code",
   "execution_count": 9,
   "id": "535131eb-8968-4dad-839d-4f935d15da3c",
   "metadata": {},
   "outputs": [
    {
     "name": "stdout",
     "output_type": "stream",
     "text": [
      "All possible combinations of a list : [['abc', 'acb', 'bac', 'bca', 'cab', 'cba'], ['def', 'dfe', 'edf', 'efd', 'fde', 'fed'], ['love', 'loev', 'lvoe', 'lveo', 'leov', 'levo', 'olve', 'olev', 'ovle', 'ovel', 'oelv', 'oevl', 'vloe', 'vleo', 'vole', 'voel', 'velo', 'veol', 'elov', 'elvo', 'eolv', 'eovl', 'evlo', 'evol']]\n"
     ]
    }
   ],
   "source": [
    "from functools import reduce\n",
    "def find_permutations(s):\n",
    "    if len(s) == 1:\n",
    "        return [s]\n",
    "    else:\n",
    "        perms = []\n",
    "        for i, c in enumerate(s):\n",
    "            for perm in find_permutations(s[:i] + s[i+1:]):\n",
    "                perms.append(c + perm)\n",
    "        return perms\n",
    "l11s = ['abc','def','love']\n",
    "print(f\"All possible combinations of a list : {list(map(lambda i :find_permutations(i),l11s))}\")"
   ]
  },
  {
   "cell_type": "markdown",
   "id": "b052c513-911d-4289-9e82-b31f0ae48cae",
   "metadata": {},
   "source": [
    "### Basics of Function :"
   ]
  },
  {
   "cell_type": "markdown",
   "id": "ad30af37-226b-4970-b065-950bbe4d7739",
   "metadata": {},
   "source": [
    "1. What is a function in Python, and why is it used?"
   ]
  },
  {
   "cell_type": "markdown",
   "id": "4c0aed81-c334-4aa7-b507-607b76f7f395",
   "metadata": {},
   "source": [
    "Function is a block of statements to do a specific task. we can call the function any time for different inputs instead of writting the whole code repeatedly."
   ]
  },
  {
   "cell_type": "markdown",
   "id": "fbe4ef77-9d7c-411e-8ba6-0ae6f89a8a2b",
   "metadata": {},
   "source": [
    "2. How do you define a function in Python? Provide an example."
   ]
  },
  {
   "cell_type": "code",
   "execution_count": 11,
   "id": "da2fac93-f3d5-4eab-bad5-8a96bcae8418",
   "metadata": {},
   "outputs": [],
   "source": [
    "# To define a function, we use 'def' keyword.\n",
    "def func():\n",
    "    print(\"hey morning\")"
   ]
  },
  {
   "cell_type": "markdown",
   "id": "bd1581e1-8076-4151-88f5-19487a940e29",
   "metadata": {},
   "source": [
    "3. Explain the difference between a function definition and a function call."
   ]
  },
  {
   "cell_type": "markdown",
   "id": "69a43017-da17-4c4a-985e-fb736d6f37a6",
   "metadata": {},
   "source": [
    "A function definition means to define a function followed by a parentheis, parameters with a block of codes whereas a function call means we can call the function by their name and get the required solution."
   ]
  },
  {
   "cell_type": "markdown",
   "id": "794d806b-3739-44d0-8422-64cd416efff2",
   "metadata": {},
   "source": [
    "4. Write a Python program that defines a function to calculate the sum of two numbers and then\n",
    "calls the function."
   ]
  },
  {
   "cell_type": "code",
   "execution_count": 11,
   "id": "65e5dbf9-a619-4360-b92a-fc350edb6349",
   "metadata": {},
   "outputs": [
    {
     "name": "stdin",
     "output_type": "stream",
     "text": [
      "Enter the 1st number : 5\n",
      "Enter the 2nd number : 8\n"
     ]
    },
    {
     "name": "stdout",
     "output_type": "stream",
     "text": [
      "The sum of 5 and 8 is 13\n"
     ]
    }
   ],
   "source": [
    "a,b=int(input(\"Enter the 1st number :\")),int(input(\"Enter the 2nd number :\"))\n",
    "def add(a,b):\n",
    "    return a+b\n",
    "print(f\"The sum of {a} and {b} is {add(a,b)}\")"
   ]
  },
  {
   "cell_type": "markdown",
   "id": "cfe626ee-3599-4a0f-9211-096aae0ceaed",
   "metadata": {},
   "source": [
    "5. What is a function signature, and what information does it typically include?"
   ]
  },
  {
   "cell_type": "code",
   "execution_count": 18,
   "id": "b1140b3c-a044-411c-8c91-911a43af2ab2",
   "metadata": {},
   "outputs": [
    {
     "name": "stdout",
     "output_type": "stream",
     "text": [
      "(a, b)\n"
     ]
    }
   ],
   "source": [
    "## Signature function tells you the signature of a function. it takes the function name and return the type of arguments used in the function\n",
    "from inspect import signature\n",
    "def add(a,b):\n",
    "    return a+b\n",
    "sig=signature(add)\n",
    "print(sig)"
   ]
  },
  {
   "cell_type": "markdown",
   "id": "bf45bfb4-01f0-4e88-a486-8046b3c01eab",
   "metadata": {},
   "source": [
    "6. Create a Python function that takes two arguments and returns their product."
   ]
  },
  {
   "cell_type": "code",
   "execution_count": 12,
   "id": "7adf0273-ab7e-4dd3-b115-f0a709ee9c18",
   "metadata": {},
   "outputs": [
    {
     "name": "stdin",
     "output_type": "stream",
     "text": [
      "Enter the 1st number : 7\n",
      "Enter the 2nd number : 2\n"
     ]
    },
    {
     "name": "stdout",
     "output_type": "stream",
     "text": [
      "The sum of 7 and 2 is 14\n"
     ]
    }
   ],
   "source": [
    "c,d=int(input(\"Enter the 1st number :\")),int(input(\"Enter the 2nd number :\"))\n",
    "def product(c,d):\n",
    "    return c*d\n",
    "print(f\"The sum of {c} and {d} is {product(c,d)}\")"
   ]
  },
  {
   "cell_type": "markdown",
   "id": "674b9b39-0780-44c6-816e-e0314e2f7e3b",
   "metadata": {},
   "source": [
    "### Function Parameters and Arguments:"
   ]
  },
  {
   "cell_type": "markdown",
   "id": "0df3b0db-768e-4c76-98b8-7039b111d976",
   "metadata": {},
   "source": [
    "1. Explain the concepts of formal parameters and actual arguments in Python functions."
   ]
  },
  {
   "cell_type": "markdown",
   "id": "a3a45738-b2f6-4d17-9583-f439a3255afe",
   "metadata": {},
   "source": [
    "The parameters which are used to define function is known as formal parameters whereas the parameters given values which are used to call a function is known as actual parameters."
   ]
  },
  {
   "cell_type": "code",
   "execution_count": 4,
   "id": "f667e7fe-6e45-4778-b8a5-84c19a25c2f9",
   "metadata": {},
   "outputs": [
    {
     "data": {
      "text/plain": [
       "9"
      ]
     },
     "execution_count": 4,
     "metadata": {},
     "output_type": "execute_result"
    }
   ],
   "source": [
    "def add(a,b): # a and b are formal parameters.\n",
    "    return a+b\n",
    "x=5\n",
    "y=4\n",
    "add(x,y) # x and y are actual parameters.\n"
   ]
  },
  {
   "cell_type": "markdown",
   "id": "63a1f19d-88c8-4563-a8c6-d098471614ee",
   "metadata": {},
   "source": [
    "2. Write a Python program that defines a function with default argument values."
   ]
  },
  {
   "cell_type": "code",
   "execution_count": 3,
   "id": "d8fb41e8-5df7-478c-8c1b-e8305fab4a36",
   "metadata": {},
   "outputs": [
    {
     "data": {
      "text/plain": [
       "'san ray studied in fifth'"
      ]
     },
     "execution_count": 3,
     "metadata": {},
     "output_type": "execute_result"
    }
   ],
   "source": [
    "def func1(f_name,l_name,std=\"fifth\"):\n",
    "    return f\"{f_name} {l_name} studied in {std}\"\n",
    "\n",
    "func1(\"san\",\"ray\")"
   ]
  },
  {
   "cell_type": "markdown",
   "id": "1536a95d-2793-4a4b-a19b-8e82b9609e6d",
   "metadata": {},
   "source": [
    "3. How do you use keyword arguments in Python function calls? Provide an example."
   ]
  },
  {
   "cell_type": "markdown",
   "id": "02497a06-ff8f-40e7-9aaf-ff491323c360",
   "metadata": {},
   "source": [
    "To call a function,we use different types of passing the arguments such as keyword arguments.\n",
    "In the function calls, Parameter Names are used to pass the arguments."
   ]
  },
  {
   "cell_type": "code",
   "execution_count": 9,
   "id": "7ccdd93c-61dd-44d2-942c-36b42539329a",
   "metadata": {},
   "outputs": [
    {
     "data": {
      "text/plain": [
       "'ram and harry'"
      ]
     },
     "execution_count": 9,
     "metadata": {},
     "output_type": "execute_result"
    }
   ],
   "source": [
    "def func2(a,b):\n",
    "    return f\"{a} and {b}\"\n",
    "\n",
    "func2(a='ram',b='harry')"
   ]
  },
  {
   "cell_type": "markdown",
   "id": "17aa1917-07a3-49ab-a34e-bbeda107006b",
   "metadata": {},
   "source": [
    "4. Create a Python function that accepts a variable number of arguments and calculates their sum."
   ]
  },
  {
   "cell_type": "code",
   "execution_count": 1,
   "id": "33a492d2-0b5e-4142-8f5c-61877af58390",
   "metadata": {},
   "outputs": [
    {
     "data": {
      "text/plain": [
       "17"
      ]
     },
     "execution_count": 1,
     "metadata": {},
     "output_type": "execute_result"
    }
   ],
   "source": [
    "def sum(x,y,z):\n",
    "    return x+y+z\n",
    "sum(4,5,8)"
   ]
  },
  {
   "cell_type": "markdown",
   "id": "94681b58-079a-4e7c-9190-4ccf6856c668",
   "metadata": {},
   "source": [
    "5. What is the purpose of the `*args` and `**kwargs` syntax in function parameter lists?"
   ]
  },
  {
   "cell_type": "markdown",
   "id": "bc63391e-1200-4e8c-a8ea-f8b9d4e6848a",
   "metadata": {},
   "source": [
    "The purpose of `*args` and `**kwargs` in function is to use a variable number of argumnets in a function."
   ]
  },
  {
   "cell_type": "markdown",
   "id": "6d5585cd-7508-4626-99bd-8b7f5b3f09e9",
   "metadata": {},
   "source": [
    "### Return Values and Scoping:"
   ]
  },
  {
   "cell_type": "markdown",
   "id": "89966c50-bce2-4093-8a18-cc92839fecd1",
   "metadata": {},
   "source": [
    "1. Describe the role of the `return` statement in Python functions and provide examples."
   ]
  },
  {
   "cell_type": "markdown",
   "id": "492bf9a3-0551-45d7-9def-989754871c2f",
   "metadata": {},
   "source": [
    "\"Return\" statement is used to get the output of a function."
   ]
  },
  {
   "cell_type": "code",
   "execution_count": 2,
   "id": "2f1e069b-cc60-4784-87d4-52cf6c764ec9",
   "metadata": {},
   "outputs": [
    {
     "data": {
      "text/plain": [
       "4"
      ]
     },
     "execution_count": 2,
     "metadata": {},
     "output_type": "execute_result"
    }
   ],
   "source": [
    "def fun(n):\n",
    "    return 2*n\n",
    "fun(2)"
   ]
  },
  {
   "cell_type": "markdown",
   "id": "6ea03b41-cb96-4ab4-90fe-4d1e3a9eee78",
   "metadata": {},
   "source": [
    "2. Explain the concept of variable scope in Python, including local and global variables."
   ]
  },
  {
   "cell_type": "markdown",
   "id": "581f72e0-7c30-4f55-970d-1071395b3af5",
   "metadata": {},
   "source": [
    "A variable is a memory location to store value.\n",
    "local variables are the variables which are defined inside a function and can only accessable inside the function whereas global variable are the variable which can accessable anywhere inside the whole programme."
   ]
  },
  {
   "cell_type": "markdown",
   "id": "c3127e7d-c168-45a7-bcba-95857063abf3",
   "metadata": {},
   "source": [
    "3. Write a Python program that demonstrates the use of global variables within functions."
   ]
  },
  {
   "cell_type": "code",
   "execution_count": 3,
   "id": "6ccec1b3-6442-40d4-b5e7-96fa3af3370e",
   "metadata": {},
   "outputs": [
    {
     "data": {
      "text/plain": [
       "'8 and Ram'"
      ]
     },
     "execution_count": 3,
     "metadata": {},
     "output_type": "execute_result"
    }
   ],
   "source": [
    "a=8 # global variable \n",
    "def fun3(x):\n",
    "    return f\"{a} and {x}\"\n",
    "fun3(\"Ram\")"
   ]
  },
  {
   "cell_type": "markdown",
   "id": "8d4d2f23-fb85-4fab-8e0d-2a8b78d0c0e7",
   "metadata": {},
   "source": [
    "4. Create a Python function that calculates the factorial of a number and returns it."
   ]
  },
  {
   "cell_type": "code",
   "execution_count": 5,
   "id": "e15d9f87-d531-4ad7-ad12-f1d02c1b67ab",
   "metadata": {},
   "outputs": [
    {
     "data": {
      "text/plain": [
       "24"
      ]
     },
     "execution_count": 5,
     "metadata": {},
     "output_type": "execute_result"
    }
   ],
   "source": [
    "def fact(n):\n",
    "    if n==1:\n",
    "        return 1\n",
    "    return n*fact(n-1)\n",
    "fact(4)"
   ]
  },
  {
   "cell_type": "markdown",
   "id": "8f55df8b-056d-4171-b082-94b6dcc7dd68",
   "metadata": {},
   "source": [
    "5. How can you access variables defined outside a function from within the function?"
   ]
  },
  {
   "cell_type": "markdown",
   "id": "703c545f-891e-4078-aef5-af15b1947140",
   "metadata": {},
   "source": [
    "We can access variables defined outside a function from within the function by using function parameter or returning the variable."
   ]
  },
  {
   "cell_type": "markdown",
   "id": "a48e2300-5f13-4e71-bd89-17ec6f059c4d",
   "metadata": {},
   "source": [
    "### Lambda Functions and Higher-Order Functions:"
   ]
  },
  {
   "cell_type": "markdown",
   "id": "a67c4541-1298-44de-bb5e-c612ae7f898a",
   "metadata": {},
   "source": [
    "1. What are lambda functions in Python, and when are they typically used?"
   ]
  },
  {
   "cell_type": "markdown",
   "id": "bb44c54d-3085-4d4f-b3e9-5912313e6f73",
   "metadata": {},
   "source": [
    "Lambda functions are anonymous function which are used to evaluate and return result.\n",
    "It has only one expression but many arguments. "
   ]
  },
  {
   "cell_type": "markdown",
   "id": "a3633da9-810d-4c39-bf7a-a7028ab5b8ac",
   "metadata": {},
   "source": [
    "2. Write a Python program that uses lambda functions to sort a list of tuples based on the second\n",
    "element."
   ]
  },
  {
   "cell_type": "code",
   "execution_count": 8,
   "id": "aa4c0db6-ed99-47a5-a9c1-d5bf0c72374f",
   "metadata": {},
   "outputs": [
    {
     "data": {
      "text/plain": [
       "[('banana', 12), ('apple', 20), ('grapes', 56), ('strawberry', 213)]"
      ]
     },
     "execution_count": 8,
     "metadata": {},
     "output_type": "execute_result"
    }
   ],
   "source": [
    "l2s=[('apple',20),('grapes',56),('strawberry',213),('banana',12)]\n",
    "def sort_tuple(l2s):\n",
    "    l2s.sort(key=lambda i:i[1])\n",
    "    return l2s\n",
    "sort_tuple(l2s)"
   ]
  },
  {
   "cell_type": "markdown",
   "id": "d4acad51-4f01-4323-af6e-1fb4f9ce5b51",
   "metadata": {},
   "source": [
    "3. Explain the concept of higher-order functions in Python, and provide an example."
   ]
  },
  {
   "cell_type": "markdown",
   "id": "357bf091-1640-4ea2-a3d6-e66facd735ba",
   "metadata": {},
   "source": [
    "Higher-order functions are the functions operates with another function as a parameter or output."
   ]
  },
  {
   "cell_type": "code",
   "execution_count": 10,
   "id": "7a874b73-18d2-484f-8624-4171673d75b6",
   "metadata": {},
   "outputs": [
    {
     "name": "stdout",
     "output_type": "stream",
     "text": [
      "HEY GOOD MORNING\n",
      "hey good morning\n"
     ]
    }
   ],
   "source": [
    "def up(s):\n",
    "    return s.upper()\n",
    "def lo(p):\n",
    "    return p.lower()\n",
    "def any(func):\n",
    "    a=func(\"Hey good morning\")\n",
    "    print(a)\n",
    "any(up)\n",
    "any(lo)"
   ]
  },
  {
   "cell_type": "markdown",
   "id": "7a27e719-5055-4975-a176-f67f20159dac",
   "metadata": {},
   "source": [
    "4. Create a Python function that takes a list of numbers and a function as arguments, applying the function to each element in the list."
   ]
  },
  {
   "cell_type": "code",
   "execution_count": 22,
   "id": "7d532f12-b579-4ec9-b8a6-e9949dbf8177",
   "metadata": {},
   "outputs": [
    {
     "data": {
      "text/plain": [
       "['A', 'B', 'C', 'D', 'E']"
      ]
     },
     "execution_count": 22,
     "metadata": {},
     "output_type": "execute_result"
    }
   ],
   "source": [
    "l4l=['a','b','c','d','e']\n",
    "def upp(s):\n",
    "    return s.upper()\n",
    "list(map(upp,l4l))"
   ]
  },
  {
   "cell_type": "markdown",
   "id": "63d5b64f-7c86-4ce8-a4da-ae07f3271811",
   "metadata": {},
   "source": [
    "### Built-in Functions:"
   ]
  },
  {
   "cell_type": "markdown",
   "id": "592b3975-0a84-4d03-8f79-12088b9bc286",
   "metadata": {},
   "source": [
    "1. Describe the role of built-in functions like `len()`, `max()`, and `min()` in Python."
   ]
  },
  {
   "cell_type": "markdown",
   "id": "c6e2ab06-4060-496e-a637-2431cd95bc01",
   "metadata": {},
   "source": [
    "len() - It gives the length of the argument. \n",
    "max() - It gives the maximum of all the arguments.\n",
    "min() - It gives the minimum of all the arguments."
   ]
  },
  {
   "cell_type": "markdown",
   "id": "5de38dd3-07ed-4a11-a980-930ec437e3a6",
   "metadata": {},
   "source": [
    "2. Write a Python program that uses the `map()` function to apply a function to each element of a\n",
    "list."
   ]
  },
  {
   "cell_type": "code",
   "execution_count": 25,
   "id": "2a1dfb05-a1ec-46ff-ad95-234de8a26ce2",
   "metadata": {},
   "outputs": [
    {
     "data": {
      "text/plain": [
       "[1, 4, 9, 16, 25, 36]"
      ]
     },
     "execution_count": 25,
     "metadata": {},
     "output_type": "execute_result"
    }
   ],
   "source": [
    "def prod(i):\n",
    "    return i**2\n",
    "\n",
    "l2b=[1,2,3,4,5,6]\n",
    "list(map(prod,l2b))"
   ]
  },
  {
   "cell_type": "markdown",
   "id": "1dcba8ef-c25a-4734-b752-63f486af1e00",
   "metadata": {},
   "source": [
    "3. How does the `filter()` function work in Python, and when would you use it?"
   ]
  },
  {
   "cell_type": "markdown",
   "id": "8ff7094b-245f-41ad-8f41-98c831c40739",
   "metadata": {},
   "source": [
    "\"filter()\" is used to filter the sequence which tests each element is True or not with the help of function. \n",
    "We use it to filter the sequence over a function.\n"
   ]
  },
  {
   "cell_type": "markdown",
   "id": "efe00c8e-7dfd-4e1a-b5ca-51fcf45a8306",
   "metadata": {},
   "source": [
    "4. Create a Python program that uses the `reduce()` function to find the product of all elements in\n",
    "a list."
   ]
  },
  {
   "cell_type": "code",
   "execution_count": 28,
   "id": "46bd9154-76db-4063-b214-966172817aaf",
   "metadata": {},
   "outputs": [
    {
     "data": {
      "text/plain": [
       "600"
      ]
     },
     "execution_count": 28,
     "metadata": {},
     "output_type": "execute_result"
    }
   ],
   "source": [
    "from functools import reduce\n",
    "l4b=[10,2,5,6]\n",
    "reduce(lambda x,y:x*y,l4b)"
   ]
  },
  {
   "cell_type": "markdown",
   "id": "0a4d80e6-0ef9-40b6-b606-e8c13f00aa8d",
   "metadata": {},
   "source": [
    "### Function Documentation and Best Practices:"
   ]
  },
  {
   "cell_type": "markdown",
   "id": "c77c5174-4ebc-4eba-aba6-3aeb23534b1d",
   "metadata": {},
   "source": [
    "1. Explain the purpose of docstrings in Python functions and how to write them."
   ]
  },
  {
   "cell_type": "markdown",
   "id": "450bf92a-34f0-4d0e-9f16-52bce62e183f",
   "metadata": {},
   "source": [
    "Python documentation strings (or docstrings) provide a convenient way of associating documentation.\n",
    "We can write them using  ”’triple single quotes”’ or “”” triple double quotes “”” just below the class, method, or function declaration"
   ]
  },
  {
   "cell_type": "markdown",
   "id": "2d44b88f-4f19-412a-b20e-611d60ae85ec",
   "metadata": {},
   "source": [
    "2. Describe some best practices for naming functions and variables in Python, including naming\n",
    "conventions and guidelines."
   ]
  },
  {
   "cell_type": "code",
   "execution_count": null,
   "id": "29002e55-7ee6-44e9-9807-a9464602ea3d",
   "metadata": {},
   "outputs": [],
   "source": [
    "1. Naming should be meaningful.\n",
    "2. We shouldn't use keywords.\n",
    "3. We should follow a consistent "
   ]
  }
 ],
 "metadata": {
  "kernelspec": {
   "display_name": "Python 3 (ipykernel)",
   "language": "python",
   "name": "python3"
  },
  "language_info": {
   "codemirror_mode": {
    "name": "ipython",
    "version": 3
   },
   "file_extension": ".py",
   "mimetype": "text/x-python",
   "name": "python",
   "nbconvert_exporter": "python",
   "pygments_lexer": "ipython3",
   "version": "3.10.8"
  }
 },
 "nbformat": 4,
 "nbformat_minor": 5
}
