QA{
  "nbformat": 4,
  "nbformat_minor": 0,
  "metadata": {
    "colab": {
      "provenance": []
    },
    "kernelspec": {
      "name": "python3",
      "display_name": "Python 3"
    },
    "language_info": {
      "name": "python"
    }
  },
  "cells": [
    {
      "cell_type": "markdown",
      "source": [
        "1. What ia a Python library? Why do we use python libraries?"
      ],
      "metadata": {
        "id": "g8nXd5Mxx7-O"
      }
    },
    {
      "cell_type": "markdown",
      "source": [
        "Python library is a collection of packages which comprises of relates modules. It contains bundles of code that can be used repeatedly in different programs.\n",
        "\n",
        "Uses - we can use the libraries to make the code simpler so that we don't have to write the code again and again."
      ],
      "metadata": {
        "id": "6pttrUuoSB3N"
      }
    },
    {
      "cell_type": "markdown",
      "source": [
        "2. What is the difference between Numpy array and List?"
      ],
      "metadata": {
        "id": "aUO_c2uLyJNI"
      }
    },
    {
      "cell_type": "markdown",
      "source": [
        "Array consist of elements belonging to same data types whereas List consist of elements belonging to different data types.\n",
        "\n",
        "Array is more compact in memory size wjereas List consume larger memory for easy addition of elements"
      ],
      "metadata": {
        "id": "d7gLMNiVQxMJ"
      }
    },
    {
      "cell_type": "markdown",
      "source": [
        "3. Find the shape, size and dimension of the following array?"
      ],
      "metadata": {
        "id": "BAujERpAyZqi"
      }
    },
    {
      "cell_type": "code",
      "execution_count": null,
      "metadata": {
        "colab": {
          "base_uri": "https://localhost:8080/"
        },
        "id": "MqpYctPUxx5_",
        "outputId": "5fdb7d86-537b-40b8-b02b-01af87438669"
      },
      "outputs": [
        {
          "output_type": "stream",
          "name": "stdout",
          "text": [
            "Shape of array is (3, 4)\n",
            "Size of array is 12\n",
            "Dimension of array is 2\n"
          ]
        }
      ],
      "source": [
        "import numpy as np\n",
        "a = np.array([[1,2,3,4],[5,6,7,8],[9,10,11,12]])\n",
        "print(f\"Shape of array is {a.shape}\")\n",
        "print(f\"Size of array is {a.size}\")\n",
        "print(f\"Dimension of array is {a.ndim}\")"
      ]
    },
    {
      "cell_type": "markdown",
      "source": [
        "4. Write python code to access the first row of the following array ?"
      ],
      "metadata": {
        "id": "a-7eXRvUz2DF"
      }
    },
    {
      "cell_type": "code",
      "source": [
        "a = np.array([[1,2,3,4],[5,6,7,8],[9,10,11,12]])\n",
        "print(f'The first row of array - {a[0]}')"
      ],
      "metadata": {
        "colab": {
          "base_uri": "https://localhost:8080/"
        },
        "id": "N7fnJS5UzMFh",
        "outputId": "186cce1e-92a6-41da-8918-14f581a2d2fe"
      },
      "execution_count": null,
      "outputs": [
        {
          "output_type": "stream",
          "name": "stdout",
          "text": [
            "The first row of array - [1 2 3 4]\n"
          ]
        }
      ]
    },
    {
      "cell_type": "markdown",
      "source": [
        "5. How do you access the element at the third row and fourth column from the given numpy array ?"
      ],
      "metadata": {
        "id": "RBAMeK_00tkO"
      }
    },
    {
      "cell_type": "code",
      "source": [
        "a = np.array([[1,2,3,4],[5,6,7,8],[9,10,11,12]])\n",
        "print(f'The third and fourth column of array - {a[:,2:]}')"
      ],
      "metadata": {
        "colab": {
          "base_uri": "https://localhost:8080/"
        },
        "id": "yxWuw0MQ0GD_",
        "outputId": "b4acdc7b-cf87-4f96-8e88-e2f3737360d2"
      },
      "execution_count": null,
      "outputs": [
        {
          "output_type": "stream",
          "name": "stdout",
          "text": [
            "The third and fourth column of array - [[ 3  4]\n",
            " [ 7  8]\n",
            " [11 12]]\n"
          ]
        }
      ]
    },
    {
      "cell_type": "markdown",
      "source": [
        "6. Write code to extract all odd-indexed elements from the given numpy array ?"
      ],
      "metadata": {
        "id": "LJcRTv0a5YZV"
      }
    },
    {
      "cell_type": "code",
      "source": [
        "a = np.array([[1,2,3,4],[5,6,7,8],[9,10,11,12]])"
      ],
      "metadata": {
        "id": "O5hb2qQx1rFX"
      },
      "execution_count": null,
      "outputs": []
    },
    {
      "cell_type": "markdown",
      "source": [
        "7. How can you generate a random 3*3 matrix with values between 0 and 1 ?"
      ],
      "metadata": {
        "id": "UDYYPzuD65Ny"
      }
    },
    {
      "cell_type": "code",
      "source": [
        "import random\n",
        "np.random.random((3,3,))"
      ],
      "metadata": {
        "colab": {
          "base_uri": "https://localhost:8080/"
        },
        "id": "VOjFP1Nd61_3",
        "outputId": "744f6b42-a785-4eb8-d990-73bef85d70e3"
      },
      "execution_count": null,
      "outputs": [
        {
          "output_type": "execute_result",
          "data": {
            "text/plain": [
              "array([[0.48826267, 0.78595213, 0.71973356],\n",
              "       [0.89360721, 0.07583132, 0.90916444],\n",
              "       [0.1514394 , 0.01560782, 0.34802734]])"
            ]
          },
          "metadata": {},
          "execution_count": 23
        }
      ]
    },
    {
      "cell_type": "markdown",
      "source": [
        "8. describe the difference between np.random.rand and np.random.randn ?"
      ],
      "metadata": {
        "id": "L_60JQqw9_V1"
      }
    },
    {
      "cell_type": "markdown",
      "source": [
        "np.random.rand gives the random array of given size whereas np.random.randn returns the random array of given size from standrd normal distribution."
      ],
      "metadata": {
        "id": "LPECYlzzJKBf"
      }
    },
    {
      "cell_type": "markdown",
      "source": [
        "9. Write code to increase the dimension of the following array ?"
      ],
      "metadata": {
        "id": "7XoH2n9k-MoP"
      }
    },
    {
      "cell_type": "code",
      "source": [
        "a = np.array([[1,2,3,4],[5,6,7,8],[9,10,11,12]])\n",
        "np.expand_dims(a , axis = 0)"
      ],
      "metadata": {
        "colab": {
          "base_uri": "https://localhost:8080/"
        },
        "id": "8trlW4327HnX",
        "outputId": "0f7fc3c7-df67-4624-d265-80e2f3c2ffb7"
      },
      "execution_count": null,
      "outputs": [
        {
          "output_type": "execute_result",
          "data": {
            "text/plain": [
              "array([[[ 1,  2,  3,  4],\n",
              "        [ 5,  6,  7,  8],\n",
              "        [ 9, 10, 11, 12]]])"
            ]
          },
          "metadata": {},
          "execution_count": 25
        }
      ]
    },
    {
      "cell_type": "markdown",
      "source": [
        "10. How to transpose the following array in NUmpy ?"
      ],
      "metadata": {
        "id": "JlSWArgo-vjf"
      }
    },
    {
      "cell_type": "code",
      "source": [
        "a = np.array([[1,2,3,4],[5,6,7,8],[9,10,11,12]])\n",
        "print(f\"Transpose of an array is {a.T}\")"
      ],
      "metadata": {
        "colab": {
          "base_uri": "https://localhost:8080/"
        },
        "id": "F0iarb1y-qPl",
        "outputId": "deeb842f-0793-4512-f004-6118590c40f5"
      },
      "execution_count": null,
      "outputs": [
        {
          "output_type": "stream",
          "name": "stdout",
          "text": [
            "Transpose of an array is [[ 1  5  9]\n",
            " [ 2  6 10]\n",
            " [ 3  7 11]\n",
            " [ 4  8 12]]\n"
          ]
        }
      ]
    },
    {
      "cell_type": "markdown",
      "source": [
        "11. Consider the following matrix:\n",
        "\n",
        "Matrix A:[[1,2,3,4],[5,6,7,8],[9,10,11,12]]\n",
        "\n",
        "Matrix B:[[1,2,3,4],[5,6,7,8],[9,10,11,12]]"
      ],
      "metadata": {
        "id": "_aFiH-x6_szH"
      }
    },
    {
      "cell_type": "markdown",
      "source": [
        "1. Index wise muliplication"
      ],
      "metadata": {
        "id": "KU7L8AFpAFMk"
      }
    },
    {
      "cell_type": "code",
      "source": [
        "A = np.array([[1,2,3,4],[5,6,7,8],[9,10,11,12]])\n",
        "B = np.array([[1,2,3,4],[5,6,7,8],[9,10,11,12]])\n",
        "print(f\"Indexwise multiplication - {A*B}\")"
      ],
      "metadata": {
        "colab": {
          "base_uri": "https://localhost:8080/"
        },
        "id": "Sgs-Xj7f_Q57",
        "outputId": "c00e27a6-12da-4043-a7bc-91b740714d63"
      },
      "execution_count": null,
      "outputs": [
        {
          "output_type": "stream",
          "name": "stdout",
          "text": [
            "Indexwise multiplication - [[  1   4   9  16]\n",
            " [ 25  36  49  64]\n",
            " [ 81 100 121 144]]\n"
          ]
        }
      ]
    },
    {
      "cell_type": "markdown",
      "source": [
        "2. Matrix multiplication"
      ],
      "metadata": {
        "id": "XieYW2kyAkrs"
      }
    },
    {
      "cell_type": "code",
      "source": [
        "A = np.array([[1,2,3,4],[5,6,7,8],[9,10,11,12]])\n",
        "B = np.array([[1,2,3,4],[5,6,7,8],[9,10,11,12],[3,4,5,6]])\n",
        "print(f\"Matrix multiplication - {A @ B}\")"
      ],
      "metadata": {
        "colab": {
          "base_uri": "https://localhost:8080/"
        },
        "id": "xZ3oKA0ZAWme",
        "outputId": "f36864da-84e2-434f-fd74-7275ce3749d5"
      },
      "execution_count": null,
      "outputs": [
        {
          "output_type": "stream",
          "name": "stdout",
          "text": [
            "Matrix multiplication - [[ 50  60  70  80]\n",
            " [122 148 174 200]\n",
            " [194 236 278 320]]\n"
          ]
        }
      ]
    },
    {
      "cell_type": "markdown",
      "source": [
        "3. Add both the matrices"
      ],
      "metadata": {
        "id": "_ShVjrmoBC0u"
      }
    },
    {
      "cell_type": "code",
      "source": [
        "A = np.array([[1,2,3,4],[5,6,7,8],[9,10,11,12]])\n",
        "B = np.array([[1,2,3,4],[5,6,7,8],[9,10,11,12]])\n",
        "print(f\"Add matrices - {A + B}\")"
      ],
      "metadata": {
        "colab": {
          "base_uri": "https://localhost:8080/"
        },
        "id": "QVXnmjYsAs_S",
        "outputId": "135ea4c8-0fdb-48bf-f6a2-810b7836eda2"
      },
      "execution_count": null,
      "outputs": [
        {
          "output_type": "stream",
          "name": "stdout",
          "text": [
            "Add matrices - [[ 2  4  6  8]\n",
            " [10 12 14 16]\n",
            " [18 20 22 24]]\n"
          ]
        }
      ]
    },
    {
      "cell_type": "markdown",
      "source": [
        "4. Subtract matrix B from A"
      ],
      "metadata": {
        "id": "NhggG8LDBRR8"
      }
    },
    {
      "cell_type": "code",
      "source": [
        "A = np.array([[1,2,3,4],[5,6,7,8],[9,10,11,12]])\n",
        "B = np.array([[1,2,3,4],[5,6,7,8],[9,10,11,12]])\n",
        "print(f\"Add matrices - {A - B}\")"
      ],
      "metadata": {
        "colab": {
          "base_uri": "https://localhost:8080/"
        },
        "id": "eR53m2abBNc8",
        "outputId": "2d694654-5694-41af-8408-ec16a4e71506"
      },
      "execution_count": null,
      "outputs": [
        {
          "output_type": "stream",
          "name": "stdout",
          "text": [
            "Add matrices - [[0 0 0 0]\n",
            " [0 0 0 0]\n",
            " [0 0 0 0]]\n"
          ]
        }
      ]
    },
    {
      "cell_type": "markdown",
      "source": [
        "5. Divide matrix B by A"
      ],
      "metadata": {
        "id": "-evZTbudBYU5"
      }
    },
    {
      "cell_type": "code",
      "source": [
        "A = np.array([[1,2,3,4],[5,6,7,8],[9,10,11,12]])\n",
        "B = np.array([[1,2,3,4],[5,6,7,8],[9,10,11,12]])\n",
        "print(f\"Add matrices - {A / B}\")"
      ],
      "metadata": {
        "colab": {
          "base_uri": "https://localhost:8080/"
        },
        "id": "v0G5Fqd5BVkj",
        "outputId": "44ef413b-fad1-486d-bc16-311f48602dfa"
      },
      "execution_count": null,
      "outputs": [
        {
          "output_type": "stream",
          "name": "stdout",
          "text": [
            "Add matrices - [[1. 1. 1. 1.]\n",
            " [1. 1. 1. 1.]\n",
            " [1. 1. 1. 1.]]\n"
          ]
        }
      ]
    },
    {
      "cell_type": "markdown",
      "source": [
        "12. which function in Numpy can be used to swap the byte order of an array ?"
      ],
      "metadata": {
        "id": "KsQZKMunBh1l"
      }
    },
    {
      "cell_type": "code",
      "source": [
        "A = np.array([[1,2,3,4],[5,6,7,8],[9,10,11,12]])\n",
        "print(A.byteswap())"
      ],
      "metadata": {
        "colab": {
          "base_uri": "https://localhost:8080/"
        },
        "id": "l_nTg2JnBdqm",
        "outputId": "2f2571e0-5570-497f-defa-338146f08bcd"
      },
      "execution_count": null,
      "outputs": [
        {
          "output_type": "stream",
          "name": "stdout",
          "text": [
            "[[ 72057594037927936 144115188075855872 216172782113783808\n",
            "  288230376151711744]\n",
            " [360287970189639680 432345564227567616 504403158265495552\n",
            "  576460752303423488]\n",
            " [648518346341351424 720575940379279360 792633534417207296\n",
            "  864691128455135232]]\n"
          ]
        }
      ]
    },
    {
      "cell_type": "markdown",
      "source": [
        "13. What is the significance of the np.linalg.inv function ?"
      ],
      "metadata": {
        "id": "U5a-H2R-Die2"
      }
    },
    {
      "cell_type": "code",
      "source": [
        "A = np.array([[1,2,3],[5,6,7],[9,10,11]])\n",
        "print(np.linalg.inv(A))\n",
        "print(f\"np.linalg.inv(A) gives the multiplicative inverse of square matrix\")"
      ],
      "metadata": {
        "colab": {
          "base_uri": "https://localhost:8080/"
        },
        "id": "CaBnUu0jCGhD",
        "outputId": "745902e5-46c4-4e00-8a31-7d53a9a1b244"
      },
      "execution_count": null,
      "outputs": [
        {
          "output_type": "stream",
          "name": "stdout",
          "text": [
            "[[ 5.62949953e+14 -1.12589991e+15  5.62949953e+14]\n",
            " [-1.12589991e+15  2.25179981e+15 -1.12589991e+15]\n",
            " [ 5.62949953e+14 -1.12589991e+15  5.62949953e+14]]\n",
            "np.linalg.inv(A) gives the multiplicative inverse of square matrix\n"
          ]
        }
      ]
    },
    {
      "cell_type": "markdown",
      "source": [
        "14. What does the np.reshape function do, and how is it used?"
      ],
      "metadata": {
        "id": "cF8HPCGYEQoW"
      }
    },
    {
      "cell_type": "code",
      "source": [
        "A = np.array([[1,2,3,4],[5,6,7,8],[9,10,11,12]])\n",
        "np.reshape(A, (12))\n",
        "\n",
        "# np.reshape function is used to reshape the arrays as per the multiple of (rows*columns)"
      ],
      "metadata": {
        "colab": {
          "base_uri": "https://localhost:8080/"
        },
        "id": "g-X2y0kLDyIc",
        "outputId": "96f39f0f-b566-469a-e383-625d1fa89950"
      },
      "execution_count": null,
      "outputs": [
        {
          "output_type": "execute_result",
          "data": {
            "text/plain": [
              "array([ 1,  2,  3,  4,  5,  6,  7,  8,  9, 10, 11, 12])"
            ]
          },
          "metadata": {},
          "execution_count": 54
        }
      ]
    },
    {
      "cell_type": "markdown",
      "source": [
        "15. What is broadcasting in Numpy ?"
      ],
      "metadata": {
        "id": "9LBlf77SFk5e"
      }
    },
    {
      "cell_type": "markdown",
      "source": [
        "Ans . Broadcasting in array means doing operation in every element of the array."
      ],
      "metadata": {
        "id": "rBK2erVqHRYb"
      }
    },
    {
      "cell_type": "code",
      "source": [
        "a = np.array([[0.0,0.0,0.0],[10.0,10.0,10.0],[20.0,20.0,20.0],[30.0,30.0,30.0]])\n",
        "b = np.array([1.0,2.0,3.0])\n",
        "a + b"
      ],
      "metadata": {
        "id": "VBH3N_kkEjAp",
        "colab": {
          "base_uri": "https://localhost:8080/"
        },
        "outputId": "03aedeec-3112-4eb4-f486-005bc6063df0"
      },
      "execution_count": 55,
      "outputs": [
        {
          "output_type": "execute_result",
          "data": {
            "text/plain": [
              "array([[ 1.,  2.,  3.],\n",
              "       [11., 12., 13.],\n",
              "       [21., 22., 23.],\n",
              "       [31., 32., 33.]])"
            ]
          },
          "metadata": {},
          "execution_count": 55
        }
      ]
    },
    {
      "cell_type": "code",
      "source": [],
      "metadata": {
        "id": "5LzUFD9KINiM"
      },
      "execution_count": null,
      "outputs": []
    }
  ]
}