{
 "cells": [
  {
   "cell_type": "markdown",
   "id": "5e97e274-00a4-4719-862e-62ef922624b5",
   "metadata": {},
   "source": [
    "### Basic Level"
   ]
  },
  {
   "cell_type": "markdown",
   "id": "981f212c-4e70-497e-b524-fd886622336e",
   "metadata": {},
   "source": [
    "1. Write a Python program to print the numbers from 1 to 10 using a `for` loop."
   ]
  },
  {
   "cell_type": "code",
   "execution_count": 1,
   "id": "3847be0e-55cd-44fb-b812-01285bcb39ff",
   "metadata": {},
   "outputs": [
    {
     "name": "stdout",
     "output_type": "stream",
     "text": [
      "1\n",
      "2\n",
      "3\n",
      "4\n",
      "5\n",
      "6\n",
      "7\n",
      "8\n",
      "9\n",
      "10\n"
     ]
    }
   ],
   "source": [
    "for i in range(1,11):\n",
    "    print(i)"
   ]
  },
  {
   "cell_type": "markdown",
   "id": "d335b8b9-1b2e-48c6-a22f-d552c995a2c2",
   "metadata": {},
   "source": [
    "2. Create a program that calculates the sum of all numbers in a list using a `for` loop."
   ]
  },
  {
   "cell_type": "code",
   "execution_count": 2,
   "id": "cf0710b5-2e80-4931-9cbd-7c849b3cac88",
   "metadata": {},
   "outputs": [
    {
     "name": "stdout",
     "output_type": "stream",
     "text": [
      "The sum of all numbers is: 15\n"
     ]
    }
   ],
   "source": [
    "l2=[1,2,3,4,5]\n",
    "sum=0\n",
    "for i in l2:\n",
    "    sum+=i\n",
    "print(\"The sum of all numbers is:\",sum)"
   ]
  },
  {
   "cell_type": "markdown",
   "id": "6619e48e-216b-4922-babc-2599146ef8f2",
   "metadata": {},
   "source": [
    "3. Write a program to print the characters of a string in reverse order using a `for` loop."
   ]
  },
  {
   "cell_type": "code",
   "execution_count": 3,
   "id": "95767df6-1b36-459f-b9b5-ad587ce981d8",
   "metadata": {},
   "outputs": [
    {
     "name": "stdin",
     "output_type": "stream",
     "text": [
      "Enter the string: have a nice day\n"
     ]
    },
    {
     "name": "stdout",
     "output_type": "stream",
     "text": [
      "day\n",
      "nice\n",
      "a\n",
      "have\n"
     ]
    }
   ],
   "source": [
    "str3=input(\"Enter the string:\")\n",
    "l3=str3.split(' ')\n",
    "n=len(l3)\n",
    "for i in range(n):\n",
    "    print(l3[n-1-i])\n",
    "    "
   ]
  },
  {
   "cell_type": "markdown",
   "id": "9862202e-f3b6-4dbc-a57c-46517918952f",
   "metadata": {},
   "source": [
    "4. Develop a program that finds the factorial of a given number using a `for` loop."
   ]
  },
  {
   "cell_type": "code",
   "execution_count": 28,
   "id": "38e56f1b-9497-431c-ac9b-34d5762e3670",
   "metadata": {},
   "outputs": [
    {
     "name": "stdout",
     "output_type": "stream",
     "text": [
      "The factorial of 4 is: 24\n"
     ]
    }
   ],
   "source": [
    "def fact(n):\n",
    "    s=1\n",
    "    for i in range(1,n+1):\n",
    "        if n==1:\n",
    "            return 1\n",
    "        else:\n",
    "            s*=i\n",
    "    print(f\"The factorial of {n} is: {s}\")\n",
    "fact(4)"
   ]
  },
  {
   "cell_type": "markdown",
   "id": "e6b4fc76-0c65-459b-abf9-05070b31ec97",
   "metadata": {},
   "source": [
    "5. Create a program to print the multiplication table of a given number using a `for` loop."
   ]
  },
  {
   "cell_type": "code",
   "execution_count": 1,
   "id": "c9b66a57-1bfa-4490-b0c4-4f3d86cac061",
   "metadata": {},
   "outputs": [
    {
     "name": "stdout",
     "output_type": "stream",
     "text": [
      "2 * 1 = 2\n",
      "2 * 2 = 4\n",
      "2 * 3 = 6\n",
      "2 * 4 = 8\n",
      "2 * 5 = 10\n",
      "2 * 6 = 12\n",
      "2 * 7 = 14\n",
      "2 * 8 = 16\n",
      "2 * 9 = 18\n",
      "2 * 10 = 20\n"
     ]
    }
   ],
   "source": [
    "def mul_tab(n):\n",
    "    for i in range(1,11):\n",
    "        print(f\"{n} * {i} = {n*i}\")\n",
    "        \n",
    "mul_tab(2)"
   ]
  },
  {
   "cell_type": "markdown",
   "id": "7d540cfd-1e7e-47e0-8205-880be4fefa7e",
   "metadata": {},
   "source": [
    "6. Write a program that counts the number of even and odd numbers in a list using a `for` loop."
   ]
  },
  {
   "cell_type": "code",
   "execution_count": 7,
   "id": "aad24eff-c2d6-48a7-9caf-a0288675330d",
   "metadata": {},
   "outputs": [
    {
     "name": "stdout",
     "output_type": "stream",
     "text": [
      "The number of odd numbers is: 4\n",
      "The number of even numbers is: 3\n"
     ]
    }
   ],
   "source": [
    "l6=[1,2,3,4,5,6,7]\n",
    "l6_even=[]\n",
    "l6_odd=[]\n",
    "def count(l6):\n",
    "    for i in l6:\n",
    "        if i%2==0:\n",
    "            l6_even.append(i)\n",
    "        else:\n",
    "            l6_odd.append(i)\n",
    "    print(f\"The number of odd numbers is: {len(l6_odd)}\")\n",
    "    print(f\"The number of even numbers is: {len(l6_even)}\")\n",
    "    \n",
    "count(l6)"
   ]
  },
  {
   "cell_type": "markdown",
   "id": "87260e02-3398-45e4-ad6f-caa2d860dc7e",
   "metadata": {},
   "source": [
    "7. Develop a program that prints the squares of numbers from 1 to 5 using a `for` loop."
   ]
  },
  {
   "cell_type": "code",
   "execution_count": 10,
   "id": "d242b9f6-acca-4913-88f7-9e41d31b3206",
   "metadata": {},
   "outputs": [
    {
     "name": "stdout",
     "output_type": "stream",
     "text": [
      "The square of 1 is: 1\n",
      "The square of 2 is: 4\n",
      "The square of 3 is: 9\n",
      "The square of 4 is: 16\n",
      "The square of 5 is: 25\n"
     ]
    }
   ],
   "source": [
    "for i in range(1,6):\n",
    "    print(f\"The square of {i} is: {i**2}\")"
   ]
  },
  {
   "cell_type": "markdown",
   "id": "90d22af3-6273-4c8f-ac57-245c739663bc",
   "metadata": {},
   "source": [
    "8. Create a program to find the length of a string without using the `len()` function."
   ]
  },
  {
   "cell_type": "code",
   "execution_count": 12,
   "id": "02408241-8433-49ea-b757-f9b52dcca049",
   "metadata": {},
   "outputs": [
    {
     "name": "stdin",
     "output_type": "stream",
     "text": [
      "Enter the string: hey have a nice day\n"
     ]
    },
    {
     "name": "stdout",
     "output_type": "stream",
     "text": [
      "The length of a string is: 5\n"
     ]
    }
   ],
   "source": [
    "str8=input(\"Enter the string:\")\n",
    "l8=str8.split(' ')\n",
    "sum8=0\n",
    "for i in l8:\n",
    "    sum8+=1\n",
    "print(f\"The length of a string is: {sum8}\")"
   ]
  },
  {
   "cell_type": "markdown",
   "id": "6b7d81d1-ff64-4204-873c-1d95108c82ce",
   "metadata": {},
   "source": [
    "9. Write a program that calculates the average of a list of numbers using a `for` loop."
   ]
  },
  {
   "cell_type": "code",
   "execution_count": 18,
   "id": "3f44002e-c2f2-4251-99ff-326a1b468d0f",
   "metadata": {},
   "outputs": [
    {
     "name": "stdout",
     "output_type": "stream",
     "text": [
      "The average of the list is: 4\n"
     ]
    }
   ],
   "source": [
    "l9=[1,2,3,4,5,6,7]\n",
    "sum9=0\n",
    "for i in l9:\n",
    "    sum9+=i\n",
    "avg=sum9//len(l9)\n",
    "print(f\"The average of the list is: {avg}\")"
   ]
  },
  {
   "cell_type": "markdown",
   "id": "2e11122d-9aa0-416c-a045-2ab150851497",
   "metadata": {},
   "source": [
    "10. Develop a program that prints the first `n` Fibonacci numbers using a `for` loop."
   ]
  },
  {
   "cell_type": "code",
   "execution_count": 23,
   "id": "f66134a5-1fb1-4885-b3b2-1061bf0e4488",
   "metadata": {},
   "outputs": [
    {
     "name": "stdin",
     "output_type": "stream",
     "text": [
      "Enter the 'n': 5\n"
     ]
    },
    {
     "name": "stdout",
     "output_type": "stream",
     "text": [
      "The first 5 Fibonacci numbers are: [0, 1, 1, 2, 3]\n"
     ]
    }
   ],
   "source": [
    "fib=[0,1]\n",
    "n=int(input(\"Enter the 'n':\"))\n",
    "for i in range(2,n):\n",
    "    fib.append(fib[i-1]+fib[i-2])\n",
    "print(f\"The first {n} Fibonacci numbers are: {fib}\")"
   ]
  },
  {
   "cell_type": "markdown",
   "id": "529d68f2-0c27-4eab-9df1-ff6249d6521c",
   "metadata": {},
   "source": [
    "### Intermediate Level"
   ]
  },
  {
   "cell_type": "markdown",
   "id": "e4c29251-f160-4434-89a9-9fb669652370",
   "metadata": {},
   "source": [
    "11. Write a program to check if a given list contains any duplicates using a `for` loop."
   ]
  },
  {
   "cell_type": "code",
   "execution_count": 30,
   "id": "241dc82f-2808-4cb0-84eb-7c36d1cd453b",
   "metadata": {},
   "outputs": [
    {
     "name": "stdout",
     "output_type": "stream",
     "text": [
      "The list contains duplicates i.e, [1, 2]\n"
     ]
    }
   ],
   "source": [
    "l11=[1,2,3,4,1,2,2]\n",
    " \n",
    "uniquel11 = []\n",
    "duplicatel11 = []\n",
    " \n",
    "for i in l11:\n",
    "    if i not in uniquel11:\n",
    "        uniquel11.append(i)\n",
    "    elif i not in duplicatel11:\n",
    "        duplicatel11.append(i)\n",
    "if len(duplicatel11)==0:\n",
    "    print(\"The list doesn't contain any duplicates\")\n",
    "else:\n",
    "    print(f\"The list contains duplicates i.e, {duplicatel11}\")\n"
   ]
  },
  {
   "cell_type": "markdown",
   "id": "ed42b012-aad1-4ca4-9d21-d7685706bfd9",
   "metadata": {},
   "source": [
    "12. Create a program that prints the prime numbers in a given range using a `for` loop."
   ]
  },
  {
   "cell_type": "code",
   "execution_count": 43,
   "id": "a12d8203-f720-42ab-b990-230241853ba8",
   "metadata": {},
   "outputs": [
    {
     "name": "stdin",
     "output_type": "stream",
     "text": [
      "Enter the 'n': 30\n"
     ]
    },
    {
     "name": "stdout",
     "output_type": "stream",
     "text": [
      "2\n",
      "3\n",
      "5\n",
      "7\n",
      "11\n",
      "13\n",
      "17\n",
      "19\n",
      "23\n",
      "29\n"
     ]
    }
   ],
   "source": [
    "def prime(n):\n",
    "    if n==1 or n==0:\n",
    "        return False\n",
    "    for i in range(2,n):\n",
    "        if n%i==0:\n",
    "            return False\n",
    "    return True\n",
    "\n",
    "n=int(input(\"Enter the 'n':\"))\n",
    "for i in range(1,n+1):\n",
    "    if prime(i):\n",
    "        print(i)"
   ]
  },
  {
   "cell_type": "markdown",
   "id": "e978da71-58f6-4313-ba95-08294acc9ce9",
   "metadata": {},
   "source": [
    "13. Develop a program that counts the number of vowels in a string using a `for` loop."
   ]
  },
  {
   "cell_type": "code",
   "execution_count": 57,
   "id": "4083f887-938d-48e6-8a11-2b25348950d1",
   "metadata": {},
   "outputs": [
    {
     "name": "stdin",
     "output_type": "stream",
     "text": [
      "Enter a string hey morning\n"
     ]
    },
    {
     "name": "stdout",
     "output_type": "stream",
     "text": [
      "The number of vowels in a string are: 3\n"
     ]
    }
   ],
   "source": [
    "str13=input(\"Enter a string\")\n",
    "str13.lower()\n",
    "count_vowel=0\n",
    "for i in str13:\n",
    "    if i=='a' or i=='e' or i=='i' or i=='o' or i=='u':\n",
    "        count_vowel+=1\n",
    "print(\"The number of vowels in a string are:\",count_vowel)"
   ]
  },
  {
   "cell_type": "code",
   "execution_count": 58,
   "id": "cf11fd81-8162-4d48-bd40-49ff74a934ac",
   "metadata": {},
   "outputs": [
    {
     "name": "stdout",
     "output_type": "stream",
     "text": [
      "The number of vowels in a string are: 3\n"
     ]
    }
   ],
   "source": [
    "def vowel_count(str13):\n",
    "    vowels=\"aeiouAEIOU\"\n",
    "    count_v=len([i for i in str13 if i in vowels])\n",
    "    print(\"The number of vowels in a string are:\",count_v)\n",
    "\n",
    "    \n",
    "vowel_count(str13)"
   ]
  },
  {
   "cell_type": "markdown",
   "id": "695ccce0-61d3-4b5e-aa73-2fd577916626",
   "metadata": {},
   "source": [
    "14. Write a program to find the maximum element in a 2D list using a nested `for` loop."
   ]
  },
  {
   "cell_type": "code",
   "execution_count": 103,
   "id": "bbc339c1-3b54-44cf-83de-011742d416d3",
   "metadata": {},
   "outputs": [
    {
     "name": "stdout",
     "output_type": "stream",
     "text": [
      "The maximum element in a 2D list is: 95\n"
     ]
    }
   ],
   "source": [
    "l14=[[12,4,5],[15,3,5],[95,24,4]]\n",
    "l14_f=[]\n",
    "for ls in l14:\n",
    "    if type(ls)!=list:\n",
    "        l14_f.append(ls)\n",
    "    else:\n",
    "        for i in ls:\n",
    "            l14_f.append(i)\n",
    "print(f\"The maximum element in a 2D list is: {max(l14_f)}\")"
   ]
  },
  {
   "cell_type": "markdown",
   "id": "e84eb247-a765-455e-8a0e-e99c84502c14",
   "metadata": {},
   "source": [
    "15. Create a program that removes all occurrences of a specific element from a list using a `for` loop."
   ]
  },
  {
   "cell_type": "code",
   "execution_count": 64,
   "id": "bb9e3c66-e370-400c-9203-d8d677b1fac1",
   "metadata": {},
   "outputs": [
    {
     "name": "stdout",
     "output_type": "stream",
     "text": [
      "The original list is: [1, 2, 3, 4, 1, 2, 1, 2, 1, 1]\n"
     ]
    },
    {
     "name": "stdin",
     "output_type": "stream",
     "text": [
      "Enter the specifice element you want to remove: 2\n"
     ]
    },
    {
     "name": "stdout",
     "output_type": "stream",
     "text": [
      "After removing 2,the list is: [1, 3, 4, 1, 1, 1, 1]\n"
     ]
    }
   ],
   "source": [
    "l15=[1,2,3,4,1,2,1,2,1,1]\n",
    "print(f\"The original list is: {l15}\")\n",
    "el=int(input(\"Enter the specifice element you want to remove:\"))\n",
    "for i in l15:\n",
    "         if i==el:\n",
    "            l15.remove(el)\n",
    "\n",
    "print(f\"After removing {el},the list is: {l15}\")"
   ]
  },
  {
   "cell_type": "markdown",
   "id": "a4b67b34-7bc5-42e5-b4ef-2aaf175df1b6",
   "metadata": {},
   "source": [
    "16. Develop a program that generates a multiplication table for numbers from 1 to 5 using a nested `for` loop."
   ]
  },
  {
   "cell_type": "code",
   "execution_count": 108,
   "id": "d6e2481d-1870-46c6-99bc-b96f4894d278",
   "metadata": {},
   "outputs": [
    {
     "name": "stdin",
     "output_type": "stream",
     "text": [
      "Enter the maximum of number: 5\n"
     ]
    },
    {
     "name": "stdout",
     "output_type": "stream",
     "text": [
      "Multiplication table for 1 is:\n",
      "1*1=1\n",
      "1*2=2\n",
      "1*3=3\n",
      "1*4=4\n",
      "1*5=5\n",
      "1*6=6\n",
      "1*7=7\n",
      "1*8=8\n",
      "1*9=9\n",
      "1*10=10\n",
      "Multiplication table for 2 is:\n",
      "2*1=2\n",
      "2*2=4\n",
      "2*3=6\n",
      "2*4=8\n",
      "2*5=10\n",
      "2*6=12\n",
      "2*7=14\n",
      "2*8=16\n",
      "2*9=18\n",
      "2*10=20\n",
      "Multiplication table for 3 is:\n",
      "3*1=3\n",
      "3*2=6\n",
      "3*3=9\n",
      "3*4=12\n",
      "3*5=15\n",
      "3*6=18\n",
      "3*7=21\n",
      "3*8=24\n",
      "3*9=27\n",
      "3*10=30\n",
      "Multiplication table for 4 is:\n",
      "4*1=4\n",
      "4*2=8\n",
      "4*3=12\n",
      "4*4=16\n",
      "4*5=20\n",
      "4*6=24\n",
      "4*7=28\n",
      "4*8=32\n",
      "4*9=36\n",
      "4*10=40\n",
      "Multiplication table for 5 is:\n",
      "5*1=5\n",
      "5*2=10\n",
      "5*3=15\n",
      "5*4=20\n",
      "5*5=25\n",
      "5*6=30\n",
      "5*7=35\n",
      "5*8=40\n",
      "5*9=45\n",
      "5*10=50\n"
     ]
    }
   ],
   "source": [
    "n=int(input(\"Enter the maximum of number:\"))\n",
    "for num in range(1,n+1):\n",
    "    print(f\"Multiplication table for {num} is:\")\n",
    "    for i in range(1,11):\n",
    "        print(f\"{num}*{i}={num*i}\")"
   ]
  },
  {
   "cell_type": "markdown",
   "id": "7467e108-219f-4287-a764-e9471860c603",
   "metadata": {},
   "source": [
    "17. Write a program that converts a list of Fahrenheit temperatures to Celsius using a `for` loop."
   ]
  },
  {
   "cell_type": "code",
   "execution_count": 110,
   "id": "239eb17c-17e2-4634-b715-319f3c536c5a",
   "metadata": {},
   "outputs": [
    {
     "name": "stdout",
     "output_type": "stream",
     "text": [
      "The list of temperatues in Celsius is: [-15, 0, 40, 60]\n"
     ]
    }
   ],
   "source": [
    "l17=[5,32,104,140]\n",
    "l17_c=[]\n",
    "for i in l17:\n",
    "    l17_c.append( ((i-32)*5)//9)\n",
    "print(f\"The list of temperatues in Celsius is: {l17_c}\")"
   ]
  },
  {
   "cell_type": "markdown",
   "id": "ea855d0a-4479-405f-a557-b7c883ba7f86",
   "metadata": {},
   "source": [
    "18. Create a program to print the common elements from two lists using a `for` loop.\n"
   ]
  },
  {
   "cell_type": "code",
   "execution_count": 66,
   "id": "6be09df1-97c9-413c-8e2d-cfe5a27132b5",
   "metadata": {},
   "outputs": [
    {
     "name": "stdout",
     "output_type": "stream",
     "text": [
      "The commmon elements from two lists are: ['a', 'e']\n"
     ]
    }
   ],
   "source": [
    "l18a=['a','b','c','d','e']\n",
    "l18b=['a','i','o','e']\n",
    "l18c=[]\n",
    "for i in l18a:\n",
    "    for j in l18b:\n",
    "        if i==j:\n",
    "            l18c.append(i)\n",
    "print(f\"The commmon elements from two lists are: {l18c}\")"
   ]
  },
  {
   "cell_type": "markdown",
   "id": "504b9c38-6133-4cdd-a438-43ca24d75c62",
   "metadata": {},
   "source": [
    "19. Develop a program that prints the pattern of right-angled triangles using a `for` loop. Use ‘*’ to draw the\n",
    "pattern\n"
   ]
  },
  {
   "cell_type": "code",
   "execution_count": 114,
   "id": "ba18ec89-caa3-4538-a2e9-e15ed831f267",
   "metadata": {},
   "outputs": [
    {
     "name": "stdout",
     "output_type": "stream",
     "text": [
      "* \n",
      "* * \n",
      "* * * \n",
      "* * * * \n",
      "* * * * * \n"
     ]
    }
   ],
   "source": [
    "for i in range(1,6):\n",
    "    for j in range(1,i+1):\n",
    "        print('*',end=' ')\n",
    "    print()"
   ]
  },
  {
   "cell_type": "markdown",
   "id": "1317637a-394d-4bb8-aeef-e2812da0142e",
   "metadata": {},
   "source": [
    "20. Write a program to find the greatest common divisor (GCD) of two numbers using a `for` loop.\n",
    "\n"
   ]
  },
  {
   "cell_type": "code",
   "execution_count": 88,
   "id": "6db077d7-be90-424f-acb1-814fd85bf07b",
   "metadata": {},
   "outputs": [
    {
     "name": "stdout",
     "output_type": "stream",
     "text": [
      "The GCD of 144 and 96 are: 48\n"
     ]
    }
   ],
   "source": [
    "def GCD(n,m):\n",
    "    if n>m:\n",
    "        big=n\n",
    "    else:\n",
    "        big=m\n",
    "    for i in range(1,big+1):\n",
    "        if n%i==0 and m%i==0:\n",
    "            gcd=i\n",
    "    print(f\"The GCD of {n} and {m} are: {gcd}\")\n",
    "    \n",
    "GCD(144,96)"
   ]
  },
  {
   "cell_type": "markdown",
   "id": "463fd58b-c1a9-49d8-8f43-e1861f2838e6",
   "metadata": {},
   "source": [
    "### Advanced Level:"
   ]
  },
  {
   "cell_type": "markdown",
   "id": "162e1ca0-dd72-4d66-9d37-8fa7dcf6aa21",
   "metadata": {},
   "source": [
    "21. Create a program that calculates the sum of the digits of numbers in a list using a list comprehension.\n"
   ]
  },
  {
   "cell_type": "code",
   "execution_count": 152,
   "id": "38684b59-351c-45da-96b2-303be6254223",
   "metadata": {},
   "outputs": [
    {
     "name": "stdout",
     "output_type": "stream",
     "text": [
      "The sum of numbers of list is: [3, 13, 17, 7]\n"
     ]
    }
   ],
   "source": [
    "l21=[12, 67, 98, 34]\n",
    "l21_sum= list(map(lambda ele: sum(int(sub) for sub in str(ele)), l21))\n",
    "print(f\"The sum of numbers of list is: {l21_sum}\")"
   ]
  },
  {
   "cell_type": "markdown",
   "id": "04d11a06-8dd9-4a83-ab8d-4e99318e67b7",
   "metadata": {},
   "source": [
    "22. Write a program to find the prime factors of a given number using a `for` loop and list comprehension."
   ]
  },
  {
   "cell_type": "code",
   "execution_count": 60,
   "id": "b5b4cc18-8c00-4c10-9bfc-5240a2e1fd23",
   "metadata": {},
   "outputs": [
    {
     "name": "stdin",
     "output_type": "stream",
     "text": [
      "Enter a number : 246\n"
     ]
    },
    {
     "name": "stdout",
     "output_type": "stream",
     "text": [
      "2 3 41\n"
     ]
    }
   ],
   "source": [
    "n=int(input(\"Enter a number :\"))\n",
    "prime_factors = lambda n: [i for i in range(2, n+1) if n%i == 0 and all(i % j != 0 for j in range(2, int(i**0.5)+1))]\n",
    "factors = []\n",
    "while n > 1:\n",
    "    for factor in prime_factors(n):\n",
    "        factors.append(factor)\n",
    "        n //= factor\n",
    "print(*factors)"
   ]
  },
  {
   "cell_type": "markdown",
   "id": "501afa4d-e5bc-4479-9e07-9f1ce27f8c7c",
   "metadata": {},
   "source": [
    "23. Develop a program that extracts unique elements from a list and stores them in a new list using a list\n",
    "comprehension."
   ]
  },
  {
   "cell_type": "code",
   "execution_count": 56,
   "id": "585fdaa6-1346-4687-acf2-d7d66726e32a",
   "metadata": {},
   "outputs": [
    {
     "data": {
      "text/plain": [
       "['a', 'b', 'c', 'e', 'u']"
      ]
     },
     "execution_count": 56,
     "metadata": {},
     "output_type": "execute_result"
    }
   ],
   "source": [
    "l23=['a','b','c','a','c','e','u','a']\n",
    "list2 = [1, 2, 1, 1, 3, 4, 3, 3, 5]\n",
    "uniquelist=[]\n",
    "new=[uniquelist.append(i) for i in l23 if i not in uniquelist]\n",
    "uniquelist"
   ]
  },
  {
   "cell_type": "markdown",
   "id": "ab7893f0-95cd-4151-afeb-5fbad3e5b16f",
   "metadata": {},
   "source": [
    "24. Create a program that generates a list of all palindromic numbers up to a specified limit using a list\n",
    "comprehension.\n"
   ]
  },
  {
   "cell_type": "code",
   "execution_count": 44,
   "id": "63d4ba2e-4b90-4fa5-8e54-945d15668c73",
   "metadata": {},
   "outputs": [
    {
     "name": "stdout",
     "output_type": "stream",
     "text": [
      "The list of all palindromic numbers : [11, 22, 33, 44, 55, 66, 77, 88, 99, 101, 111, 121, 131, 141, 151, 161, 171, 181, 191]\n"
     ]
    }
   ],
   "source": [
    "pal=[i for i in range(10,200) if str(i)==str(i)[::-1]]\n",
    "print(f'The list of all palindromic numbers : {pal}')"
   ]
  },
  {
   "cell_type": "markdown",
   "id": "cb53226a-c48b-4a27-b8bc-503ac94183f9",
   "metadata": {},
   "source": [
    "25. Write a program to flatten a nested list using list comprehension.\n"
   ]
  },
  {
   "cell_type": "code",
   "execution_count": 49,
   "id": "eb88d7e4-74b5-46c8-91ba-675d6e670a69",
   "metadata": {},
   "outputs": [
    {
     "data": {
      "text/plain": [
       "[11, 22, 33, 44, 55, 66, 77, 88, 99, 100]"
      ]
     },
     "execution_count": 49,
     "metadata": {},
     "output_type": "execute_result"
    }
   ],
   "source": [
    "l25 = [[11, 22, 33, 44], [55, 66, 77], [88, 99, 100]]\n",
    "l25_flatten=[element for innerList in l25 for element in innerList]\n",
    "l25_flatten"
   ]
  },
  {
   "cell_type": "markdown",
   "id": "de0b2682-a0d0-4997-a6f5-3443c1f27660",
   "metadata": {},
   "source": [
    "26. Develop a program that computes the sum of even and odd numbers in a list separately using list\n",
    "comprehension.\n"
   ]
  },
  {
   "cell_type": "code",
   "execution_count": 9,
   "id": "2fab8f47-be25-4fb4-8682-b0dab2b1e4e6",
   "metadata": {},
   "outputs": [
    {
     "name": "stdout",
     "output_type": "stream",
     "text": [
      "The sum of even numbers is 6\n",
      "The sum of odd numbers is 9\n"
     ]
    }
   ],
   "source": [
    "l26=[1,2,3,4,5]\n",
    "count_even=sum([i for i in l26 if i%2==0])\n",
    "count_odd =sum([i for i in l26 if i%2!=0])\n",
    "print(f\"The sum of even numbers is {count_even}\")\n",
    "print(f\"The sum of odd numbers is {count_odd}\")"
   ]
  },
  {
   "cell_type": "markdown",
   "id": "396de962-cb78-41e0-8d7e-15f163352a70",
   "metadata": {},
   "source": [
    "27. Create a program that generates a list of squares of odd numbers between 1 and 10 using list  comprehension.\n"
   ]
  },
  {
   "cell_type": "code",
   "execution_count": 39,
   "id": "eba89b1a-65bd-40a1-b993-4ffb33468659",
   "metadata": {},
   "outputs": [
    {
     "name": "stdout",
     "output_type": "stream",
     "text": [
      "The list of squares of odd numbers are: [1, 9, 25, 49, 81]\n"
     ]
    }
   ],
   "source": [
    "l27=[i**2 for i in range(1,11) if i%2!=0]\n",
    "print(f\"The list of squares of odd numbers are: {l27}\")"
   ]
  },
  {
   "cell_type": "markdown",
   "id": "0d271c98-9807-461b-925a-e973fd692d22",
   "metadata": {},
   "source": [
    "28. Write a program that combines two lists into a dictionary using list comprehension."
   ]
  },
  {
   "cell_type": "code",
   "execution_count": 9,
   "id": "891080be-bafd-48fd-a334-747de1ad19d0",
   "metadata": {},
   "outputs": [
    {
     "name": "stdout",
     "output_type": "stream",
     "text": [
      "The combination of two lists is {1: 'a', 2: 'b', 3: 'c', 4: 'd', 5: 'e'}\n"
     ]
    }
   ],
   "source": [
    "l28a=[1,2,3,4,5]\n",
    "l28b=['a','b','c','d','e']\n",
    "dic28={l28a[i]:l28b[i] for i in range(len(l28a))}\n",
    "print(f\"The combination of two lists is {dic28}\")"
   ]
  },
  {
   "cell_type": "markdown",
   "id": "af49b54d-1e71-47fc-a942-e711972e1ff2",
   "metadata": {},
   "source": [
    "29. Develop a program that extracts the vowels from a string and stores them in a list using list comprehension."
   ]
  },
  {
   "cell_type": "code",
   "execution_count": 10,
   "id": "4678137d-083b-448d-8b1c-edf60512c34d",
   "metadata": {},
   "outputs": [
    {
     "name": "stdin",
     "output_type": "stream",
     "text": [
      "Enter the string : Hey morning\n"
     ]
    },
    {
     "name": "stdout",
     "output_type": "stream",
     "text": [
      "The vowels from a string is : ['e', 'o', 'i']\n"
     ]
    }
   ],
   "source": [
    "str29=input(\"Enter the string :\")\n",
    "vowels=\"aeiouAEIOU\"\n",
    "l29=[i for i in str29 if i in vowels]\n",
    "print(f\"The vowels from a string is : {l29}\")"
   ]
  },
  {
   "cell_type": "markdown",
   "id": "0b1e26e6-0b79-4792-8cd6-36b37a6dc7e3",
   "metadata": {},
   "source": [
    "30. Create a program that removes all non-numeric characters from a list of strings using list comprehension"
   ]
  },
  {
   "cell_type": "code",
   "execution_count": 13,
   "id": "62422999-341b-477d-ade5-5b885fbec6e3",
   "metadata": {},
   "outputs": [
    {
     "name": "stdout",
     "output_type": "stream",
     "text": [
      "The modified list is : ['geeks', 'for', 'geeks']\n"
     ]
    }
   ],
   "source": [
    "l30=['4geeks', 'f3or', 'gee4ks']\n",
    "l30_re=[''.join(x for x in i if x.isalpha()) for i in l30] \n",
    "print(f\"The modified list is : {l30_re}\")"
   ]
  },
  {
   "cell_type": "markdown",
   "id": "1973be6a-27e9-4db4-8626-48ab1a81acab",
   "metadata": {},
   "source": [
    "### Challenge Level"
   ]
  },
  {
   "cell_type": "markdown",
   "id": "adbce071-80fa-4566-affb-ec92600040c1",
   "metadata": {},
   "source": [
    "31. Write a program to generate a list of prime numbers using the Sieve of Eratosthenes algorithm and list\n",
    "comprehension"
   ]
  },
  {
   "cell_type": "code",
   "execution_count": 19,
   "id": "d47d1fc2-1b17-4b82-9e7f-abc56aa38fad",
   "metadata": {},
   "outputs": [
    {
     "name": "stdout",
     "output_type": "stream",
     "text": [
      "2 3 5 7 11 13 17 19 "
     ]
    }
   ],
   "source": [
    "import math\n",
    "def SieveOfEratosthenes(srt, n):\n",
    "    prime = [True for i in range(n + 1)]\n",
    "    prime[0] = False\n",
    "    prime[1] = False\n",
    "\n",
    "    for p in range(2, int(math.sqrt(n))+1):\n",
    "        if prime[p] == True:\n",
    "            for i in range(p*p, n+1, p):\n",
    "                prime[i] = False\n",
    "\n",
    "    \n",
    "    for p in range(srt, n+1):\n",
    "        if prime[p]:\n",
    "            print(p, end=\" \")\n",
    "\n",
    "SieveOfEratosthenes(2,20)"
   ]
  },
  {
   "cell_type": "markdown",
   "id": "4ab35241-d2bb-4128-8706-e1247240d6b6",
   "metadata": {},
   "source": [
    "32. Create a program that generates a list of all Pythagorean triplets up to a specified limit using list\n",
    "comprehension"
   ]
  },
  {
   "cell_type": "code",
   "execution_count": 20,
   "id": "f1564cd0-1463-4cb2-b35e-6a78c7f025de",
   "metadata": {},
   "outputs": [
    {
     "name": "stdin",
     "output_type": "stream",
     "text": [
      "Enter the specified limit:  20\n"
     ]
    },
    {
     "name": "stdout",
     "output_type": "stream",
     "text": [
      "The list of all Pythagorean triplets upto 20 is : [(3, 4, 5), (5, 12, 13), (6, 8, 10), (8, 15, 17), (9, 12, 15), (12, 16, 20)]\n"
     ]
    }
   ],
   "source": [
    "n = int(input('Enter the specified limit: '))\n",
    "l32=[(a, b, c) for a in range(1, n + 1) for b in range(a, n + 1)  for c in range(b, n + 1) if a**2 + b**2 == c**2]\n",
    "print(f\"The list of all Pythagorean triplets upto {n} is : {l32}\")"
   ]
  },
  {
   "cell_type": "markdown",
   "id": "0a46d01e-61c1-4102-b6b5-a9667d73fdb7",
   "metadata": {},
   "source": [
    "33. Develop a program that generates a list of all possible combinations of two lists using list comprehension.\n"
   ]
  },
  {
   "cell_type": "code",
   "execution_count": 24,
   "id": "fb4ffb8d-f911-47f0-8c85-42b1cbcabd88",
   "metadata": {},
   "outputs": [
    {
     "name": "stdout",
     "output_type": "stream",
     "text": [
      "The list of all possible combinations of two lists : [(1, 'a'), (1, 'b'), (1, 'c'), (2, 'a'), (2, 'b'), (2, 'c'), (3, 'a'), (3, 'b'), (3, 'c'), (4, 'a'), (4, 'b'), (4, 'c'), (5, 'a'), (5, 'b'), (5, 'c')]\n"
     ]
    }
   ],
   "source": [
    "l33a=[1,2,3,4,5]\n",
    "l33b=['a','b','c']\n",
    "l33_com=[(i,j) for i in l33a for j in l33b]\n",
    "print(f\"The list of all possible combinations of two lists : {l33_com}\")"
   ]
  },
  {
   "cell_type": "markdown",
   "id": "39e47ae6-1c61-4337-91bf-11202593910d",
   "metadata": {},
   "source": [
    "34. Write a program that calculates the mean, median, and mode of a list of numbers using list comprehension.\n"
   ]
  },
  {
   "cell_type": "code",
   "execution_count": 27,
   "id": "e311f2e0-f2ce-4b90-a1a8-25788f3772e6",
   "metadata": {},
   "outputs": [
    {
     "name": "stdout",
     "output_type": "stream",
     "text": [
      "The mean and median of the list are 3.0 and 3\n"
     ]
    }
   ],
   "source": [
    "from functools import reduce\n",
    "l34=[1,2,3,4,5]\n",
    "l34.sort()\n",
    "n=len(l34)\n",
    "mean=reduce(lambda a, b: a + b, l34) / len(l34) \n",
    "median=(l34[n//2]+l34[(n//2)-1])/2  if n%2==0 else l34[n//2]\n",
    "print(f\"The mean and median of the list are {mean} and {median}\")"
   ]
  },
  {
   "cell_type": "markdown",
   "id": "eb83dad8-0aa6-43fc-89b6-f41bcabdf3c3",
   "metadata": {},
   "source": [
    "35. Create a program that generates Pascal's triangle up to a specified number of rows using list\n",
    "comprehension.\n"
   ]
  },
  {
   "cell_type": "code",
   "execution_count": 34,
   "id": "10a71811-c473-4f11-9342-e4381a548149",
   "metadata": {},
   "outputs": [
    {
     "name": "stdin",
     "output_type": "stream",
     "text": [
      "Enter the specified number of rows: 6\n"
     ]
    },
    {
     "name": "stdout",
     "output_type": "stream",
     "text": [
      "       1 \n",
      "      1 1 \n",
      "     1 2 1 \n",
      "    1 3 3 1 \n",
      "   1 4 6 4 1 \n",
      "  1 5 10 10 5 1 \n"
     ]
    }
   ],
   "source": [
    "from math import factorial\n",
    "n = int(input(\"Enter the specified number of rows:\"))\n",
    "for i in range(n):\n",
    "    for j in range(n-i+1):\n",
    "        print(end=\" \")\n",
    "\n",
    "    for j in range(i+1):\n",
    "        print(factorial(i)//(factorial(j)*factorial(i-j)), end=\" \")\n",
    "    print()"
   ]
  },
  {
   "cell_type": "markdown",
   "id": "c22f1a3f-3018-4ea1-beac-95acff791d37",
   "metadata": {},
   "source": [
    "36. Develop a program that calculates the sum of the digits of a factorial of numbers from 1 to 5 using list comprehension.\n"
   ]
  },
  {
   "cell_type": "code",
   "execution_count": 41,
   "id": "c2b97929-6313-489d-abd9-8b4299685682",
   "metadata": {},
   "outputs": [
    {
     "name": "stdout",
     "output_type": "stream",
     "text": [
      "The sum of digits of a factorial of numbers are : [1, 2, 6, 6, 3]\n"
     ]
    }
   ],
   "source": [
    "from math import factorial\n",
    "fact=[factorial(i) for i in range(1,6)]\n",
    "l36= list(map(lambda ele: sum(int(sub) for sub in str(ele)), fact))\n",
    "print(f\"The sum of digits of a factorial of numbers are : {l36}\")"
   ]
  },
  {
   "cell_type": "markdown",
   "id": "d4dad3a9-3a83-4ea3-8b0b-d5ca1808f980",
   "metadata": {},
   "source": [
    "37. Write a program that finds the longest word in a sentence using list comprehension.\n"
   ]
  },
  {
   "cell_type": "code",
   "execution_count": 3,
   "id": "b1444b64-2006-463d-8c60-586a6f16ed3c",
   "metadata": {},
   "outputs": [
    {
     "name": "stdin",
     "output_type": "stream",
     "text": [
      "Enter the string : hey have a nice morning\n"
     ]
    },
    {
     "data": {
      "text/plain": [
       "'morning'"
      ]
     },
     "execution_count": 3,
     "metadata": {},
     "output_type": "execute_result"
    }
   ],
   "source": [
    "from functools import reduce\n",
    "str37=input(\"Enter the string :\")\n",
    "l37=str37.split()\n",
    "reduce(lambda x, y: x if len(x) > len(y) else y, l37)"
   ]
  },
  {
   "cell_type": "markdown",
   "id": "486f7c6e-0f67-4733-b860-97ab59613b45",
   "metadata": {},
   "source": [
    "38. Create a program that filters a list of strings to include only those with more than three vowels using list comprehension."
   ]
  },
  {
   "cell_type": "code",
   "execution_count": 16,
   "id": "244615b1-91cf-42f1-9412-e2eb04161888",
   "metadata": {},
   "outputs": [
    {
     "data": {
      "text/plain": [
       "['extraordinary', 'pineapple', 'mandarin orange']"
      ]
     },
     "execution_count": 16,
     "metadata": {},
     "output_type": "execute_result"
    }
   ],
   "source": [
    "import re\n",
    "l38 = [\"mango\", \"apple\", \"strawberry\", \"extraordinary\", \"pineapple\", \"mandarin orange\"]\n",
    "[i for i in l38 if len(re.sub(r\"[^aeiouAEIOU]\", \"\", i)) > 3]"
   ]
  },
  {
   "cell_type": "markdown",
   "id": "74d7c80f-5e65-4c80-ae68-74b0b0d98b88",
   "metadata": {},
   "source": [
    "39. Develop a program that calculates the sum of the digits of numbers from 1 to 1000 using list comprehension."
   ]
  },
  {
   "cell_type": "code",
   "execution_count": 13,
   "id": "67db2b5c-9c7f-4c05-9170-28a7fbf503b4",
   "metadata": {},
   "outputs": [
    {
     "data": {
      "text/plain": [
       "[1, 2, 3, 4, 5, 6, 7, 8, 9]"
      ]
     },
     "execution_count": 13,
     "metadata": {},
     "output_type": "execute_result"
    }
   ],
   "source": [
    "l39=[i for i in range(1,10)]\n",
    "l39_sum= list(map(lambda ele: sum(int(sub) for sub in str(ele)),l39))\n",
    "l39_sum"
   ]
  },
  {
   "cell_type": "markdown",
   "id": "d9415a01-434a-44bb-b194-22444b1f5789",
   "metadata": {},
   "source": [
    "40. Write a program that generates a list of prime palindromic numbers using list comprehension."
   ]
  },
  {
   "cell_type": "code",
   "execution_count": 64,
   "id": "a0b38cdd-6399-4b93-b6b3-6d39a004b907",
   "metadata": {},
   "outputs": [
    {
     "name": "stdout",
     "output_type": "stream",
     "text": [
      "The list of all palindromic numbers : [11, 22, 33, 44, 55, 66, 77, 88, 99, 101, 111, 121, 131, 141, 151, 161, 171, 181, 191]\n"
     ]
    }
   ],
   "source": [
    "pal=[i for i in range(10,200) if str(i)==str(i)[::-1]]\n",
    "print(f'The list of all palindromic numbers : {pal}')"
   ]
  },
  {
   "cell_type": "code",
   "execution_count": null,
   "id": "36dbedd4-b3a4-410d-b4c1-f533c95fed8b",
   "metadata": {},
   "outputs": [],
   "source": []
  }
 ],
 "metadata": {
  "kernelspec": {
   "display_name": "Python 3 (ipykernel)",
   "language": "python",
   "name": "python3"
  },
  "language_info": {
   "codemirror_mode": {
    "name": "ipython",
    "version": 3
   },
   "file_extension": ".py",
   "mimetype": "text/x-python",
   "name": "python",
   "nbconvert_exporter": "python",
   "pygments_lexer": "ipython3",
   "version": "3.10.8"
  }
 },
 "nbformat": 4,
 "nbformat_minor": 5
}
