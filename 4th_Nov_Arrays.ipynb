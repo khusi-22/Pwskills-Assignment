{
 "cells": [
  {
   "cell_type": "markdown",
   "id": "2d83bfaa-bdf8-4280-858e-397ae6736bd7",
   "metadata": {},
   "source": [
    "1. Given an array, check if it contains any duplicates or not."
   ]
  },
  {
   "cell_type": "code",
   "execution_count": 6,
   "id": "65796b8b-09f1-457b-b422-bc2acf269aca",
   "metadata": {},
   "outputs": [
    {
     "data": {
      "text/plain": [
       "True"
      ]
     },
     "execution_count": 6,
     "metadata": {},
     "output_type": "execute_result"
    }
   ],
   "source": [
    "arr = [1, 2, 4, 2, 5, 9]\n",
    "org=[]\n",
    "dup=[]\n",
    "def cont_dup(arr):\n",
    "    for i in arr:\n",
    "        if i not in org:\n",
    "            org.append(i)\n",
    "        if i not in dup:\n",
    "            dup.append(i)\n",
    "    if len(dup)>0:\n",
    "        return True\n",
    "    \n",
    "cont_dup(arr)"
   ]
  },
  {
   "cell_type": "markdown",
   "id": "65cbd2cc-8079-4f24-b717-b3701537de83",
   "metadata": {},
   "source": [
    "2. Given an array and an integer k, rotate the array to the right by k steps."
   ]
  },
  {
   "cell_type": "code",
   "execution_count": 19,
   "id": "cdbf1ffc-5248-4264-997f-449c5430b997",
   "metadata": {},
   "outputs": [
    {
     "data": {
      "text/plain": [
       "[5, 6, 7, 1, 2, 3, 4]"
      ]
     },
     "execution_count": 19,
     "metadata": {},
     "output_type": "execute_result"
    }
   ],
   "source": [
    "arr = [1, 2, 3, 4, 5, 6, 7] \n",
    "k = 3\n",
    "n=len(arr)\n",
    "arr1=[]\n",
    "def rotote_right(arr,k):\n",
    "    for i in range(1,n+1):\n",
    "        if i+k >= n:\n",
    "            arr1.append(arr[i+k-n])\n",
    "        else:\n",
    "            arr1.append(arr[i+k])\n",
    "    return arr1\n",
    "\n",
    "rotote_right(arr,k)"
   ]
  },
  {
   "cell_type": "markdown",
   "id": "414afc0d-ad1b-46d9-ba1c-cd028f87cf38",
   "metadata": {},
   "source": [
    "3. Reverse the given array in-place, means without using any extra data structure.\n"
   ]
  },
  {
   "cell_type": "code",
   "execution_count": 20,
   "id": "2303a285-c62e-4bd5-9b27-b59515e012d8",
   "metadata": {},
   "outputs": [
    {
     "data": {
      "text/plain": [
       "[12, 9, 7, 5, 4, 2]"
      ]
     },
     "execution_count": 20,
     "metadata": {},
     "output_type": "execute_result"
    }
   ],
   "source": [
    "arr = [2, 4, 5, 7, 9, 12]\n",
    "arr[::-1]"
   ]
  },
  {
   "cell_type": "markdown",
   "id": "c43a142e-f3cf-48a3-ab70-8d7726fa88db",
   "metadata": {},
   "source": [
    "4. Given an array of integers, find the maximum element in an array\n"
   ]
  },
  {
   "cell_type": "code",
   "execution_count": 21,
   "id": "c63232c6-b506-416a-a423-d26db906bf10",
   "metadata": {},
   "outputs": [
    {
     "data": {
      "text/plain": [
       "20"
      ]
     },
     "execution_count": 21,
     "metadata": {},
     "output_type": "execute_result"
    }
   ],
   "source": [
    "arr = [10, 5, 20, 8, 15]\n",
    "max(arr)"
   ]
  },
  {
   "cell_type": "markdown",
   "id": "ce1e8f80-5813-4cae-8f2d-6c9a43537a17",
   "metadata": {},
   "source": [
    "5. Given a sorted array, remove the duplicate element without using any extra data structure."
   ]
  },
  {
   "cell_type": "code",
   "execution_count": 6,
   "id": "1df4cb76-62ab-4a8d-8eb7-acff4e16c7a2",
   "metadata": {},
   "outputs": [
    {
     "data": {
      "text/plain": [
       "[1, 2, 3, 4, 5]"
      ]
     },
     "execution_count": 6,
     "metadata": {},
     "output_type": "execute_result"
    }
   ],
   "source": [
    "def remove_duplicates(arr):\n",
    "    return list(set(arr))\n",
    "\n",
    "arr = [1, 2, 2, 3, 4, 4, 4, 5, 5]\n",
    "remove_duplicates(arr)\n",
    " "
   ]
  },
  {
   "cell_type": "code",
   "execution_count": null,
   "id": "2f25d342-4208-423c-9338-aa6e4e7bbe62",
   "metadata": {},
   "outputs": [],
   "source": []
  }
 ],
 "metadata": {
  "kernelspec": {
   "display_name": "Python 3 (ipykernel)",
   "language": "python",
   "name": "python3"
  },
  "language_info": {
   "codemirror_mode": {
    "name": "ipython",
    "version": 3
   },
   "file_extension": ".py",
   "mimetype": "text/x-python",
   "name": "python",
   "nbconvert_exporter": "python",
   "pygments_lexer": "ipython3",
   "version": "3.10.8"
  }
 },
 "nbformat": 4,
 "nbformat_minor": 5
}
