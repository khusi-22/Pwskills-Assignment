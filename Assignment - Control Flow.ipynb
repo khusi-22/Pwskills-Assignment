{
 "cells": [
  {
   "cell_type": "markdown",
   "id": "811990d0-c5be-4183-825f-4e2125377ad2",
   "metadata": {},
   "source": [
    "### Basic If-Else statements:"
   ]
  },
  {
   "cell_type": "markdown",
   "id": "1f66d89e-6195-4086-8889-7ec03d50c48d",
   "metadata": {},
   "source": [
    "1. Write a Python program to check if a given number is positive or negative"
   ]
  },
  {
   "cell_type": "code",
   "execution_count": 2,
   "id": "bc43705c-3bdf-477d-88f4-fb21568ff5f7",
   "metadata": {},
   "outputs": [
    {
     "name": "stdin",
     "output_type": "stream",
     "text": [
      "Enter the number: -4\n"
     ]
    },
    {
     "name": "stdout",
     "output_type": "stream",
     "text": [
      "The number -4 is negative. \n"
     ]
    }
   ],
   "source": [
    "n=int(input(\"Enter the number:\"))\n",
    "if n>0:\n",
    "    print(f\"The number {n} is positive.\")\n",
    "elif n==0:\n",
    "    print(f\"The number {n} is neither positive nor negative.\")\n",
    "else:\n",
    "    print(f\"The number {n} is negative. \")"
   ]
  },
  {
   "cell_type": "markdown",
   "id": "a55006e9-0714-4bc7-8afb-489e701f88b6",
   "metadata": {},
   "source": [
    "2. Create a program that determines if a person is eligible to vote based on their age.\n"
   ]
  },
  {
   "cell_type": "code",
   "execution_count": 3,
   "id": "a5d42bd3-c142-47be-9e50-cc2c4ee2d19c",
   "metadata": {},
   "outputs": [
    {
     "name": "stdin",
     "output_type": "stream",
     "text": [
      "Enter the age: 45\n"
     ]
    },
    {
     "name": "stdout",
     "output_type": "stream",
     "text": [
      "The person is eligible to vote\n"
     ]
    }
   ],
   "source": [
    "n=int(input(\"Enter the age:\"))\n",
    "if n>=18:\n",
    "    print(\"The person is eligible to vote\")\n",
    "else:\n",
    "    print(\"The person isn't eligible to vote\")"
   ]
  },
  {
   "cell_type": "markdown",
   "id": "d14f8c49-ecb2-4c41-9110-d654039d0976",
   "metadata": {},
   "source": [
    "3. Develop a program to find the maximum of two numbers using if-else statements."
   ]
  },
  {
   "cell_type": "code",
   "execution_count": 5,
   "id": "df000782-f38b-45f1-8b39-e82efadc4f68",
   "metadata": {},
   "outputs": [
    {
     "name": "stdin",
     "output_type": "stream",
     "text": [
      "Enter the number1: 5\n",
      "Enter the number2: 15\n"
     ]
    },
    {
     "name": "stdout",
     "output_type": "stream",
     "text": [
      "The number 15 is greater than 5\n"
     ]
    }
   ],
   "source": [
    "m,n=int(input(\"Enter the number1:\")),int(input(\"Enter the number2:\"))\n",
    "if m>n:\n",
    "    print(f\"the number {m} is greater than {n}\")\n",
    "else:\n",
    "    print(f\"The number {n} is greater than {m}\")"
   ]
  },
  {
   "cell_type": "markdown",
   "id": "04d722bc-62da-4022-a1e1-f23bfe5d3bde",
   "metadata": {},
   "source": [
    "4. Write a Python script to classify a given year as a leap year or not.\n"
   ]
  },
  {
   "cell_type": "code",
   "execution_count": 6,
   "id": "20a947a4-1b50-4a87-8343-a24bd66937d8",
   "metadata": {},
   "outputs": [
    {
     "name": "stdin",
     "output_type": "stream",
     "text": [
      "Enter the year: 42\n"
     ]
    },
    {
     "name": "stdout",
     "output_type": "stream",
     "text": [
      "The given year 42 isn't a leap year\n"
     ]
    }
   ],
   "source": [
    "n=int(input(\"Enter the year:\"))\n",
    "if n%4==0:\n",
    "    print(f\"The given year {n} is a leap year\")\n",
    "else:\n",
    "    print(f\"The given year {n} isn't a leap year\")"
   ]
  },
  {
   "cell_type": "markdown",
   "id": "c22f554e-d93d-41ed-a334-427c960e7906",
   "metadata": {},
   "source": [
    "5. Create a program that checks whether a character is a vowel or a consonant"
   ]
  },
  {
   "cell_type": "code",
   "execution_count": 19,
   "id": "9f199653-6f3f-4ee0-a050-2d5eac48a493",
   "metadata": {},
   "outputs": [
    {
     "name": "stdin",
     "output_type": "stream",
     "text": [
      "Enter the character: A\n"
     ]
    },
    {
     "name": "stdout",
     "output_type": "stream",
     "text": [
      "The character is a vowel.\n"
     ]
    }
   ],
   "source": [
    "n=input(\"Enter the character:\")\n",
    "n=n.lower()\n",
    "if n=='a' or n=='e' or n =='i' or n=='o' or n=='u':\n",
    "    print(f'The character is a vowel.')\n",
    "else:\n",
    "    print(f'The character is a consonant.')"
   ]
  },
  {
   "cell_type": "markdown",
   "id": "5502b86f-5ccf-47ff-93af-6ab778cae660",
   "metadata": {},
   "source": [
    "6. Implement a program to determine whether a given number is even or odd.\n"
   ]
  },
  {
   "cell_type": "code",
   "execution_count": 20,
   "id": "5a7edd72-f901-49c6-88bd-62ab70e5dc67",
   "metadata": {},
   "outputs": [
    {
     "name": "stdin",
     "output_type": "stream",
     "text": [
      "Enter the number: 4\n"
     ]
    },
    {
     "name": "stdout",
     "output_type": "stream",
     "text": [
      "The given number 4 is even.\n"
     ]
    }
   ],
   "source": [
    "n=int(input(\"Enter the number:\"))\n",
    "if n%2==0:\n",
    "    print(f\"The given number {n} is even.\")\n",
    "else:\n",
    "    print(f\"The given number {n} is odd.\")"
   ]
  },
  {
   "cell_type": "markdown",
   "id": "2968069b-3051-467d-aa05-f958b8dc36bb",
   "metadata": {},
   "source": [
    "7. Write a Python function to calculate the absolute value of a number without using the `abs()` function.\n"
   ]
  },
  {
   "cell_type": "code",
   "execution_count": 8,
   "id": "770b6ab0-441d-4309-81f7-b1f7b6e97d23",
   "metadata": {},
   "outputs": [
    {
     "name": "stdin",
     "output_type": "stream",
     "text": [
      "Enter the number -5\n"
     ]
    },
    {
     "name": "stdout",
     "output_type": "stream",
     "text": [
      "The absolute value of a number -5 is 5\n"
     ]
    }
   ],
   "source": [
    "n=int(input(\"Enter the number\"))\n",
    "if n<0:\n",
    "    print(f\"The absolute value of a number {n} is {-n}\")\n",
    "else:\n",
    "    print(f\"The absolute value of a number {n} is {n}\")"
   ]
  },
  {
   "cell_type": "markdown",
   "id": "9b988552-5b2b-4271-bc6f-5a595df55b85",
   "metadata": {},
   "source": [
    "8. Develop a program that determines the largest of three given numbers using if-else statements"
   ]
  },
  {
   "cell_type": "code",
   "execution_count": 14,
   "id": "9a3d7133-ef60-4c55-b1a8-61931bb4163f",
   "metadata": {},
   "outputs": [
    {
     "name": "stdin",
     "output_type": "stream",
     "text": [
      "Enter number-1: 6\n",
      "Enter number-2: 5\n",
      "Enter number-3: 2\n"
     ]
    },
    {
     "name": "stdout",
     "output_type": "stream",
     "text": [
      "The largest number is - 6\n"
     ]
    }
   ],
   "source": [
    "m,n,o=int(input(\"Enter number-1:\")),int(input(\"Enter number-2:\")),int(input(\"Enter number-3:\"))\n",
    "if m>n and m>o:\n",
    "    print(f\"The largest number is - {m}\")\n",
    "elif n>m and n>o:\n",
    "    print(f\"The largest number is - {n}\")\n",
    "else:\n",
    "    print(f\"The largest number is - {o}\")"
   ]
  },
  {
   "cell_type": "markdown",
   "id": "63b556ec-cb31-4bd6-b175-09031279a8ff",
   "metadata": {},
   "source": [
    "9. Create a program that checks if a given string is a palindrome.\n"
   ]
  },
  {
   "cell_type": "code",
   "execution_count": 10,
   "id": "ea95515e-1db0-4a36-9472-4e6b2b3a1b69",
   "metadata": {},
   "outputs": [
    {
     "name": "stdin",
     "output_type": "stream",
     "text": [
      "Enter the string: hey\n"
     ]
    },
    {
     "name": "stdout",
     "output_type": "stream",
     "text": [
      "The string isn't palindrome\n"
     ]
    }
   ],
   "source": [
    "str1=input(\"Enter the string:\")\n",
    "if str1==str1[::-1]:\n",
    "    print(\"The string is palindrome\")\n",
    "else:\n",
    "    print(\"The string isn't palindrome\")"
   ]
  },
  {
   "cell_type": "markdown",
   "id": "40627955-e686-46c1-96ae-ab5c1837eb5a",
   "metadata": {},
   "source": [
    "10. Write a Python program to calculate the grade based on a student's score.\n"
   ]
  },
  {
   "cell_type": "code",
   "execution_count": 12,
   "id": "ab7e3ce3-8a8c-4a75-9b66-b2dd7f17752b",
   "metadata": {},
   "outputs": [
    {
     "name": "stdin",
     "output_type": "stream",
     "text": [
      "Enter the score: 59\n"
     ]
    },
    {
     "name": "stdout",
     "output_type": "stream",
     "text": [
      "The student has 'D' grade. \n"
     ]
    }
   ],
   "source": [
    "n=int(input(\"Enter the score:\"))\n",
    "if n>=90:\n",
    "    print(f\"The student has 'A' grade. \")\n",
    "elif n>=80:\n",
    "    print(f\"The student has 'B' grade. \")\n",
    "elif n>=70:\n",
    "    print(f\"The student has 'C' grade. \")\n",
    "elif n>=50:\n",
    "    print(f\"The student has 'D' grade. \")\n",
    "elif n>=30:\n",
    "    print(f\"The student has 'E' grade. \")\n",
    "else:\n",
    "    print(f\"The student failed\")"
   ]
  },
  {
   "cell_type": "markdown",
   "id": "823d1ef5-7fbc-4b4a-b2ed-8046123c7137",
   "metadata": {},
   "source": [
    "### Nested If-Else Statements:\n"
   ]
  },
  {
   "cell_type": "markdown",
   "id": "4dcec94d-09ef-4b94-9903-fccdeeab3ec6",
   "metadata": {},
   "source": [
    "11. Write a program to find the largest among three numbers using nested if-else statements"
   ]
  },
  {
   "cell_type": "code",
   "execution_count": 17,
   "id": "f09c88b5-3900-431b-aec9-631eff5ee898",
   "metadata": {},
   "outputs": [
    {
     "name": "stdin",
     "output_type": "stream",
     "text": [
      "Enter number-1: 15\n",
      "Enter number-2: 2\n",
      "Enter number-3: 4\n"
     ]
    },
    {
     "name": "stdout",
     "output_type": "stream",
     "text": [
      "The largest number is - 15\n"
     ]
    }
   ],
   "source": [
    "m,n,o=int(input(\"Enter number-1:\")),int(input(\"Enter number-2:\")),int(input(\"Enter number-3:\"))\n",
    "if m>n:\n",
    "    if m>o:\n",
    "        print(f\"The largest number is - {m}\")\n",
    "    else:\n",
    "        print(f\"The largest number is - {n}\")\n",
    "else:\n",
    "    if n>o:\n",
    "        print(f\"The largest number is - {n}\")\n",
    "    else:\n",
    "        print(f\"The largest number is - {o}\")"
   ]
  },
  {
   "cell_type": "markdown",
   "id": "3f2a3d47-5921-4d3c-9b9c-ebc7f7c586f6",
   "metadata": {},
   "source": [
    "12. Implement a program to determine if a triangle is equilateral, isosceles, or scalene.\n"
   ]
  },
  {
   "cell_type": "code",
   "execution_count": 21,
   "id": "bedf5627-83b2-4b6f-b081-85cf84e652bb",
   "metadata": {},
   "outputs": [
    {
     "name": "stdin",
     "output_type": "stream",
     "text": [
      "Enter the length of side1: 5\n",
      "Enter the length of side2: 5\n",
      "Enter the length of side3: 5\n"
     ]
    },
    {
     "name": "stdout",
     "output_type": "stream",
     "text": [
      "The triangle is equilateral.\n"
     ]
    }
   ],
   "source": [
    "s1,s2,s3=int(input(\"Enter the length of side1:\")),int(input(\"Enter the length of side2:\")),int(input(\"Enter the length of side3:\"))\n",
    "if s1==s2:\n",
    "    if s2==s3:\n",
    "        print(\"The triangle is equilateral.\")\n",
    "    else:\n",
    "        print(\"The triangle is isosceles.\")\n",
    "else:\n",
    "    print(\"The triangle is scalene\")"
   ]
  },
  {
   "cell_type": "markdown",
   "id": "f7d94fb3-335a-4cfe-baaf-c69e813a0284",
   "metadata": {},
   "source": [
    "13. Develop a program that checks if a year is a leap year and also if it is a century year"
   ]
  },
  {
   "cell_type": "code",
   "execution_count": 23,
   "id": "72e33faf-0723-4f07-9502-0a851872b8a3",
   "metadata": {},
   "outputs": [
    {
     "name": "stdin",
     "output_type": "stream",
     "text": [
      "Enter the year: 80\n"
     ]
    },
    {
     "name": "stdout",
     "output_type": "stream",
     "text": [
      "The year is a leap year\n",
      "The year isn't a century year\n"
     ]
    }
   ],
   "source": [
    "y=int(input(\"Enter the year:\"))\n",
    "if y%4==0:\n",
    "    print(\"The year is a leap year\")\n",
    "    if y%100==0:\n",
    "        print(\"The year is also a century year\")\n",
    "    else:\n",
    "        print(\"The year isn't a century year\")\n",
    "else:\n",
    "    print(\"The year is neither a leap year nor a century year\")"
   ]
  },
  {
   "cell_type": "markdown",
   "id": "032d8351-9f12-4831-a170-834a63497f01",
   "metadata": {},
   "source": [
    "14. Write a Python script to determine if a number is positive, negative, or zero.\n"
   ]
  },
  {
   "cell_type": "code",
   "execution_count": 11,
   "id": "4f248453-74ee-4ec0-8c51-d3021d1ee01b",
   "metadata": {},
   "outputs": [
    {
     "name": "stdin",
     "output_type": "stream",
     "text": [
      "Enter the number : 5\n"
     ]
    },
    {
     "name": "stdout",
     "output_type": "stream",
     "text": [
      "The number is positive\n"
     ]
    }
   ],
   "source": [
    "n=int(input(\"Enter the number :\"))\n",
    "if n>=0:\n",
    "    if n==0:\n",
    "        print(\"The number is 0\")\n",
    "    else:\n",
    "        print(\"The number is positive\")\n",
    "else:\n",
    "    print(\"The number is negative\")    "
   ]
  },
  {
   "cell_type": "markdown",
   "id": "62c47d3e-b1ab-4ce5-a71f-1a61ddab478f",
   "metadata": {},
   "source": [
    "15. Create a program to check if a person is a teenager (between 13 and 19 years old).\n"
   ]
  },
  {
   "cell_type": "code",
   "execution_count": 5,
   "id": "e2a428cd-0fa4-4517-8779-ab085e6a53c7",
   "metadata": {},
   "outputs": [
    {
     "name": "stdin",
     "output_type": "stream",
     "text": [
      "Enter the age : 65\n"
     ]
    },
    {
     "name": "stdout",
     "output_type": "stream",
     "text": [
      "The person is a major\n"
     ]
    }
   ],
   "source": [
    "n=int(input(\"Enter the age :\"))\n",
    "if n>13:\n",
    "    if n<19:\n",
    "        print(\"The person is a teenager\")\n",
    "    else:\n",
    "        print(\"The person is a major\")\n",
    "else:\n",
    "    print(\"The person isn't a teenager\")"
   ]
  },
  {
   "cell_type": "markdown",
   "id": "e3d3ec17-64a3-4f99-9036-29e300c032dd",
   "metadata": {},
   "source": [
    "16. Develop a program that determines the type of angle based on its measure (acute, obtuse, or right).\n"
   ]
  },
  {
   "cell_type": "code",
   "execution_count": 13,
   "id": "0fe0d782-775f-43b3-903f-43009104a1ad",
   "metadata": {},
   "outputs": [
    {
     "name": "stdin",
     "output_type": "stream",
     "text": [
      "Enter the angle: 52\n"
     ]
    },
    {
     "name": "stdout",
     "output_type": "stream",
     "text": [
      "The angle is acute angle.\n"
     ]
    }
   ],
   "source": [
    "a=int(input(\"Enter the angle:\"))\n",
    "if a<=90:\n",
    "    if a==90:\n",
    "        print(\"The angle is a right angle.\")\n",
    "    else:\n",
    "        print(\"The angle is acute angle.\")\n",
    "else:\n",
    "    print(\"The angle is obtuse.\")"
   ]
  },
  {
   "cell_type": "markdown",
   "id": "8b6dd16f-2338-4d62-af5e-b7db24bab9ed",
   "metadata": {},
   "source": [
    "17. Write a Python program to calculate the roots of a quadratic equation.\n"
   ]
  },
  {
   "cell_type": "code",
   "execution_count": 11,
   "id": "ede428d0-659d-48d3-bc2c-15c4100a751e",
   "metadata": {},
   "outputs": [
    {
     "name": "stdin",
     "output_type": "stream",
     "text": [
      "Enter the 1st coefficient:  1\n",
      "Enter the 2nd coefficient:  3\n",
      "Enter the 3rd coefficient:  2\n"
     ]
    },
    {
     "name": "stdout",
     "output_type": "stream",
     "text": [
      "The roots are real and different\n",
      "The roots are : -1.0 and  -2.0  \n"
     ]
    }
   ],
   "source": [
    "import math\n",
    "a,b,c=int(input(\"Enter the 1st coefficient: \")),int(input(\"Enter the 2nd coefficient: \")),int(input(\"Enter the 3rd coefficient: \"))\n",
    "D=b**2-4*a*c\n",
    "d=math.sqrt(abs(D))\n",
    "if D>0:\n",
    "    print(\"The roots are real and different\")\n",
    "    print(f\"The roots are : {(-b+d)/2*a} and  {(-b-d)/2*a}  \")\n",
    "elif D==0:\n",
    "    print(\"Roots are real and same\")\n",
    "    print(f\"The roots are : {-b/2*a} \")\n",
    "else:\n",
    "    print(\"Roots are complex\")\n",
    "    #print(f\"The roots are : {-b/2a}{+d}i and {-b/2a}{+d}i\")"
   ]
  },
  {
   "cell_type": "markdown",
   "id": "9ac0e98b-ae22-41f3-92f1-f943df8dbf54",
   "metadata": {},
   "source": [
    "18. Implement a program to determine the day of the week based on a user-provided number (1 for Monday, 2\n",
    "for Tuesday, etc.).\n"
   ]
  },
  {
   "cell_type": "code",
   "execution_count": 3,
   "id": "9c88c1dd-b628-4da5-bae2-d24831b7393d",
   "metadata": {},
   "outputs": [
    {
     "name": "stdin",
     "output_type": "stream",
     "text": [
      "Enter the number : 1\n"
     ]
    },
    {
     "name": "stdout",
     "output_type": "stream",
     "text": [
      "1 - Monday\n"
     ]
    }
   ],
   "source": [
    "n=int(input(\"Enter the number :\"))\n",
    "if n==1:\n",
    "    print(f\"{n} - Monday\")\n",
    "elif n==2:\n",
    "    print(f\"{n} - Tuesday\")\n",
    "elif n==3:\n",
    "    print(f\"{n} - Wednesday\")\n",
    "elif n==4:\n",
    "    print(f\"{n} - Thursday\")\n",
    "elif n==5:\n",
    "    print(f\"{n} - Friday\")\n",
    "elif n==6:\n",
    "    print(f\"{n} - Saturday\")\n",
    "elif n==7:\n",
    "    print(f\"{n} - Sunday\")\n",
    "else:\n",
    "    print(f\"{n} - 'Invalid'\")"
   ]
  },
  {
   "cell_type": "markdown",
   "id": "cbec000d-18ba-45e4-94cc-b51e73f37750",
   "metadata": {},
   "source": [
    "19. Create a program that determines if a year is a leap year and also if it is evenly divisible by 400.\n"
   ]
  },
  {
   "cell_type": "code",
   "execution_count": 1,
   "id": "cfed87dc-4d99-4eeb-ac65-cf03bc831924",
   "metadata": {},
   "outputs": [
    {
     "name": "stdin",
     "output_type": "stream",
     "text": [
      "Enter the year : 5\n"
     ]
    },
    {
     "name": "stdout",
     "output_type": "stream",
     "text": [
      "The year isn't even a leap year\n"
     ]
    }
   ],
   "source": [
    "yr=int(input(\"Enter the year :\"))\n",
    "if yr%4==0:\n",
    "    print(\"The year is a leap year.\")\n",
    "    if yr%400==0:\n",
    "        print(\"The year is divisible by 400\")\n",
    "    else:\n",
    "        print(\"The year isn't divisible by 400\")\n",
    "else:\n",
    "    print(\"The year isn't even a leap year\")"
   ]
  },
  {
   "cell_type": "markdown",
   "id": "07c0e1aa-9e85-447e-9943-d46f0b31f16f",
   "metadata": {},
   "source": [
    "20. Develop a program that checks if a given number is prime or not using nested if-else statements."
   ]
  },
  {
   "cell_type": "code",
   "execution_count": 10,
   "id": "1393005f-8f73-44d0-ba1e-590e797d6d49",
   "metadata": {},
   "outputs": [
    {
     "name": "stdin",
     "output_type": "stream",
     "text": [
      "Enter the given number : 10\n"
     ]
    },
    {
     "name": "stdout",
     "output_type": "stream",
     "text": [
      "10 is not a prime number\n"
     ]
    }
   ],
   "source": [
    "n=int(input(\"Enter the given number :\"))\n",
    "if n > 1 :\n",
    "    for i in range(2,int(n/2)+1):\n",
    "        if n%i==0:\n",
    "            print(f\"{n} is not a prime number\")\n",
    "            break\n",
    "        else:\n",
    "            print(f\"{n} is a prime number\")\n",
    "else:\n",
    "    print(f\"{n} is a prime number\")"
   ]
  },
  {
   "cell_type": "markdown",
   "id": "f922c840-5b91-4ee1-ada2-9e276001e21d",
   "metadata": {},
   "source": [
    "### Elif Statements:"
   ]
  },
  {
   "cell_type": "markdown",
   "id": "cae63870-fb55-4f01-a993-97f5b09b74d2",
   "metadata": {},
   "source": [
    "21. Write a Python program to assign grades based on different ranges of scores using elif statements."
   ]
  },
  {
   "cell_type": "code",
   "execution_count": 7,
   "id": "de72db0c-5eae-4a1e-ad34-2efef22c7f9c",
   "metadata": {},
   "outputs": [
    {
     "name": "stdin",
     "output_type": "stream",
     "text": [
      "Enter the score: 65\n"
     ]
    },
    {
     "name": "stdout",
     "output_type": "stream",
     "text": [
      "The student has 'D' grade. \n"
     ]
    }
   ],
   "source": [
    "n=int(input(\"Enter the score:\"))\n",
    "if n>=90:\n",
    "    print(f\"The student has 'A' grade. \")\n",
    "elif n>=80:\n",
    "    print(f\"The student has 'B' grade. \")\n",
    "elif n>=70:\n",
    "    print(f\"The student has 'C' grade. \")\n",
    "elif n>=50:\n",
    "    print(f\"The student has 'D' grade. \")\n",
    "elif n>=30:\n",
    "    print(f\"The student has 'E' grade. \")\n",
    "else:\n",
    "    print(f\"The student failed\")"
   ]
  },
  {
   "cell_type": "markdown",
   "id": "58e2fbe8-35ab-4bf4-a4ad-9a5d0810882d",
   "metadata": {},
   "source": [
    "22. Implement a program to determine the type of a triangle based on its angles.\n"
   ]
  },
  {
   "cell_type": "code",
   "execution_count": 8,
   "id": "728cdfbb-f783-4d4e-af4f-0bf77aaa29dd",
   "metadata": {},
   "outputs": [
    {
     "name": "stdin",
     "output_type": "stream",
     "text": [
      "Enter the angle: 65\n"
     ]
    },
    {
     "name": "stdout",
     "output_type": "stream",
     "text": [
      "The angle is acute angle.\n"
     ]
    }
   ],
   "source": [
    "a=int(input(\"Enter the angle:\"))\n",
    "if a<=90:\n",
    "    if a==90:\n",
    "        print(\"The angle is a right angle.\")\n",
    "    else:\n",
    "        print(\"The angle is acute angle.\")\n",
    "else:\n",
    "    print(\"The angle is obtuse.\")"
   ]
  },
  {
   "cell_type": "markdown",
   "id": "bdfd2645-b309-4ff9-af93-416b652d2bb3",
   "metadata": {},
   "source": [
    "23. Develop a program to categorize a given person's BMI into underweight, normal, overweight, or obese using elif statements.\n"
   ]
  },
  {
   "cell_type": "code",
   "execution_count": 6,
   "id": "ae5e898b-46d4-43f7-8d5e-c352fad2f899",
   "metadata": {},
   "outputs": [
    {
     "name": "stdin",
     "output_type": "stream",
     "text": [
      "Enter the weight in kg : 64\n",
      "Enter the height in m: 1.7\n"
     ]
    },
    {
     "name": "stdout",
     "output_type": "stream",
     "text": [
      "Your weight is normal.\n"
     ]
    }
   ],
   "source": [
    "w=float(input(\"Enter the weight in kg :\"))\n",
    "h=float(input(\"Enter the height in m:\"))\n",
    "bmi=w/h**2\n",
    "if bmi <= 18.5: \n",
    "    print(\"You are underweight.\") \n",
    "elif 18.5 < bmi <= 24.9: \n",
    "    print(\"Your weight is normal.\") \n",
    "elif 25 < bmi <= 29.29: \n",
    "    print(\"You are overweight.\") \n",
    "else: \n",
    "    print(\"You are obese.\")"
   ]
  },
  {
   "cell_type": "markdown",
   "id": "d7c9ca63-3826-4528-9012-4100b23ed542",
   "metadata": {},
   "source": [
    "24. Create a program that determines whether a given number is positive, negative, or zero using elif statements.\n"
   ]
  },
  {
   "cell_type": "code",
   "execution_count": 7,
   "id": "08625e4a-a0dd-4a41-9934-f5c414d9595c",
   "metadata": {},
   "outputs": [
    {
     "name": "stdin",
     "output_type": "stream",
     "text": [
      "Enter the number:  45\n"
     ]
    },
    {
     "name": "stdout",
     "output_type": "stream",
     "text": [
      "The number is positive.\n"
     ]
    }
   ],
   "source": [
    "n=int(input(\"Enter the number: \"))\n",
    "if n>0:\n",
    "    print(\"The number is positive.\")\n",
    "elif n<0:\n",
    "    print(\"The number is negative.\")\n",
    "else:\n",
    "    print(\"The number is zero.\")"
   ]
  },
  {
   "cell_type": "markdown",
   "id": "dad68a4e-8725-4672-acf7-73ab8ee34a90",
   "metadata": {},
   "source": [
    "25. Write a Python script to determine the type of a character (uppercase, lowercase, or special) using elif statements.\n"
   ]
  },
  {
   "cell_type": "code",
   "execution_count": 1,
   "id": "7fafb29a-345a-47c6-be43-cd4e2a9eb507",
   "metadata": {},
   "outputs": [
    {
     "name": "stdin",
     "output_type": "stream",
     "text": [
      "Enter a character : 45\n"
     ]
    },
    {
     "name": "stdout",
     "output_type": "stream",
     "text": [
      "The character is neither alphabet nor special character.\n"
     ]
    }
   ],
   "source": [
    "char=input(\"Enter a character :\")\n",
    "if char.islower()==True:\n",
    "    print(\"The character is lower.\")\n",
    "elif char.isupper()==True:\n",
    "    print(\"The character is upper.\")\n",
    "elif char.isalpha()==False and char.isdigit()==False and char==\" \":\n",
    "    print(\"The character is special.\")\n",
    "else:\n",
    "    print(\"The character is neither alphabet nor special character.\")"
   ]
  },
  {
   "cell_type": "markdown",
   "id": "b7110607-eb1c-4de9-8cd1-519c74c34cd1",
   "metadata": {},
   "source": [
    "26. Implement a program to calculate the discounted price based on different purchase amounts using elif statements.\n"
   ]
  },
  {
   "cell_type": "code",
   "execution_count": 4,
   "id": "3e9b1f7f-6c2e-43ca-810d-0052211145e0",
   "metadata": {},
   "outputs": [
    {
     "name": "stdin",
     "output_type": "stream",
     "text": [
      "Enter the purchase amounts : 25643\n"
     ]
    },
    {
     "name": "stdout",
     "output_type": "stream",
     "text": [
      "The discount amount is 7692.9 and discounted price is 17950.1\n"
     ]
    }
   ],
   "source": [
    "price=int(input(\"Enter the purchase amounts :\"))\n",
    "if price<0:\n",
    "    print(\"Invalid Purchase amount.\")\n",
    "elif price<5000:\n",
    "    dis=0\n",
    "    print(\"There is no discount\")\n",
    "elif 5000<=price<10000:\n",
    "    dis=price*(10/100)\n",
    "elif 10000<=price<20000:\n",
    "    dis=price*(20/100)\n",
    "elif 20000<=price<35000:\n",
    "    dis=price*(30/100)\n",
    "else:\n",
    "    dis=price*(40/100)\n",
    "print(f\"The discount amount is {dis} and discounted price is {price-dis}\")"
   ]
  },
  {
   "cell_type": "markdown",
   "id": "6d11f59e-f193-4081-91f7-38d1c52e6bc9",
   "metadata": {},
   "source": [
    "27. Develop a program to calculate the electricity bill based on different consumption slabs using elif statements.\n"
   ]
  },
  {
   "cell_type": "code",
   "execution_count": 6,
   "id": "b2a057b0-a904-4752-a694-83ff5abb1ea9",
   "metadata": {},
   "outputs": [
    {
     "name": "stdin",
     "output_type": "stream",
     "text": [
      "Enter the units : 150\n"
     ]
    },
    {
     "name": "stdout",
     "output_type": "stream",
     "text": [
      "The electic bill of 150 units is : 1750\n"
     ]
    }
   ],
   "source": [
    "u=int(input(\"Enter the units :\"))\n",
    "if u<0:\n",
    "    print(\"Invalid units.\")\n",
    "elif u<=100 :\n",
    "    elec_bill=u*10\n",
    "elif u<=200:\n",
    "    elec_bill=(100*10)+(u-100)*15\n",
    "elif u<=300:\n",
    "    elec_bill=(100*10)+(100*15)+(u-200)*20\n",
    "else:\n",
    "    elec_bill=(100*10)+(100*15)+(100*20)+(u-300)*25\n",
    "print(f\"The electic bill of {u} units is : {elec_bill}\")"
   ]
  },
  {
   "cell_type": "markdown",
   "id": "1a9f5b25-195f-4299-97b0-36794672fed6",
   "metadata": {},
   "source": [
    "28. Create a program to determine the type of quadrilateral based on its angles and sides using elif statements.\n"
   ]
  },
  {
   "cell_type": "code",
   "execution_count": 1,
   "id": "37bd5cba-fbf9-4a69-a969-eda98d67b447",
   "metadata": {},
   "outputs": [
    {
     "name": "stdin",
     "output_type": "stream",
     "text": [
      "Enter the side-1: 5\n",
      "Enter the side-2: 5\n",
      "Enter the side-3: 5\n",
      "Enter the side-4: 5\n",
      "Enter the angle-1: 90\n",
      "Enter the angle-2: 90\n",
      "Enter the angle-3: 90\n",
      "Enter the angle-4: 90\n"
     ]
    },
    {
     "name": "stdout",
     "output_type": "stream",
     "text": [
      "The quadrilateral is Square.\n"
     ]
    }
   ],
   "source": [
    "a,b,c,d=float(input(\"Enter the side-1:\")),float(input(\"Enter the side-2:\")),float(input(\"Enter the side-3:\")),float(input(\"Enter the side-4:\"))\n",
    "ang1,ang2,ang3,ang4=int(input(\"Enter the angle-1:\")),int(input(\"Enter the angle-2:\")),int(input(\"Enter the angle-3:\")),int(input(\"Enter the angle-4:\"))\n",
    "if a==b and b==c and c==d :\n",
    "    if ang1==ang2 & ang2==ang3 & ang3==ang4 & ang4==90:\n",
    "        print(\"The quadrilateral is Square.\")\n",
    "    elif ang1==ang3 & ang2==ang4 :\n",
    "        print(\"The quadrilateral is Rhombus.\")\n",
    "elif a==c and b==d:\n",
    "    if ang1==ang2 & ang2==ang3 & ang3==ang4 & ang4==90:\n",
    "        print(\"The quadrilateral is rectangle.\")\n",
    "    elif ang1==ang3 and ang2==ang4:\n",
    "        print(\"The quadrilateral is parallelogram.\")\n",
    "    else:\n",
    "        print(\"The quadrilateral is trapezium.\")\n",
    "else:\n",
    "    print(\"The quadrilateral is Kite.\")"
   ]
  },
  {
   "cell_type": "markdown",
   "id": "6656ffcf-d0da-42ea-9a30-a3d63c4699d8",
   "metadata": {},
   "source": [
    "29. Write a Python script to determine the season based on a user-provided month using elif statements.\n"
   ]
  },
  {
   "cell_type": "code",
   "execution_count": 4,
   "id": "9a078428-ef59-49b0-88e4-f1a705a9e43b",
   "metadata": {},
   "outputs": [
    {
     "name": "stdin",
     "output_type": "stream",
     "text": [
      "Enter the month: january\n"
     ]
    },
    {
     "name": "stdout",
     "output_type": "stream",
     "text": [
      "The season is Winter.\n"
     ]
    }
   ],
   "source": [
    "months=[['december','january','february'],['march','april','may'],['june','july','august'],['september','october','november']]\n",
    "month=input(\"Enter the month:\")\n",
    "month.lower()\n",
    "if month in months[0]:\n",
    "    print(\"The season is Winter.\")\n",
    "elif month in months[1]:\n",
    "    print(\"The season is Summer.\")\n",
    "elif month in months[2]:\n",
    "    print(\"The season is Monsoon.\")\n",
    "elif month in months[3]:\n",
    "    print(\"The season is Autumn.\")\n",
    "else:\n",
    "    print(\"Invalid season.\")"
   ]
  },
  {
   "cell_type": "markdown",
   "id": "46abe140-8ba7-4280-acca-e2d058faa78b",
   "metadata": {},
   "source": [
    "30. Implement a program to determine the type of a year (leap or common) and month (30 or 31 days) using elif statements.\n"
   ]
  },
  {
   "cell_type": "code",
   "execution_count": 9,
   "id": "bee1b00b-9421-485f-b489-8be00a3a3d34",
   "metadata": {},
   "outputs": [
    {
     "name": "stdin",
     "output_type": "stream",
     "text": [
      "Enter the year:  1945\n",
      "Enter the month: 2\n"
     ]
    },
    {
     "name": "stdout",
     "output_type": "stream",
     "text": [
      "The year isn't a leap year.\n",
      "the month has 28 days.\n"
     ]
    }
   ],
   "source": [
    "yr=int(input(\"Enter the year: \"))\n",
    "month=int(input(\"Enter the month:\"))\n",
    "\n",
    "if yr%4==0:\n",
    "    print(f\"The year is a leap year.\")\n",
    "    if month==2:\n",
    "        print(f\"The month has 29 days.\")\n",
    "else:\n",
    "    print(f\"The year isn't a leap year.\")\n",
    "\n",
    "if month%2==0:\n",
    "    if month==2:\n",
    "        print(f\"the month has 28 days.\")\n",
    "    else:\n",
    "        print(f\"The month has 30 days.\")\n",
    "else:\n",
    "    print(f\"The month has 31 days.\")"
   ]
  },
  {
   "cell_type": "markdown",
   "id": "26019b3b-135c-4144-9afe-6e378e253124",
   "metadata": {},
   "source": [
    "### Basic Level : "
   ]
  },
  {
   "cell_type": "markdown",
   "id": "63fe9482-7415-4ce1-9aeb-0b6c931d3d4f",
   "metadata": {},
   "source": [
    "1. Write a Python program that checks if a given number is positive, negative, or zero."
   ]
  },
  {
   "cell_type": "code",
   "execution_count": 4,
   "id": "4e82848d-3b23-480d-961e-068d023704c0",
   "metadata": {},
   "outputs": [
    {
     "name": "stdin",
     "output_type": "stream",
     "text": [
      "Enter the number : -8\n"
     ]
    },
    {
     "name": "stdout",
     "output_type": "stream",
     "text": [
      "The number -8 is negative\n"
     ]
    }
   ],
   "source": [
    "n=int(input(\"Enter the number :\"))\n",
    "if n > 0:\n",
    "    print(f\"The number {n} is positive.\")\n",
    "elif n==0:\n",
    "    print(f\"The number {n} is zero\")\n",
    "else:\n",
    "    print(f\"The number {n} is negative\")"
   ]
  },
  {
   "cell_type": "markdown",
   "id": "312e287c-753d-429a-b215-31b796be251a",
   "metadata": {},
   "source": [
    "2. Create a program to determine if a person is eligible to vote based on their age."
   ]
  },
  {
   "cell_type": "code",
   "execution_count": 5,
   "id": "b59a18b8-bdff-4289-b038-38b4dd022acd",
   "metadata": {},
   "outputs": [
    {
     "name": "stdin",
     "output_type": "stream",
     "text": [
      "Enter the number : 45\n"
     ]
    },
    {
     "name": "stdout",
     "output_type": "stream",
     "text": [
      "The person is eligible to vote based on their age.\n"
     ]
    }
   ],
   "source": [
    "age=int(input(\"Enter the number :\"))\n",
    "if age >= 18 :\n",
    "    print(\"The person is eligible to vote based on their age.\")\n",
    "else:\n",
    "    print(\"The person isn't eligible to vote based on their age.\")"
   ]
  },
  {
   "cell_type": "markdown",
   "id": "ac50e097-4314-4463-a169-5c9075ed553d",
   "metadata": {},
   "source": [
    "3. Write a program to find the maximum of two given numbers using conditional statements."
   ]
  },
  {
   "cell_type": "code",
   "execution_count": 1,
   "id": "6dbdc104-11e9-4325-b3ad-4b19e4b8f2f4",
   "metadata": {},
   "outputs": [
    {
     "name": "stdin",
     "output_type": "stream",
     "text": [
      "Enter the number 1: 12\n",
      "Enter the number 2: 6\n"
     ]
    },
    {
     "name": "stdout",
     "output_type": "stream",
     "text": [
      "Maximum of number is :12\n"
     ]
    }
   ],
   "source": [
    "m,n=int(input(\"Enter the number 1:\")),int(input(\"Enter the number 2:\"))\n",
    "if m>n:\n",
    "    print(f\"Maximum of number is :{m}\")\n",
    "else:\n",
    "    print(f\"Maximum of number is :{n}\")"
   ]
  },
  {
   "cell_type": "markdown",
   "id": "41cd9bbd-d7da-42df-80b6-089bb071e27c",
   "metadata": {},
   "source": [
    "4. Develop a program that calculates the grade of a student based on their exam score.\n"
   ]
  },
  {
   "cell_type": "code",
   "execution_count": 5,
   "id": "feafcb4e-4678-4de5-8e62-13b9da59f1ab",
   "metadata": {},
   "outputs": [
    {
     "name": "stdin",
     "output_type": "stream",
     "text": [
      "Enter the score: 65\n"
     ]
    },
    {
     "name": "stdout",
     "output_type": "stream",
     "text": [
      "The student has 'D' grade. \n"
     ]
    }
   ],
   "source": [
    "n=int(input(\"Enter the score:\"))\n",
    "if n>=90:\n",
    "    print(f\"The student has 'A' grade. \")\n",
    "elif n>=80:\n",
    "    print(f\"The student has 'B' grade. \")\n",
    "elif n>=70:\n",
    "    print(f\"The student has 'C' grade. \")\n",
    "elif n>=50:\n",
    "    print(f\"The student has 'D' grade. \")\n",
    "elif n>=30:\n",
    "    print(f\"The student has 'E' grade. \")\n",
    "else:\n",
    "    print(f\"The student has failed\")"
   ]
  },
  {
   "cell_type": "markdown",
   "id": "437af19d-9cad-4e71-85ef-9c2f03241336",
   "metadata": {},
   "source": [
    "5. Create a program that checks if a year is a leap year or not."
   ]
  },
  {
   "cell_type": "code",
   "execution_count": 6,
   "id": "22c0c8f9-29de-4db3-a454-f46303a448c0",
   "metadata": {},
   "outputs": [
    {
     "name": "stdin",
     "output_type": "stream",
     "text": [
      "Enter the year :  5\n"
     ]
    },
    {
     "name": "stdout",
     "output_type": "stream",
     "text": [
      "The year isn't leap year\n"
     ]
    }
   ],
   "source": [
    "yr=int(input(\"Enter the year : \"))\n",
    "if yr%4==0:\n",
    "    print(\"The year is leap year\")\n",
    "else:\n",
    "    print(\"The year isn't leap year\")"
   ]
  },
  {
   "cell_type": "markdown",
   "id": "1f9ad07d-a8be-4c3c-8d14-94feb921455b",
   "metadata": {},
   "source": [
    "6. Write a program to classify a triangle based on its sides' lengths."
   ]
  },
  {
   "cell_type": "code",
   "execution_count": 8,
   "id": "0eb124d5-634b-467c-a0fa-0660ea844596",
   "metadata": {},
   "outputs": [
    {
     "name": "stdin",
     "output_type": "stream",
     "text": [
      "Enter the side1 : 25\n",
      "Enter the side2 : 25\n",
      "Enter the side3 : 4\n"
     ]
    },
    {
     "name": "stdout",
     "output_type": "stream",
     "text": [
      "The triangle is isoscales.\n"
     ]
    }
   ],
   "source": [
    "l,m,n=int(input(\"Enter the side1 :\")),int(input(\"Enter the side2 :\")),int(input(\"Enter the side3 :\"))\n",
    "if l==m:\n",
    "    if l==n:\n",
    "        print(\"The triangle is equilateral.\")\n",
    "    else:\n",
    "        print(\"The triangle is isoscales.\")\n",
    "else:\n",
    "    print(\"The triangle is scalene.\")"
   ]
  },
  {
   "cell_type": "markdown",
   "id": "b2bc164e-d644-4159-9444-9ef2e7e364a8",
   "metadata": {},
   "source": [
    "7. Build a program that determines the largest of three given numbers.\n"
   ]
  },
  {
   "cell_type": "code",
   "execution_count": 7,
   "id": "9752a77a-059d-46d9-b64b-5165beb130b6",
   "metadata": {},
   "outputs": [
    {
     "name": "stdin",
     "output_type": "stream",
     "text": [
      "Enter number-1: 5\n",
      "Enter number-2: 7\n",
      "Enter number-3: 9\n"
     ]
    },
    {
     "name": "stdout",
     "output_type": "stream",
     "text": [
      "The largest number is - 9\n"
     ]
    }
   ],
   "source": [
    "m,n,o=int(input(\"Enter number-1:\")),int(input(\"Enter number-2:\")),int(input(\"Enter number-3:\"))\n",
    "if m>n and m>o:\n",
    "    print(f\"The largest number is - {m}\")\n",
    "elif n>m and n>o:\n",
    "    print(f\"The largest number is - {n}\")\n",
    "else:\n",
    "    print(f\"The largest number is - {o}\")"
   ]
  },
  {
   "cell_type": "markdown",
   "id": "3c1a1f2c-ad5a-42a0-bbcf-c67d174c6a61",
   "metadata": {},
   "source": [
    "8. Develop a program that checks whether a character is a vowel or a consonant."
   ]
  },
  {
   "cell_type": "code",
   "execution_count": 24,
   "id": "b2687e87-a74f-44b6-87d9-0b617a1779b3",
   "metadata": {},
   "outputs": [
    {
     "name": "stdin",
     "output_type": "stream",
     "text": [
      "Enter a character h\n"
     ]
    },
    {
     "name": "stdout",
     "output_type": "stream",
     "text": [
      "The character 'h' is consonant\n"
     ]
    }
   ],
   "source": [
    "char=input(\"Enter a character\")\n",
    "char.lower()\n",
    "char_l=\"aeiou\"\n",
    "if char.isalpha()==True:\n",
    "    if char in char_l:\n",
    "        print(f\"The character '{char}' is vowel.\")\n",
    "    else:\n",
    "        print(f\"The character '{char}' is consonant\")\n",
    "else:\n",
    "    print(f\"the character '{char}' is not a alphabet\")"
   ]
  },
  {
   "cell_type": "markdown",
   "id": "40826d7f-6742-4c5f-84b6-055d374c6c6c",
   "metadata": {},
   "source": [
    "9. Create a program to calculate the total cost of a shopping cart based on discounts.\n"
   ]
  },
  {
   "cell_type": "code",
   "execution_count": 26,
   "id": "7c15379e-2e85-490d-8359-e6aaac44ab69",
   "metadata": {},
   "outputs": [
    {
     "name": "stdin",
     "output_type": "stream",
     "text": [
      "Enter the purchase amounts : 6203\n"
     ]
    },
    {
     "name": "stdout",
     "output_type": "stream",
     "text": [
      "Total cost of shopping cart is : 5582.7\n"
     ]
    }
   ],
   "source": [
    "price=int(input(\"Enter the purchase amounts :\"))\n",
    "if price<0:\n",
    "    print(\"Invalid Purchase amount.\")\n",
    "elif price<5000:\n",
    "    dis=0\n",
    "    print(\"There is no discount\")\n",
    "elif 5000<=price<10000:\n",
    "    dis=price*(10/100)\n",
    "elif 10000<=price<20000:\n",
    "    dis=price*(20/100)\n",
    "elif 20000<=price<35000:\n",
    "    dis=price*(30/100)\n",
    "else:\n",
    "    dis=price*(40/100)\n",
    "print(f\"Total cost of shopping cart is : {price-dis}\")"
   ]
  },
  {
   "cell_type": "markdown",
   "id": "06eb027b-ad2b-471c-adf9-dd12c2139edc",
   "metadata": {},
   "source": [
    "10. Write a program that checks if a given number is even or odd.\n"
   ]
  },
  {
   "cell_type": "code",
   "execution_count": 9,
   "id": "04e5d032-e187-4491-b10f-bbd6a7e04017",
   "metadata": {},
   "outputs": [
    {
     "name": "stdin",
     "output_type": "stream",
     "text": [
      "Enter the number :  5\n"
     ]
    },
    {
     "name": "stdout",
     "output_type": "stream",
     "text": [
      "The number is odd.\n"
     ]
    }
   ],
   "source": [
    "num=int(input(\"Enter the number : \"))\n",
    "if num%2==0:\n",
    "    print(\"The number is even.\")\n",
    "else:\n",
    "    print(\"The number is odd.\")"
   ]
  },
  {
   "cell_type": "markdown",
   "id": "44179384-df00-4795-9ffb-ca0a2da6d469",
   "metadata": {},
   "source": [
    "### Intermediate Level:\n"
   ]
  },
  {
   "cell_type": "markdown",
   "id": "49afe011-0a85-451b-968b-e598989425b7",
   "metadata": {},
   "source": [
    "11. Write a program that calculates the roots of a quadratic equation ."
   ]
  },
  {
   "cell_type": "code",
   "execution_count": 27,
   "id": "78f07159-a1d5-4214-a6fc-8a92cec855a0",
   "metadata": {},
   "outputs": [
    {
     "name": "stdin",
     "output_type": "stream",
     "text": [
      "Enter the 1st coefficient:  1\n",
      "Enter the 2nd coefficient:  9\n",
      "Enter the 3rd coefficient:  20\n"
     ]
    },
    {
     "name": "stdout",
     "output_type": "stream",
     "text": [
      "The roots are real and different\n",
      "The roots are : -4.0 and  -5.0  \n"
     ]
    }
   ],
   "source": [
    "import math\n",
    "a,b,c=int(input(\"Enter the 1st coefficient: \")),int(input(\"Enter the 2nd coefficient: \")),int(input(\"Enter the 3rd coefficient: \"))\n",
    "D=b**2-4*a*c\n",
    "d=math.sqrt(abs(D))\n",
    "if D>0:\n",
    "    print(\"The roots are real and different\")\n",
    "    print(f\"The roots are : {(-b+d)/2*a} and  {(-b-d)/2*a}  \")\n",
    "elif D==0:\n",
    "    print(\"Roots are real and same\")\n",
    "    print(f\"The roots are : {-b/2*a} \")\n",
    "else:\n",
    "    print(\"Roots are complex\")"
   ]
  },
  {
   "cell_type": "markdown",
   "id": "6f8d8747-c001-4e8a-b61e-052d210bd9a5",
   "metadata": {},
   "source": [
    "12. Create a program that determines the day of the week based on the day number (1-7)."
   ]
  },
  {
   "cell_type": "code",
   "execution_count": 5,
   "id": "2b957fc3-792a-4c06-be60-991682bee56f",
   "metadata": {},
   "outputs": [
    {
     "name": "stdin",
     "output_type": "stream",
     "text": [
      "Enter the number : 5\n"
     ]
    },
    {
     "name": "stdout",
     "output_type": "stream",
     "text": [
      "5 - Friday\n"
     ]
    }
   ],
   "source": [
    "n=int(input(\"Enter the number :\"))\n",
    "if n==1:\n",
    "    print(f\"{n} - Monday\")\n",
    "elif n==2:\n",
    "    print(f\"{n} - Tuesday\")\n",
    "elif n==3:\n",
    "    print(f\"{n} - Wednesday\")\n",
    "elif n==4:\n",
    "    print(f\"{n} - Thursday\")\n",
    "elif n==5:\n",
    "    print(f\"{n} - Friday\")\n",
    "elif n==6:\n",
    "    print(f\"{n} - Saturday\")\n",
    "elif n==7:\n",
    "    print(f\"{n} - Sunday\")\n",
    "else:\n",
    "    print(f\"{n} - 'Invalid'\")"
   ]
  },
  {
   "cell_type": "markdown",
   "id": "2e5e8c78-acc5-465f-b8d2-4cb2ddf4599d",
   "metadata": {},
   "source": [
    "13. Develop a program that calculates the factorial of a given number using recursion.\n"
   ]
  },
  {
   "cell_type": "code",
   "execution_count": 2,
   "id": "bd6ae0fb-a376-4ba7-a073-d68045051e49",
   "metadata": {},
   "outputs": [
    {
     "name": "stdin",
     "output_type": "stream",
     "text": [
      "Enter the number: 5\n"
     ]
    },
    {
     "name": "stdout",
     "output_type": "stream",
     "text": [
      "The factorial number is : 120\n"
     ]
    }
   ],
   "source": [
    "n=int(input(\"Enter the number:\"))\n",
    "def fact(n):\n",
    "    for i in range(n):\n",
    "        if n==0 or n==1:\n",
    "            return 1\n",
    "        else:\n",
    "            return n*fact(n-1)\n",
    "print(\"The factorial number is :\", fact(n))"
   ]
  },
  {
   "cell_type": "markdown",
   "id": "5da050db-06f0-41db-a210-dd1ee720e730",
   "metadata": {},
   "source": [
    "14. Write a program to find the largest among three numbers without using the `max()` function."
   ]
  },
  {
   "cell_type": "code",
   "execution_count": 1,
   "id": "6b73cdd8-333b-4e7b-9e2b-dd533dd60272",
   "metadata": {},
   "outputs": [
    {
     "name": "stdin",
     "output_type": "stream",
     "text": [
      "Enter the number 1 : 9\n",
      "Enter the number 2 : 15\n",
      "Enter the number 3 : 6\n"
     ]
    },
    {
     "name": "stdout",
     "output_type": "stream",
     "text": [
      "The maximum number is : 15\n"
     ]
    }
   ],
   "source": [
    "m,n,o=int(input(\"Enter the number 1 :\")),int(input(\"Enter the number 2 :\")),int(input(\"Enter the number 3 :\"))\n",
    "if m>n and m>o:\n",
    "    print(\"The maximum number is :\",m)\n",
    "elif n>m and n>o:\n",
    "    print(\"The maximum number is :\",n)\n",
    "else:\n",
    "    print(\"The maximum number is :\",o)"
   ]
  },
  {
   "cell_type": "markdown",
   "id": "cb92d2d6-4458-4efd-8326-6d4848d62f3d",
   "metadata": {},
   "source": [
    "15. Create a program that simulates a basic ATM transaction menu.\n"
   ]
  },
  {
   "cell_type": "code",
   "execution_count": 12,
   "id": "824ea0f0-3fde-40f6-b6d6-1b8430c6196b",
   "metadata": {},
   "outputs": [],
   "source": [
    "def ATM(n):\n",
    "    trans=input(\"Enter the transaction you wanna do:\")\n",
    "    if trans==\"withdraw\":\n",
    "        pin=int(input(\"Enter the pin :\"))\n",
    "        if pin==int(1234):\n",
    "            amount=int(input(\"Enter the amount :\"))\n",
    "            if amount%500==0 or amount%200==0 or amount%100==0:\n",
    "                print(\"Take your money and Thank you\")\n",
    "            else:\n",
    "                print(\"Invalid\")\n",
    "        else:\n",
    "            print(\"password not matched.\")\n",
    "    elif trans==\"deposit\":\n",
    "        pin=int(input(\"Enter the pin :\"))\n",
    "        if pin==int(1234):\n",
    "            amount=int(input(\"Enter the amount :\"))\n",
    "            if amount%500==0 or amount%200==0 or amount%100==0:\n",
    "                print(\"Your money is deposited and Thank you\")\n",
    "            else:\n",
    "                print(\"Invalid\")\n",
    "        else:\n",
    "            print(\"password not matched.\")\n",
    "    else:\n",
    "        print(\"Invalid\")"
   ]
  },
  {
   "cell_type": "code",
   "execution_count": 11,
   "id": "894c9d3e-e8f2-4e13-bc1a-ffdf4c0c7259",
   "metadata": {},
   "outputs": [
    {
     "name": "stdin",
     "output_type": "stream",
     "text": [
      "Enter the transaction you wanna do: Deposit\n",
      "Enter the pin : 1234\n",
      "Enter the amount : 5200\n"
     ]
    },
    {
     "name": "stdout",
     "output_type": "stream",
     "text": [
      "Your money is deposited and Thank you\n"
     ]
    }
   ],
   "source": [
    "ATM(n)"
   ]
  },
  {
   "cell_type": "markdown",
   "id": "1106b7c0-f282-4efa-b6f4-9f467692aa4e",
   "metadata": {},
   "source": [
    "16. Build a program that checks if a given string is a palindrome or not"
   ]
  },
  {
   "cell_type": "code",
   "execution_count": 9,
   "id": "396996f4-07ea-4903-93ac-ca6a5639ae29",
   "metadata": {},
   "outputs": [
    {
     "name": "stdin",
     "output_type": "stream",
     "text": [
      "Enter the string : kill\n"
     ]
    },
    {
     "name": "stdout",
     "output_type": "stream",
     "text": [
      "The string isn't palindrome.\n"
     ]
    }
   ],
   "source": [
    "str16=input(\"Enter the string :\")\n",
    "if str16==str16[::-1]:\n",
    "    print(\"The string is palindrome.\")\n",
    "else:\n",
    "    print(\"The string isn't palindrome.\")"
   ]
  },
  {
   "cell_type": "markdown",
   "id": "3ac4542a-793d-4011-988f-c5823556365e",
   "metadata": {},
   "source": [
    "17. Write a program that calculates the average of a list of numbers, excluding the smallest and largest values"
   ]
  },
  {
   "cell_type": "code",
   "execution_count": 17,
   "id": "5f4c8e79-ce6d-4f1f-9ce9-323dae81f0df",
   "metadata": {},
   "outputs": [
    {
     "name": "stdout",
     "output_type": "stream",
     "text": [
      "The average of the list of numbers, excluding the smallest and largest values 56.25\n"
     ]
    }
   ],
   "source": [
    "l17=[2,45,62,84,95,35,26,14,89,154]\n",
    "l17.remove(max(l17))\n",
    "l17.remove(min(l17))\n",
    "avg=sum(l17)/len(l17)\n",
    "print(\"The average of the list of numbers, excluding the smallest and largest values -\",avg)"
   ]
  },
  {
   "cell_type": "markdown",
   "id": "a8055720-6e70-457c-89e9-e34300db387a",
   "metadata": {},
   "source": [
    "18. Develop a program that converts a given temperature from Celsius to Fahrenheit."
   ]
  },
  {
   "cell_type": "code",
   "execution_count": 19,
   "id": "6b237389-50fe-45dd-b508-cd4331c60260",
   "metadata": {},
   "outputs": [
    {
     "name": "stdin",
     "output_type": "stream",
     "text": [
      "Enter the celcius : 2\n"
     ]
    },
    {
     "name": "stdout",
     "output_type": "stream",
     "text": [
      "the temperature in Fahrenheit is : 35.6\n"
     ]
    }
   ],
   "source": [
    "cel=int(input(\"Enter the celcius :\"))\n",
    "farh= cel*(9/5)+32\n",
    "print(\"the temperature in Fahrenheit is :\",farh)"
   ]
  },
  {
   "cell_type": "markdown",
   "id": "5631eb61-3fa8-4b6b-8113-0e787821fef8",
   "metadata": {},
   "source": [
    "19. Create a program that simulates a basic calculator for addition, subtraction, multiplication, and division.\n"
   ]
  },
  {
   "cell_type": "code",
   "execution_count": 1,
   "id": "a107e973-3209-490a-aaf8-5802c56f1d12",
   "metadata": {},
   "outputs": [
    {
     "name": "stdin",
     "output_type": "stream",
     "text": [
      "Enter the number 1: 6\n",
      "Enter the number2 : 4\n",
      "Enter the operation : /\n"
     ]
    },
    {
     "name": "stdout",
     "output_type": "stream",
     "text": [
      "division of 6 and 4 is 1.5\n"
     ]
    }
   ],
   "source": [
    "def cal():\n",
    "    a,b=int(input(\"Enter the number 1:\")), int(input(\"Enter the number2 :\"))\n",
    "    op=input(\"Enter the operation :\")\n",
    "    if op=='+':\n",
    "        print(f\"Addition of {a} and {b} is : {a+b}\")\n",
    "    elif op=='-':\n",
    "        print(f\"Subtraction of {a} and {b} is : {a-b}\")\n",
    "    elif op=='*':\n",
    "        print(f\"Multiplication of {a} and {b} is : {a*b}\")\n",
    "    else:\n",
    "        if op=='/':\n",
    "            print(f\"division of {a} and {b} is {a/b}\")\n",
    "cal()"
   ]
  },
  {
   "cell_type": "markdown",
   "id": "395eb052-33d0-4751-afb0-619af7826fdd",
   "metadata": {},
   "source": [
    "### Advanced level :"
   ]
  },
  {
   "cell_type": "markdown",
   "id": "2e627ff5-f540-4d43-b484-3a2af82393b3",
   "metadata": {},
   "source": [
    "21. Create a program that calculates the income tax based on the user's income and tax brackets."
   ]
  },
  {
   "cell_type": "code",
   "execution_count": 2,
   "id": "69562b11-32dd-4bbf-8785-c734e1b7cb06",
   "metadata": {},
   "outputs": [
    {
     "name": "stdin",
     "output_type": "stream",
     "text": [
      "Enter the user's income:  750000\n"
     ]
    },
    {
     "name": "stdout",
     "output_type": "stream",
     "text": [
      "The income tax rate is : 37500.0\n"
     ]
    }
   ],
   "source": [
    "income=int(input(\"Enter the user's income: \"))\n",
    "if income <= 250000 :\n",
    "    print(f\"The income tax rate is : {0}\")\n",
    "elif 250000<income<=500000:\n",
    "    rate=(income-250000)*5/100\n",
    "    print(f\"The income tax rate is : {rate}\")\n",
    "elif 500000<income<=750000:\n",
    "    rate=((income-500000)*10/100)+12500\n",
    "    print(f\"The income tax rate is : {rate}\")\n",
    "elif 750000<income<=1000000:\n",
    "    rate=((income-750000)*15/100)+37500\n",
    "    print(f\"The income tax rate is : {rate}\")\n",
    "elif 1000000<income<=1250000:\n",
    "    rate=((income-500000)*20/100)+75000\n",
    "    print(f\"The income tax rate is : {rate}\")\n",
    "elif 1250000<income<=1500000:\n",
    "    rate=((income-1250000)*25/100)+125000\n",
    "    print(f\"The income tax rate is : {rate}\")\n",
    "else:\n",
    "    rate=((income-1500000)*30/100)+187500\n",
    "    print(f\"The income tax rate is : {rate}\")"
   ]
  },
  {
   "cell_type": "markdown",
   "id": "b93d92f9-4618-45ec-9676-2a61800f4f29",
   "metadata": {},
   "source": [
    "22. Write a program that simulates a rock-paper-scissors game against the computer.\n"
   ]
  },
  {
   "cell_type": "code",
   "execution_count": 16,
   "id": "a12d677a-aba3-40b7-8fb3-500bcf947778",
   "metadata": {},
   "outputs": [
    {
     "name": "stdout",
     "output_type": "stream",
     "text": [
      "Enter your choice \n",
      " 1 - Rock \n",
      " 2 - Paper \n",
      " 3 - Scissors \n",
      "\n"
     ]
    },
    {
     "name": "stdin",
     "output_type": "stream",
     "text": [
      "Enter the choice 2\n"
     ]
    },
    {
     "name": "stdout",
     "output_type": "stream",
     "text": [
      "User choice is : 2 \n",
      " computer choice is : 1\n",
      "Computer wins.\n"
     ]
    }
   ],
   "source": [
    "import random\n",
    "print(\"Enter your choice \\n 1 - Rock \\n 2 - Paper \\n 3 - Scissors \\n\")\n",
    "user_choice=int(input(\"Enter the choice\"))\n",
    "comp_choice=random.randint(1,3)\n",
    "print(f\"User choice is : {user_choice} \\n computer choice is : {comp_choice}\")\n",
    "result=\" \"\n",
    "if user_choice<1 or user_choice>=4:\n",
    "    print(\"Invalid\")\n",
    "elif user_choice==comp_choice:\n",
    "    result=\"draw\"\n",
    "elif user_choice==1 and comp_choice==2:\n",
    "    result=\"Paper\"\n",
    "elif user_choice==1 and comp_choice==3:\n",
    "    result=\"Rock\"\n",
    "elif user_choice==2 and comp_choice==1:\n",
    "    result=\"Paper\"\n",
    "elif user_choice==2 and comp_choice==3:\n",
    "    result=\"Scissors\"\n",
    "elif user_choice==3 and comp_choice==1:\n",
    "    result=\"Rock\"\n",
    "elif user_choice==3 and comp_choice==2:\n",
    "    result=\"Scissors\"\n",
    "\n",
    "if result=='draw':\n",
    "    print(\"Tie\")\n",
    "elif result==user_choice:\n",
    "    print(\"User wins\")\n",
    "else:\n",
    "    print(\"Computer wins.\")"
   ]
  },
  {
   "cell_type": "markdown",
   "id": "16aeb968-3ad0-4175-9f7d-87043cd5d8ee",
   "metadata": {},
   "source": [
    "23.Develop a program that generates a random password based on user preferences (length, complexity).\n"
   ]
  },
  {
   "cell_type": "code",
   "execution_count": 3,
   "id": "eec06cbd-f33a-43cf-aa08-db631931a441",
   "metadata": {},
   "outputs": [
    {
     "name": "stdout",
     "output_type": "stream",
     "text": [
      "Choose character set for password from these : \n",
      "         1. Digits\n",
      "         2. Letters\n",
      "         3. Special characters\n",
      "         4. Exit\n"
     ]
    },
    {
     "name": "stdin",
     "output_type": "stream",
     "text": [
      "Enter password length:  5\n",
      "pick a number:  1\n",
      "pick a number:  1\n",
      "pick a number:  2\n",
      "pick a number:  2\n",
      "pick a number:  3\n",
      "pick a number:  4\n"
     ]
    },
    {
     "name": "stdout",
     "output_type": "stream",
     "text": [
      "The random password is:  O!ewT\n"
     ]
    }
   ],
   "source": [
    "import random\n",
    "import string\n",
    "print('''Choose character set for password from these : \n",
    "         1. Digits\n",
    "         2. Letters\n",
    "         3. Special characters\n",
    "         4. Exit''')\n",
    "length=int(input(\"Enter password length: \"))\n",
    "\n",
    "char_list=\" \"\n",
    "while (True):\n",
    "    choice=int(input(\"pick a number: \"))\n",
    "    if choice==1:\n",
    "        char_list += string.ascii_letters\n",
    "    elif choice==2:\n",
    "        char_list += string.digits\n",
    "    elif choice==3:\n",
    "        char_list += string.punctuation\n",
    "    elif choice==4:\n",
    "        break\n",
    "    else:\n",
    "        print(\"Enter a valid choice\")\n",
    "        \n",
    "password=[]\n",
    "\n",
    "for i in range(length):\n",
    "           char=random.choice(char_list)\n",
    "           password.append(char)\n",
    "           \n",
    "        \n",
    "print(\"The random password is: \",\"\".join(password))"
   ]
  },
  {
   "cell_type": "markdown",
   "id": "72dec34f-2521-4e50-9b5a-1b0c4dc834f9",
   "metadata": {},
   "source": [
    "24. Create a program that implements a simple text-based adventure game with branching scenarios.\n"
   ]
  },
  {
   "cell_type": "code",
   "execution_count": null,
   "id": "3061a8d3-dc0a-4b90-85fe-73903ada44a0",
   "metadata": {},
   "outputs": [],
   "source": []
  },
  {
   "cell_type": "markdown",
   "id": "c930cf85-af31-4e5c-ba09-7806879996ae",
   "metadata": {},
   "source": [
    "25. Build a program that solves a linear equation for x, considering different cases.\n"
   ]
  },
  {
   "cell_type": "code",
   "execution_count": 4,
   "id": "5a5e4c5d-8b97-4453-bf6b-563221bc7a9d",
   "metadata": {},
   "outputs": [
    {
     "name": "stdout",
     "output_type": "stream",
     "text": [
      "x = 1\n"
     ]
    }
   ],
   "source": [
    "def solve(eq) :\n",
    "    n = len(eq) \n",
    "    sign = 1\n",
    "    coeff = 0\n",
    "    total = 0\n",
    "    i = 0\n",
    "    for j in range(0, n) :\n",
    "     \n",
    "        if (eq[j] == '+' or eq[j] == '-') :\n",
    "            if (j > i) :\n",
    "                total = (total + sign * int(eq[i: j]))\n",
    "            i = j\n",
    "            \n",
    "        elif (eq[j] == 'x') :\n",
    "            if ((i == j) or\n",
    "                eq[j - 1] == '+') :\n",
    "                coeff += sign\n",
    "            elif (eq[j - 1] == '-') :\n",
    "                coeff = coeff - sign\n",
    "            else :\n",
    "                coeff = (coeff + sign *int(eq[i: j]))\n",
    "            i = j + 1\n",
    "            \n",
    "        elif (eq[j] == '=') :\n",
    "            if (j > i) :\n",
    "                total = (total + sign *int(eq[i: j]))\n",
    "            sign = -1\n",
    "            i = j + 1\n",
    "         \n",
    "    if (i < n) :\n",
    "        total = (total + sign * int(eq[i: len(eq)]))\n",
    "\n",
    "    if (coeff == 0 and total == 0) :\n",
    "        return \"Infinite solutions\"\n",
    " \n",
    "    if (coeff == 0 and total) :\n",
    "        return \"No solution\"\n",
    " \n",
    "    ans = -total / coeff\n",
    "    return int(ans)\n",
    "\n",
    "eq = \"x+5=6+x-2+x\"\n",
    "print (\"x = {}\" . \n",
    "        format(solve(eq)))"
   ]
  },
  {
   "cell_type": "markdown",
   "id": "834c9df8-64b0-4ab2-b4da-1a9895224c34",
   "metadata": {},
   "source": [
    "26. Write a program that simulates a basic quiz game with multiple-choice questions and scoring.\n"
   ]
  },
  {
   "cell_type": "code",
   "execution_count": null,
   "id": "f43e8edb-6745-4a61-9531-3017ca06dad6",
   "metadata": {},
   "outputs": [],
   "source": []
  },
  {
   "cell_type": "markdown",
   "id": "75279a64-7694-4438-a1ad-2b0091c9d722",
   "metadata": {},
   "source": [
    "27. Develop a program that determines whether a given year is a prime number or not.\n"
   ]
  },
  {
   "cell_type": "code",
   "execution_count": 8,
   "id": "fa2326e7-0901-41f4-ba3d-1a4afc9e3bca",
   "metadata": {},
   "outputs": [
    {
     "name": "stdin",
     "output_type": "stream",
     "text": [
      "Enter the year:  1949\n"
     ]
    },
    {
     "name": "stdout",
     "output_type": "stream",
     "text": [
      "1949 is a prime number.\n"
     ]
    }
   ],
   "source": [
    "yr=int(input(\"Enter the year: \"))\n",
    "if yr>1:\n",
    "    for i in range(2,(yr//2)+1):\n",
    "        if yr%i==0:\n",
    "            print(f\"{yr} is not a prime number.\")\n",
    "            break\n",
    "    else:\n",
    "        print(f\"{yr} is a prime number.\")"
   ]
  },
  {
   "cell_type": "markdown",
   "id": "56d9fe34-a74f-42d9-8c35-a1b824eb0427",
   "metadata": {},
   "source": [
    "28. Create a program that sorts three numbers in ascending order using conditional statements.\n"
   ]
  },
  {
   "cell_type": "code",
   "execution_count": 17,
   "id": "03976da8-6516-4230-85f0-25e2e3f30baa",
   "metadata": {},
   "outputs": [
    {
     "name": "stdout",
     "output_type": "stream",
     "text": [
      "The three numbers in ascending numbers are: [15, 28, 32]\n"
     ]
    }
   ],
   "source": [
    "l28=[15,32,28]\n",
    "l28_asc=[]\n",
    "mx=l28[0]\n",
    "mn=l28[0]\n",
    "for i in l28:\n",
    "    if mx>i:\n",
    "        mx=i\n",
    "    if mn<i:\n",
    "        mn=i\n",
    "        \n",
    "l28_asc.append(mx)\n",
    "for i in l28:\n",
    "    if mx<i<mn:\n",
    "        l28_asc.append(i)\n",
    "l28_asc.append(mn)\n",
    "print(f\"The three numbers in ascending numbers are: {l28_asc}\")"
   ]
  },
  {
   "cell_type": "markdown",
   "id": "60d2e400-0382-4886-a5c2-8266efcb9705",
   "metadata": {},
   "source": [
    "29. Build a program that determines the roots of a quartic equation using numerical methods.\n"
   ]
  },
  {
   "cell_type": "code",
   "execution_count": 20,
   "id": "b525823a-1d10-416a-8494-38d9a9d474a0",
   "metadata": {},
   "outputs": [
    {
     "name": "stdin",
     "output_type": "stream",
     "text": [
      "Enter the 1st coefficient:  1\n",
      "Enter the 2nd coefficient:  5\n",
      "Enter the 3rd coefficient:  6\n"
     ]
    },
    {
     "name": "stdout",
     "output_type": "stream",
     "text": [
      "The roots are real and different\n",
      "The roots are : -2.0 and  -3.0  \n"
     ]
    }
   ],
   "source": [
    "import math\n",
    "a,b,c=int(input(\"Enter the 1st coefficient: \")),int(input(\"Enter the 2nd coefficient: \")),int(input(\"Enter the 3rd coefficient: \"))\n",
    "D=b**2-4*a*c\n",
    "d=math.sqrt(abs(D))\n",
    "if D>0:\n",
    "    print(\"The roots are real and different\")\n",
    "    print(f\"The roots are : {(-b+d)/2*a} and  {(-b-d)/2*a}  \")\n",
    "elif D==0:\n",
    "    print(\"Roots are real and same\")\n",
    "    print(f\"The roots are : {-b/2*a} \")\n",
    "else:\n",
    "    print(\"Roots are complex\")"
   ]
  },
  {
   "cell_type": "markdown",
   "id": "c33228bc-ac7f-44af-85f5-ac204caa5ac9",
   "metadata": {},
   "source": [
    "30. Write a program that calculates the BMI (Body Mass Index) and provides health recommendations based on the user's input.\n"
   ]
  },
  {
   "cell_type": "code",
   "execution_count": 18,
   "id": "1609e682-9514-46d7-b207-2ce9d5302cdc",
   "metadata": {},
   "outputs": [
    {
     "name": "stdin",
     "output_type": "stream",
     "text": [
      "Enter the weight in kg : 4\n",
      "Enter the height in m: 5\n"
     ]
    },
    {
     "name": "stdout",
     "output_type": "stream",
     "text": [
      "You are underweight.\n"
     ]
    }
   ],
   "source": [
    "w=float(input(\"Enter the weight in kg :\"))\n",
    "h=float(input(\"Enter the height in m:\"))\n",
    "bmi=w/h**2\n",
    "if bmi <= 18.5: \n",
    "    print(\"You are underweight.\") \n",
    "elif 18.5 < bmi <= 24.9: \n",
    "    print(\"Your weight is normal.\") \n",
    "elif 25 < bmi <= 29.29: \n",
    "    print(\"You are overweight.\") \n",
    "else: \n",
    "    print(\"You are obese.\")"
   ]
  },
  {
   "cell_type": "markdown",
   "id": "6ea1bdc2-4d7b-4ce1-acec-eb23d9d8bc94",
   "metadata": {},
   "source": [
    "### Challenge Level :"
   ]
  },
  {
   "cell_type": "markdown",
   "id": "4f94d1a2-49b7-46a5-bc77-4a6134af0f21",
   "metadata": {},
   "source": [
    "1. Create a program that validates a password based on complexity rules (length, characters, etc.).\n"
   ]
  },
  {
   "cell_type": "code",
   "execution_count": 5,
   "id": "5c723991-4dde-4d97-9dcc-8ff75724efc1",
   "metadata": {},
   "outputs": [
    {
     "name": "stdin",
     "output_type": "stream",
     "text": [
      "Enter the password:  nvh\n"
     ]
    },
    {
     "name": "stdout",
     "output_type": "stream",
     "text": [
      "Password length is not enough\n",
      "Invalid password\n"
     ]
    }
   ],
   "source": [
    "password=input(\"Enter the password: \")\n",
    "spl_char=\"@!_#$%&\"\n",
    "l,u,d,s=0,0,0,0\n",
    "if len(password)>8 or len(password)<12:\n",
    "    print(\"Password length is not enough\")\n",
    "    for i in password:\n",
    "        if i.islower():\n",
    "            l+=1\n",
    "        elif i.isupper():\n",
    "            u+=1\n",
    "        elif i.isdigit():\n",
    "            d+=1\n",
    "        elif i in spl_char:\n",
    "            s+=1\n",
    "    \n",
    "if (l>=1 and u>=1 and s>=1 and d>=1 and l+s+u+d==len(password)):\n",
    "    print(\"Valid password\")\n",
    "else:\n",
    "    print(\"Invalid password\")"
   ]
  },
  {
   "cell_type": "markdown",
   "id": "02ce1f71-cf51-48ed-9386-24e5faa56fa1",
   "metadata": {},
   "source": [
    "32 . Develop a program that performs matrix addition and subtraction based on user input.\n"
   ]
  },
  {
   "cell_type": "code",
   "execution_count": 8,
   "id": "dc54d35c-ede0-43a0-b155-ce994b4dec49",
   "metadata": {},
   "outputs": [
    {
     "name": "stdin",
     "output_type": "stream",
     "text": [
      "Enter the operation:  *\n"
     ]
    },
    {
     "name": "stdout",
     "output_type": "stream",
     "text": [
      "The matrix multiplication is: [[2 2]\n",
      " [2 2]]\n"
     ]
    }
   ],
   "source": [
    "import numpy as np\n",
    "a=np.array([[1,2],[2,1]])\n",
    "b=np.array([[2,1],[1,2]])\n",
    "op=input(\"Enter the operation: \")\n",
    "if op=='+':\n",
    "    print(f\"The matrix addition is: {a+b}\")\n",
    "elif op=='-':\n",
    "    print(f\"The matrix subtraction is: {a-b}\")\n",
    "elif op=='*':\n",
    "    print(f\"The matrix multiplication is: {a*b}\")"
   ]
  },
  {
   "cell_type": "markdown",
   "id": "2fd3d6db-e9a2-4f25-95ef-c436bd86dd81",
   "metadata": {},
   "source": [
    "33. Write a program that calculates the greatest common divisor (GCD) of two numbers using the Euclidean algorithm.\n"
   ]
  },
  {
   "cell_type": "code",
   "execution_count": 7,
   "id": "83def7f2-7f11-4c4a-98db-6fa1d7d03b6d",
   "metadata": {},
   "outputs": [
    {
     "name": "stdin",
     "output_type": "stream",
     "text": [
      "Enter 1st number : 98\n",
      "Enter 2nd number : 56\n"
     ]
    },
    {
     "name": "stdout",
     "output_type": "stream",
     "text": [
      "GCD of 98 and 56 is 14\n"
     ]
    }
   ],
   "source": [
    "a=int(input(\"Enter 1st number :\"))\n",
    "b=int(input(\"Enter 2nd number :\"))\n",
    "def gcd(a,b):\n",
    "    if a==0:\n",
    "        return b\n",
    "    if b==0:\n",
    "        return a\n",
    "    if a==b:\n",
    "        return a\n",
    "    if a>b:\n",
    "        return gcd(a-b,b)\n",
    "    return gcd(a,b-a)\n",
    "\n",
    "if(gcd(a, b)):\n",
    "    print('GCD of', a, 'and', b, 'is', gcd(a, b))\n",
    "else:\n",
    "    print('not found')"
   ]
  },
  {
   "cell_type": "markdown",
   "id": "33f22aaa-8e24-47ff-b4ad-6f23b99a9538",
   "metadata": {},
   "source": [
    "34. Build a program that performs matrix multiplication using nested loops and conditional statements.\n"
   ]
  },
  {
   "cell_type": "code",
   "execution_count": 2,
   "id": "a8fbdfbc-4416-4072-8a2e-ea1f8b8fbd06",
   "metadata": {},
   "outputs": [
    {
     "name": "stdout",
     "output_type": "stream",
     "text": [
      "[[51, 54], [59, 46], [193, 176]]\n"
     ]
    }
   ],
   "source": [
    "A = [[1,2,3],[5,3,1],[7,9,8]]\n",
    "B = [[3,4],[12,4],[8,14]]\n",
    "\n",
    "if len(A[0])!=len(B):\n",
    "    print(\"Matrix sizes are not compatible.\")\n",
    "    quit()\n",
    "\n",
    "C = []\n",
    "for row in range(len(A)):\n",
    "    curr_row = []\n",
    "    for col in range(len(B[0])):\n",
    "        curr_row.append(0)\n",
    "    C.append(curr_row)\n",
    "\n",
    "for i in range(len(A)):\n",
    "    for j in range(len(B[0])):\n",
    "        curr_val = 0\n",
    "        for k in range(len(A[0])):\n",
    "            curr_val += A[i][k]*B[k][j]\n",
    "            C[i][j] = curr_val\n",
    "print(C)"
   ]
  },
  {
   "cell_type": "markdown",
   "id": "2970fb18-2466-45ad-958f-ca11d25e9aa9",
   "metadata": {},
   "source": [
    "35. Create a program that simulates a basic text-based tic-tac-toe game against the computer.\n"
   ]
  },
  {
   "cell_type": "code",
   "execution_count": 6,
   "id": "2f9f3792-9332-4f20-bf43-5019bb171c94",
   "metadata": {},
   "outputs": [
    {
     "name": "stdout",
     "output_type": "stream",
     "text": [
      "- | - | -\n",
      "- | - | -\n",
      "- | - | -\n",
      "X's turn.\n"
     ]
    },
    {
     "name": "stdin",
     "output_type": "stream",
     "text": [
      "Choose a position from 1-9:  5\n"
     ]
    },
    {
     "name": "stdout",
     "output_type": "stream",
     "text": [
      "- | - | -\n",
      "- | X | -\n",
      "- | - | -\n",
      "O's turn.\n"
     ]
    },
    {
     "name": "stdin",
     "output_type": "stream",
     "text": [
      "Choose a position from 1-9:  2\n"
     ]
    },
    {
     "name": "stdout",
     "output_type": "stream",
     "text": [
      "- | O | -\n",
      "- | X | -\n",
      "- | - | -\n",
      "X's turn.\n"
     ]
    },
    {
     "name": "stdin",
     "output_type": "stream",
     "text": [
      "Choose a position from 1-9:  3\n"
     ]
    },
    {
     "name": "stdout",
     "output_type": "stream",
     "text": [
      "- | O | X\n",
      "- | X | -\n",
      "- | - | -\n",
      "O's turn.\n"
     ]
    },
    {
     "name": "stdin",
     "output_type": "stream",
     "text": [
      "Choose a position from 1-9:  4\n"
     ]
    },
    {
     "name": "stdout",
     "output_type": "stream",
     "text": [
      "- | O | X\n",
      "O | X | -\n",
      "- | - | -\n",
      "X's turn.\n"
     ]
    },
    {
     "name": "stdin",
     "output_type": "stream",
     "text": [
      "Choose a position from 1-9:  5\n",
      "Position already taken. Choose a different position:  7\n"
     ]
    },
    {
     "name": "stdout",
     "output_type": "stream",
     "text": [
      "- | O | X\n",
      "O | X | -\n",
      "X | - | -\n",
      "X wins!\n"
     ]
    }
   ],
   "source": [
    "b = [\"-\", \"-\", \"-\",\n",
    "     \"-\", \"-\", \"-\",\n",
    "     \"-\", \"-\", \"-\"]\n",
    "def print_board():\n",
    "    print(b[0] + \" | \" + b[1] + \" | \" + b[2])\n",
    "    print(b[3] + \" | \" + b[4] + \" | \" + b[5])\n",
    "    print(b[6] + \" | \" + b[7] + \" | \" + b[8])\n",
    "    \n",
    "def take_turn(player):\n",
    "    print(player + \"'s turn.\")\n",
    "    position = input(\"Choose a position from 1-9: \")\n",
    "    while position not in [\"1\", \"2\", \"3\", \"4\", \"5\", \"6\", \"7\", \"8\", \"9\"]:\n",
    "        position = input(\"Invalid input. Choose a position from 1-9: \")\n",
    "    position = int(position) - 1\n",
    "    while b[position] != \"-\":\n",
    "        position = int(input(\"Position already taken. Choose a different position: \")) - 1\n",
    "    b[position] = player\n",
    "    print_board()\n",
    "    \n",
    "def check_game_over():\n",
    "    if (b[0] == b[1] == b[2] != \"-\") or \\\n",
    "       (b[3] == b[4] == b[5] != \"-\") or \\\n",
    "       (b[6] == b[7] == b[8] != \"-\") or \\\n",
    "       (b[0] == b[3] == b[6] != \"-\") or \\\n",
    "       (b[1] == b[4] == b[7] != \"-\") or \\\n",
    "       (b[2] == b[5] == b[8] != \"-\") or \\\n",
    "       (b[0] == b[4] == b[8] != \"-\") or \\\n",
    "       (b[2] == b[4] == b[6] != \"-\"):\n",
    "        return \"win\"\n",
    "    elif \"-\" not in b:\n",
    "        return \"tie\"\n",
    "    else:\n",
    "        return \"play\"\n",
    "\n",
    "def play_game():\n",
    "    print_board()\n",
    "    current_player = \"X\"\n",
    "    game_over = False\n",
    "    while not game_over:\n",
    "        take_turn(current_player)\n",
    "        game_result = check_game_over()\n",
    "        if game_result == \"win\":\n",
    "            print(current_player + \" wins!\")\n",
    "            game_over = True\n",
    "        elif game_result == \"tie\":\n",
    "            print(\"It's a tie!\")\n",
    "            game_over = True\n",
    "        else:\n",
    "            current_player = \"O\" if current_player == \"X\" else \"X\"\n",
    "\n",
    "\n",
    "play_game()"
   ]
  },
  {
   "cell_type": "markdown",
   "id": "ce91d705-85c8-470f-8c5e-ab66ffc3c138",
   "metadata": {},
   "source": [
    "36. Write a program that generates Fibonacci numbers up to a specified term using iterative methods.\n"
   ]
  },
  {
   "cell_type": "code",
   "execution_count": 32,
   "id": "7b805969-5c8b-459b-999f-35617fc53dcb",
   "metadata": {},
   "outputs": [
    {
     "name": "stdout",
     "output_type": "stream",
     "text": [
      "0\n",
      "1 \n",
      "2 \n",
      "3 \n",
      "5 \n",
      "8 \n",
      "13 \n",
      "21 \n",
      "34 \n",
      "55 \n",
      "89 \n"
     ]
    }
   ],
   "source": [
    "def fib(n):\n",
    "    n1=0\n",
    "    n2=1\n",
    "    next_n=n2\n",
    "    count=1\n",
    "    print(n1)\n",
    "    while next_n<n:\n",
    "        print(next_n, end=\" \")\n",
    "        count += 1\n",
    "        n1, n2 = n2, next_n\n",
    "        next_n = n1 + n2\n",
    "        print()\n",
    "    \n",
    "    \n",
    "fib(100)"
   ]
  },
  {
   "cell_type": "markdown",
   "id": "14029496-da94-4c12-94d9-306dfdcd03c8",
   "metadata": {},
   "source": [
    "37. Develop a program that calculates the nth term of the Fibonacci sequence using memoization.\n"
   ]
  },
  {
   "cell_type": "code",
   "execution_count": 33,
   "id": "b344d01b-7a8e-4bf2-b1a9-79939f9bb63d",
   "metadata": {},
   "outputs": [
    {
     "name": "stdin",
     "output_type": "stream",
     "text": [
      "The nth term is : 10\n"
     ]
    },
    {
     "data": {
      "text/plain": [
       "55"
      ]
     },
     "execution_count": 33,
     "metadata": {},
     "output_type": "execute_result"
    }
   ],
   "source": [
    "n=int(input(\"The nth term is :\"))\n",
    "def fibonacci(n):\n",
    "    a = 0\n",
    "    b = 1\n",
    "    if n < 0:\n",
    "        print(\"Incorrect input\")\n",
    "    elif n == 0:\n",
    "        return a\n",
    "    elif n == 1:\n",
    "        return b\n",
    "    else:\n",
    "        for i in range(2, n+1):\n",
    "            c = a + b\n",
    "            a = b\n",
    "            b = c\n",
    "        return b\n",
    "    print(f\"The {n}th term of Fibonacci sequence is {fibonacci(n)}\")\n",
    "fibonacci(n)"
   ]
  },
  {
   "cell_type": "markdown",
   "id": "aceed519-d236-4ff2-99f6-0ac72b30baff",
   "metadata": {},
   "source": [
    "38. Create a program that generates a calendar for a given month and year using conditional statements.\n"
   ]
  },
  {
   "cell_type": "code",
   "execution_count": 34,
   "id": "ca493ce8-d3b2-4282-8fec-a4be21dad1d2",
   "metadata": {},
   "outputs": [
    {
     "name": "stdin",
     "output_type": "stream",
     "text": [
      "Input the year :  1999\n",
      "Input the month :  8\n"
     ]
    },
    {
     "name": "stdout",
     "output_type": "stream",
     "text": [
      "    August 1999\n",
      "Mo Tu We Th Fr Sa Su\n",
      "                   1\n",
      " 2  3  4  5  6  7  8\n",
      " 9 10 11 12 13 14 15\n",
      "16 17 18 19 20 21 22\n",
      "23 24 25 26 27 28 29\n",
      "30 31\n",
      "\n"
     ]
    }
   ],
   "source": [
    "import calendar\n",
    "y = int(input(\"Input the year : \"))\n",
    "m = int(input(\"Input the month : \"))\n",
    "\n",
    "\n",
    "print(calendar.month(y, m))"
   ]
  },
  {
   "cell_type": "markdown",
   "id": "44e75eaa-90bd-4cd4-9f65-24e9eef74ed0",
   "metadata": {},
   "source": [
    "39. Build a program that simulates a basic text-based blackjack game against the computer.\n"
   ]
  },
  {
   "cell_type": "code",
   "execution_count": null,
   "id": "c4236205-4c66-49b3-8d03-28ba4cf0347c",
   "metadata": {},
   "outputs": [],
   "source": []
  },
  {
   "cell_type": "markdown",
   "id": "62fa1820-b2c1-4936-86a0-59bff3a9ddf6",
   "metadata": {},
   "source": [
    "40. Write a program that generates the prime factors of a given number using trial division.\n",
    "\n"
   ]
  },
  {
   "cell_type": "code",
   "execution_count": 6,
   "id": "b6cc6082-66d6-46d3-beee-c17ea972e7a7",
   "metadata": {},
   "outputs": [
    {
     "name": "stdout",
     "output_type": "stream",
     "text": [
      "2\n",
      "3\n",
      "59\n"
     ]
    }
   ],
   "source": [
    "def primeFactors(n):\n",
    "    while n % 2 == 0:\n",
    "        print(2)\n",
    "        n = n // 2\n",
    "\n",
    "    for i in range(3,int(n**0.5)+1,2):\n",
    "        while n % i== 0:\n",
    "            print(i)\n",
    "            n = n // i\n",
    "    if n > 2:\n",
    "        print(n)\n",
    "         \n",
    "primeFactors(354)"
   ]
  },
  {
   "cell_type": "code",
   "execution_count": null,
   "id": "6c0385da-0a4e-4a72-a9b6-d13f483ebdca",
   "metadata": {},
   "outputs": [],
   "source": []
  },
  {
   "cell_type": "code",
   "execution_count": null,
   "id": "eb34023a-3dae-42c0-bfc2-cce7eace69d9",
   "metadata": {},
   "outputs": [],
   "source": []
  }
 ],
 "metadata": {
  "kernelspec": {
   "display_name": "Python 3 (ipykernel)",
   "language": "python",
   "name": "python3"
  },
  "language_info": {
   "codemirror_mode": {
    "name": "ipython",
    "version": 3
   },
   "file_extension": ".py",
   "mimetype": "text/x-python",
   "name": "python",
   "nbconvert_exporter": "python",
   "pygments_lexer": "ipython3",
   "version": "3.10.8"
  }
 },
 "nbformat": 4,
 "nbformat_minor": 5
}
