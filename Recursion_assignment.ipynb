{
  "cells": [
    {
      "cell_type": "markdown",
      "source": [
        "Q.1 Can you explain the logic and working of the Tower of Hanoi algorithm by writing a Java program?\n",
        "\n"
      ],
      "metadata": {
        "id": "Ey7NCu_AETsg"
      }
    },
    {
      "cell_type": "code",
      "source": [
        "def moves(n,s,d,a):\n",
        "  if n == 1:\n",
        "    return 1\n",
        "  return moves(n-1,s,a,d)+1+moves(n-1,a,d,s)"
      ],
      "metadata": {
        "id": "LVrYLLMoEf05"
      },
      "execution_count": 7,
      "outputs": []
    },
    {
      "cell_type": "code",
      "source": [
        "moves(3,'a','b','c')"
      ],
      "metadata": {
        "colab": {
          "base_uri": "https://localhost:8080/"
        },
        "id": "Zu6NAIAzGWgs",
        "outputId": "345bac0e-ab04-45e1-d813-0202c7b20a07"
      },
      "execution_count": 9,
      "outputs": [
        {
          "output_type": "execute_result",
          "data": {
            "text/plain": [
              "7"
            ]
          },
          "metadata": {},
          "execution_count": 9
        }
      ]
    },
    {
      "cell_type": "markdown",
      "metadata": {
        "id": "Mp2uOd6Cmpqv"
      },
      "source": [
        "Q. 3 Print the max value of the array [ 13, 1, -3, 22, 5]."
      ]
    },
    {
      "cell_type": "code",
      "execution_count": null,
      "metadata": {
        "colab": {
          "base_uri": "https://localhost:8080/"
        },
        "id": "D6WYKsrTlgN5",
        "outputId": "13b72986-fbc4-4f5f-d263-8743e5068ab8"
      },
      "outputs": [
        {
          "name": "stdout",
          "output_type": "stream",
          "text": [
            "22\n"
          ]
        }
      ],
      "source": [
        "# Method definition\n",
        "def max_val(arr,n):\n",
        "  if n==1:\n",
        "    return arr[0]\n",
        "  return max(arr[n-1],max_val(arr,n-1))\n",
        "\n",
        "\n",
        "# Driver code\n",
        "arr=[13,1,-3,22,5]\n",
        "n=len(arr)\n",
        "print(max_val(arr,n))"
      ]
    },
    {
      "cell_type": "markdown",
      "metadata": {
        "id": "eWcWRMIVoqbY"
      },
      "source": [
        "Q.4 Find the sum of the values of the array [92, 23, 15, -20, 10].\n"
      ]
    },
    {
      "cell_type": "code",
      "execution_count": null,
      "metadata": {
        "colab": {
          "base_uri": "https://localhost:8080/"
        },
        "id": "vFl7jK7Fot7P",
        "outputId": "6c2c093a-d936-403c-d4ae-bf5913cda3a0"
      },
      "outputs": [
        {
          "data": {
            "text/plain": [
              "120"
            ]
          },
          "execution_count": 24,
          "metadata": {},
          "output_type": "execute_result"
        }
      ],
      "source": [
        "# Method definition\n",
        "def sum_arr(arr,n):\n",
        "  if n==1:\n",
        "    return arr[n-1]\n",
        "  return arr[n-1]+sum_arr(arr,n-1)\n",
        "\n",
        "# Driver code\n",
        "arr=[92, 23, 15, -20, 10]\n",
        "n=len(arr)\n",
        "sum_arr(arr,n)"
      ]
    },
    {
      "cell_type": "markdown",
      "metadata": {
        "id": "FUqPwpjtr3y1"
      },
      "source": [
        "Q.5 Given a number n. Print if it is an armstrong number or not.An armstrong number is a number if the sum\n",
        "of every digit in that number raised to the power of total digits in that number is equal to the number.\n"
      ]
    },
    {
      "cell_type": "code",
      "execution_count": null,
      "metadata": {
        "colab": {
          "base_uri": "https://localhost:8080/"
        },
        "id": "DAffFeM1tXsu",
        "outputId": "6b94449a-3d75-4dd5-d130-8661ced66441"
      },
      "outputs": [
        {
          "data": {
            "text/plain": [
              "15"
            ]
          },
          "execution_count": 26,
          "metadata": {},
          "output_type": "execute_result"
        }
      ],
      "source": [
        "153//10"
      ]
    },
    {
      "cell_type": "code",
      "execution_count": null,
      "metadata": {
        "colab": {
          "background_save": true
        },
        "id": "hcQerMcTqj1E",
        "outputId": "4a2ad112-c600-4456-da88-84ae78af5f77"
      },
      "outputs": [
        {
          "name": "stdout",
          "output_type": "stream",
          "text": [
            "The number 15 isn't a armstrong number\n"
          ]
        }
      ],
      "source": [
        "## method definition\n",
        "def armstrong(n):\n",
        "  if n<=9:\n",
        "    return n**3\n",
        "  return (n%10)**3 +armstrong(n//10)\n",
        "\n",
        "## Driver code\n",
        "n=153\n",
        "if n==armstrong(n):\n",
        "  print(f\"The number {n} is armstrong number.\")\n",
        "else:\n",
        "  print(f\"T\")"
      ]
    }
  ],
  "metadata": {
    "colab": {
      "provenance": []
    },
    "kernelspec": {
      "display_name": "Python 3",
      "name": "python3"
    },
    "language_info": {
      "name": "python"
    }
  },
  "nbformat": 4,
  "nbformat_minor": 0
}