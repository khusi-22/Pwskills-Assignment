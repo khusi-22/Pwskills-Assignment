{
 "cells": [
  {
   "cell_type": "markdown",
   "id": "8b8f5270-723b-4026-9c38-619397ce9da0",
   "metadata": {
    "tags": []
   },
   "source": [
    "## Python Basic Variable"
   ]
  },
  {
   "cell_type": "markdown",
   "id": "4f35b927-deda-4bbf-a2b0-82bd46d5811c",
   "metadata": {},
   "source": [
    "1. Declare two variables, `x` and `y`, and assign them integer values. Swap the values of these variables without using any temporary variable."
   ]
  },
  {
   "cell_type": "code",
   "execution_count": 1,
   "id": "2940d866-71d5-4056-9e03-6d8862780b0c",
   "metadata": {},
   "outputs": [
    {
     "name": "stdout",
     "output_type": "stream",
     "text": [
      "After swapping,the variables x,y are 5 4\n"
     ]
    }
   ],
   "source": [
    "# declare and assign the integer values\n",
    "x=4\n",
    "y=5\n",
    "# swap the variables\n",
    "x,y = y,x\n",
    "print('After swapping,the variables x,y are', x ,y ) "
   ]
  },
  {
   "cell_type": "markdown",
   "id": "7702ec34-2da5-48ea-b960-e209a0d3e9b2",
   "metadata": {},
   "source": [
    "2. Create a program that calculates the area of a rectangle. Take the length and width as inputs from the user and store them in variables. Calculate and display the area."
   ]
  },
  {
   "cell_type": "code",
   "execution_count": 4,
   "id": "31a9f138-f6b2-4f54-92dd-2a35c0ad252a",
   "metadata": {},
   "outputs": [
    {
     "name": "stdin",
     "output_type": "stream",
     "text": [
      "Enter the length of the rectangle:  5\n",
      "Enter the width of the rectangle:  6\n"
     ]
    },
    {
     "name": "stdout",
     "output_type": "stream",
     "text": [
      "Area of a rectangle is: 30.0\n"
     ]
    }
   ],
   "source": [
    "# Area of a rectangle. \n",
    "l = float(input(\"Enter the length of the rectangle: \")) # length \n",
    "w = float(input(\"Enter the width of the rectangle: \")) # width\n",
    "a = l*w # calculate area by length * width\n",
    "print ('Area of a rectangle is:', a) # print the area"
   ]
  },
  {
   "cell_type": "markdown",
   "id": "64916685-1006-44d4-914d-217c1b58d93a",
   "metadata": {},
   "source": [
    "3. Write a Python program that converts temperatures from Celsius to Fahrenheit. Take the temperature in Celsius as input, store it in a variable, convert it to Fahrenheit, and display the result."
   ]
  },
  {
   "cell_type": "code",
   "execution_count": 5,
   "id": "85b1156b-88b7-425f-8bf9-c84a7709bd26",
   "metadata": {},
   "outputs": [
    {
     "name": "stdin",
     "output_type": "stream",
     "text": [
      "The temperature in Celsius is: 7\n"
     ]
    },
    {
     "name": "stdout",
     "output_type": "stream",
     "text": [
      "The temperature in Fahrenheit is 44.6\n"
     ]
    }
   ],
   "source": [
    "# convert temperatures from Celsius to Fahrenheit.\n",
    "cel = int(input(\"The temperature in Celsius is:\")) # temperature in celcius\n",
    "farh = cel*(9/5)+32 # temp in degrees Fahrenheit = (Temp in degrees Celsius * 9/5) + 32\n",
    "print('The temperature in Fahrenheit is', farh)"
   ]
  },
  {
   "cell_type": "markdown",
   "id": "60b82afe-d2cf-4071-8e5b-3fccd9d9530c",
   "metadata": {},
   "source": [
    "##  String based Questions\n"
   ]
  },
  {
   "cell_type": "markdown",
   "id": "a57c8871-a2c6-4b31-a939-7bf8060d1f19",
   "metadata": {},
   "source": [
    "1. Write a Python program that takes a string as input and prints the length of\n",
    "the string."
   ]
  },
  {
   "cell_type": "code",
   "execution_count": 7,
   "id": "8fd42346-313e-48be-8e61-6b9d6497c4ba",
   "metadata": {},
   "outputs": [
    {
     "name": "stdin",
     "output_type": "stream",
     "text": [
      "Enter a sentence: hey morning\n"
     ]
    },
    {
     "name": "stdout",
     "output_type": "stream",
     "text": [
      "Length of the string is 11\n"
     ]
    }
   ],
   "source": [
    "st = input(\"Enter a sentence:\") # st takes a string as input\n",
    "print('Length of the string is',len(st)) # prints the lengths of the string"
   ]
  },
  {
   "cell_type": "markdown",
   "id": "b0340083-1458-4a34-82af-4a6143beccd4",
   "metadata": {},
   "source": [
    "2. Create a program that takes a sentence from the user and counts the number of vowels (a, e, i, o, u) in the string."
   ]
  },
  {
   "cell_type": "code",
   "execution_count": 8,
   "id": "604f48b0-64a6-4deb-bfab-caa9be7553de",
   "metadata": {},
   "outputs": [
    {
     "name": "stdin",
     "output_type": "stream",
     "text": [
      "Enter a sentence: hey morning\n"
     ]
    },
    {
     "name": "stdout",
     "output_type": "stream",
     "text": [
      "The number of vowels in the string is: 3\n"
     ]
    }
   ],
   "source": [
    "str1= input(\"Enter a sentence:\") #get input from the user\n",
    "vowel_num =str1.count('a')+str1.count('e')+str1.count('i')+str1.count('o')+str1.count('u')\n",
    "#vowel_num is a variable that counts the number of vowels\n",
    "print(\"The number of vowels in the string is:\",vowel_num) # print the number of vowels"
   ]
  },
  {
   "cell_type": "markdown",
   "id": "69452b54-f0af-4afb-b4d5-b0ae38fc4180",
   "metadata": {
    "tags": []
   },
   "source": [
    "3. Given a string, reverse the order of characters using string slicing and print the reversed string."
   ]
  },
  {
   "cell_type": "code",
   "execution_count": 9,
   "id": "239676c9-a1af-46f9-b208-59bf4e62b691",
   "metadata": {},
   "outputs": [
    {
     "name": "stdin",
     "output_type": "stream",
     "text": [
      "Enter a string hey morning\n"
     ]
    },
    {
     "name": "stdout",
     "output_type": "stream",
     "text": [
      "Reverse string is gninrom yeh\n"
     ]
    }
   ],
   "source": [
    "str2 = input(\"Enter a string\") # take input as a string\n",
    "rev = str2[::-1]   # reverse the string\n",
    "print('Reverse string is',rev) # print the reverse string"
   ]
  },
  {
   "cell_type": "markdown",
   "id": "7812708e-9850-4487-be31-f9c480d360e9",
   "metadata": {},
   "source": [
    "4. Write a program that takes a string as input and checks if it is a palindrome (reads the same forwards and backwards)."
   ]
  },
  {
   "cell_type": "code",
   "execution_count": 10,
   "id": "d272b828-4fb1-460e-b969-a212e265eea2",
   "metadata": {},
   "outputs": [
    {
     "name": "stdin",
     "output_type": "stream",
     "text": [
      "Enter a string level\n"
     ]
    },
    {
     "name": "stdout",
     "output_type": "stream",
     "text": [
      "The string is pallindrome.\n"
     ]
    }
   ],
   "source": [
    "str3 = input(\"Enter a string\") # take input as a string\n",
    "rev_str3=str3[::-1] #reverse the string\n",
    "if str3==rev_str3: # check the string is pallindrome or not\n",
    "    print(\"The string is pallindrome.\")\n",
    "else:\n",
    "    print(\"The string is not pallindrome\")"
   ]
  },
  {
   "cell_type": "markdown",
   "id": "ed579e4c-1ff2-464d-b1cb-be39c99c54db",
   "metadata": {},
   "source": [
    "5. Create a program that takes a string as input and removes all the spaces from it. Print the modified string without spaces."
   ]
  },
  {
   "cell_type": "code",
   "execution_count": 11,
   "id": "e4a113e3-433d-4c9b-a986-6d89132f7c53",
   "metadata": {},
   "outputs": [
    {
     "name": "stdin",
     "output_type": "stream",
     "text": [
      "Enter a string hey morning\n"
     ]
    },
    {
     "name": "stdout",
     "output_type": "stream",
     "text": [
      "After removing all the space from the string: heymorning\n"
     ]
    }
   ],
   "source": [
    "str4 = input(\"Enter a string\") # take input as a string\n",
    "mod_str=str4.replace(\" \",\"\") # removing all the spaces\n",
    "print(\"After removing all the space from the string:\",mod_str)# print the modiefied string withut spaces."
   ]
  },
  {
   "cell_type": "code",
   "execution_count": null,
   "id": "b40e76c4-3613-4f03-912f-9e76fc375be9",
   "metadata": {},
   "outputs": [],
   "source": []
  }
 ],
 "metadata": {
  "kernelspec": {
   "display_name": "Python 3 (ipykernel)",
   "language": "python",
   "name": "python3"
  },
  "language_info": {
   "codemirror_mode": {
    "name": "ipython",
    "version": 3
   },
   "file_extension": ".py",
   "mimetype": "text/x-python",
   "name": "python",
   "nbconvert_exporter": "python",
   "pygments_lexer": "ipython3",
   "version": "3.10.8"
  }
 },
 "nbformat": 4,
 "nbformat_minor": 5
}
